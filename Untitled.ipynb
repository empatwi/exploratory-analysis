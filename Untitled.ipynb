{
 "cells": [
  {
   "cell_type": "markdown",
   "metadata": {},
   "source": [
    "## Importações e leitura"
   ]
  },
  {
   "cell_type": "code",
   "execution_count": 14,
   "metadata": {},
   "outputs": [
    {
     "name": "stderr",
     "output_type": "stream",
     "text": [
      "[nltk_data] Downloading package punkt to\n",
      "[nltk_data]     /home/fabianagarcia/nltk_data...\n",
      "[nltk_data]   Package punkt is already up-to-date!\n",
      "[nltk_data] Downloading package stopwords to\n",
      "[nltk_data]     /home/fabianagarcia/nltk_data...\n",
      "[nltk_data]   Package stopwords is already up-to-date!\n"
     ]
    },
    {
     "name": "stdout",
     "output_type": "stream",
     "text": [
      "Requirement already satisfied: spacy in /home/fabianagarcia/anaconda3/lib/python3.8/site-packages (3.0.6)\n",
      "Requirement already satisfied: srsly<3.0.0,>=2.4.1 in /home/fabianagarcia/anaconda3/lib/python3.8/site-packages (from spacy) (2.4.1)\n",
      "Requirement already satisfied: murmurhash<1.1.0,>=0.28.0 in /home/fabianagarcia/anaconda3/lib/python3.8/site-packages (from spacy) (1.0.5)\n",
      "Requirement already satisfied: cymem<2.1.0,>=2.0.2 in /home/fabianagarcia/anaconda3/lib/python3.8/site-packages (from spacy) (2.0.5)\n",
      "Requirement already satisfied: preshed<3.1.0,>=3.0.2 in /home/fabianagarcia/anaconda3/lib/python3.8/site-packages (from spacy) (3.0.5)\n",
      "Requirement already satisfied: numpy>=1.15.0 in /home/fabianagarcia/anaconda3/lib/python3.8/site-packages (from spacy) (1.19.2)\n",
      "Requirement already satisfied: tqdm<5.0.0,>=4.38.0 in /home/fabianagarcia/anaconda3/lib/python3.8/site-packages (from spacy) (4.50.2)\n",
      "Requirement already satisfied: typer<0.4.0,>=0.3.0 in /home/fabianagarcia/anaconda3/lib/python3.8/site-packages (from spacy) (0.3.2)\n",
      "Requirement already satisfied: pathy>=0.3.5 in /home/fabianagarcia/anaconda3/lib/python3.8/site-packages (from spacy) (0.5.2)\n",
      "Requirement already satisfied: requests<3.0.0,>=2.13.0 in /home/fabianagarcia/anaconda3/lib/python3.8/site-packages (from spacy) (2.24.0)\n",
      "Requirement already satisfied: jinja2 in /home/fabianagarcia/anaconda3/lib/python3.8/site-packages (from spacy) (2.11.2)\n",
      "Requirement already satisfied: wasabi<1.1.0,>=0.8.1 in /home/fabianagarcia/anaconda3/lib/python3.8/site-packages (from spacy) (0.8.2)\n",
      "Requirement already satisfied: pydantic<1.8.0,>=1.7.1 in /home/fabianagarcia/anaconda3/lib/python3.8/site-packages (from spacy) (1.7.4)\n",
      "Requirement already satisfied: setuptools in /home/fabianagarcia/anaconda3/lib/python3.8/site-packages (from spacy) (50.3.1.post20201107)\n",
      "Requirement already satisfied: thinc<8.1.0,>=8.0.3 in /home/fabianagarcia/anaconda3/lib/python3.8/site-packages (from spacy) (8.0.5)\n",
      "Requirement already satisfied: blis<0.8.0,>=0.4.0 in /home/fabianagarcia/anaconda3/lib/python3.8/site-packages (from spacy) (0.7.4)\n",
      "Requirement already satisfied: packaging>=20.0 in /home/fabianagarcia/anaconda3/lib/python3.8/site-packages (from spacy) (20.4)\n",
      "Requirement already satisfied: catalogue<2.1.0,>=2.0.3 in /home/fabianagarcia/anaconda3/lib/python3.8/site-packages (from spacy) (2.0.4)\n",
      "Requirement already satisfied: spacy-legacy<3.1.0,>=3.0.4 in /home/fabianagarcia/anaconda3/lib/python3.8/site-packages (from spacy) (3.0.6)\n",
      "Requirement already satisfied: click<7.2.0,>=7.1.1 in /home/fabianagarcia/anaconda3/lib/python3.8/site-packages (from typer<0.4.0,>=0.3.0->spacy) (7.1.2)\n",
      "Requirement already satisfied: smart-open<4.0.0,>=2.2.0 in /home/fabianagarcia/anaconda3/lib/python3.8/site-packages (from pathy>=0.3.5->spacy) (3.0.0)\n",
      "Requirement already satisfied: urllib3!=1.25.0,!=1.25.1,<1.26,>=1.21.1 in /home/fabianagarcia/anaconda3/lib/python3.8/site-packages (from requests<3.0.0,>=2.13.0->spacy) (1.25.11)\n",
      "Requirement already satisfied: idna<3,>=2.5 in /home/fabianagarcia/anaconda3/lib/python3.8/site-packages (from requests<3.0.0,>=2.13.0->spacy) (2.10)\n",
      "Requirement already satisfied: certifi>=2017.4.17 in /home/fabianagarcia/anaconda3/lib/python3.8/site-packages (from requests<3.0.0,>=2.13.0->spacy) (2020.6.20)\n",
      "Requirement already satisfied: chardet<4,>=3.0.2 in /home/fabianagarcia/anaconda3/lib/python3.8/site-packages (from requests<3.0.0,>=2.13.0->spacy) (3.0.4)\n",
      "Requirement already satisfied: MarkupSafe>=0.23 in /home/fabianagarcia/anaconda3/lib/python3.8/site-packages (from jinja2->spacy) (1.1.1)\n",
      "Requirement already satisfied: six in /home/fabianagarcia/anaconda3/lib/python3.8/site-packages (from packaging>=20.0->spacy) (1.15.0)\n",
      "Requirement already satisfied: pyparsing>=2.0.2 in /home/fabianagarcia/anaconda3/lib/python3.8/site-packages (from packaging>=20.0->spacy) (2.4.7)\n",
      "Requirement already satisfied: pt-core-news-sm==3.0.0 from https://github.com/explosion/spacy-models/releases/download/pt_core_news_sm-3.0.0/pt_core_news_sm-3.0.0-py3-none-any.whl#egg=pt_core_news_sm==3.0.0 in /home/fabianagarcia/anaconda3/lib/python3.8/site-packages (3.0.0)\n",
      "Requirement already satisfied: spacy<3.1.0,>=3.0.0 in /home/fabianagarcia/anaconda3/lib/python3.8/site-packages (from pt-core-news-sm==3.0.0) (3.0.6)\n",
      "Requirement already satisfied: spacy-legacy<3.1.0,>=3.0.4 in /home/fabianagarcia/anaconda3/lib/python3.8/site-packages (from spacy<3.1.0,>=3.0.0->pt-core-news-sm==3.0.0) (3.0.6)\n",
      "Requirement already satisfied: jinja2 in /home/fabianagarcia/anaconda3/lib/python3.8/site-packages (from spacy<3.1.0,>=3.0.0->pt-core-news-sm==3.0.0) (2.11.2)\n",
      "Requirement already satisfied: murmurhash<1.1.0,>=0.28.0 in /home/fabianagarcia/anaconda3/lib/python3.8/site-packages (from spacy<3.1.0,>=3.0.0->pt-core-news-sm==3.0.0) (1.0.5)\n",
      "Requirement already satisfied: tqdm<5.0.0,>=4.38.0 in /home/fabianagarcia/anaconda3/lib/python3.8/site-packages (from spacy<3.1.0,>=3.0.0->pt-core-news-sm==3.0.0) (4.50.2)\n",
      "Requirement already satisfied: pydantic<1.8.0,>=1.7.1 in /home/fabianagarcia/anaconda3/lib/python3.8/site-packages (from spacy<3.1.0,>=3.0.0->pt-core-news-sm==3.0.0) (1.7.4)\n",
      "Requirement already satisfied: preshed<3.1.0,>=3.0.2 in /home/fabianagarcia/anaconda3/lib/python3.8/site-packages (from spacy<3.1.0,>=3.0.0->pt-core-news-sm==3.0.0) (3.0.5)\n",
      "Requirement already satisfied: pathy>=0.3.5 in /home/fabianagarcia/anaconda3/lib/python3.8/site-packages (from spacy<3.1.0,>=3.0.0->pt-core-news-sm==3.0.0) (0.5.2)\n",
      "Requirement already satisfied: setuptools in /home/fabianagarcia/anaconda3/lib/python3.8/site-packages (from spacy<3.1.0,>=3.0.0->pt-core-news-sm==3.0.0) (50.3.1.post20201107)\n",
      "Requirement already satisfied: catalogue<2.1.0,>=2.0.3 in /home/fabianagarcia/anaconda3/lib/python3.8/site-packages (from spacy<3.1.0,>=3.0.0->pt-core-news-sm==3.0.0) (2.0.4)\n",
      "Requirement already satisfied: numpy>=1.15.0 in /home/fabianagarcia/anaconda3/lib/python3.8/site-packages (from spacy<3.1.0,>=3.0.0->pt-core-news-sm==3.0.0) (1.19.2)\n",
      "Requirement already satisfied: requests<3.0.0,>=2.13.0 in /home/fabianagarcia/anaconda3/lib/python3.8/site-packages (from spacy<3.1.0,>=3.0.0->pt-core-news-sm==3.0.0) (2.24.0)\n",
      "Requirement already satisfied: packaging>=20.0 in /home/fabianagarcia/anaconda3/lib/python3.8/site-packages (from spacy<3.1.0,>=3.0.0->pt-core-news-sm==3.0.0) (20.4)\n",
      "Requirement already satisfied: typer<0.4.0,>=0.3.0 in /home/fabianagarcia/anaconda3/lib/python3.8/site-packages (from spacy<3.1.0,>=3.0.0->pt-core-news-sm==3.0.0) (0.3.2)\n",
      "Requirement already satisfied: blis<0.8.0,>=0.4.0 in /home/fabianagarcia/anaconda3/lib/python3.8/site-packages (from spacy<3.1.0,>=3.0.0->pt-core-news-sm==3.0.0) (0.7.4)\n",
      "Requirement already satisfied: srsly<3.0.0,>=2.4.1 in /home/fabianagarcia/anaconda3/lib/python3.8/site-packages (from spacy<3.1.0,>=3.0.0->pt-core-news-sm==3.0.0) (2.4.1)\n",
      "Requirement already satisfied: wasabi<1.1.0,>=0.8.1 in /home/fabianagarcia/anaconda3/lib/python3.8/site-packages (from spacy<3.1.0,>=3.0.0->pt-core-news-sm==3.0.0) (0.8.2)\n",
      "Requirement already satisfied: thinc<8.1.0,>=8.0.3 in /home/fabianagarcia/anaconda3/lib/python3.8/site-packages (from spacy<3.1.0,>=3.0.0->pt-core-news-sm==3.0.0) (8.0.5)\n",
      "Requirement already satisfied: cymem<2.1.0,>=2.0.2 in /home/fabianagarcia/anaconda3/lib/python3.8/site-packages (from spacy<3.1.0,>=3.0.0->pt-core-news-sm==3.0.0) (2.0.5)\n",
      "Requirement already satisfied: MarkupSafe>=0.23 in /home/fabianagarcia/anaconda3/lib/python3.8/site-packages (from jinja2->spacy<3.1.0,>=3.0.0->pt-core-news-sm==3.0.0) (1.1.1)\n",
      "Requirement already satisfied: smart-open<4.0.0,>=2.2.0 in /home/fabianagarcia/anaconda3/lib/python3.8/site-packages (from pathy>=0.3.5->spacy<3.1.0,>=3.0.0->pt-core-news-sm==3.0.0) (3.0.0)\n",
      "Requirement already satisfied: urllib3!=1.25.0,!=1.25.1,<1.26,>=1.21.1 in /home/fabianagarcia/anaconda3/lib/python3.8/site-packages (from requests<3.0.0,>=2.13.0->spacy<3.1.0,>=3.0.0->pt-core-news-sm==3.0.0) (1.25.11)\n",
      "Requirement already satisfied: idna<3,>=2.5 in /home/fabianagarcia/anaconda3/lib/python3.8/site-packages (from requests<3.0.0,>=2.13.0->spacy<3.1.0,>=3.0.0->pt-core-news-sm==3.0.0) (2.10)\n",
      "Requirement already satisfied: chardet<4,>=3.0.2 in /home/fabianagarcia/anaconda3/lib/python3.8/site-packages (from requests<3.0.0,>=2.13.0->spacy<3.1.0,>=3.0.0->pt-core-news-sm==3.0.0) (3.0.4)\n",
      "Requirement already satisfied: certifi>=2017.4.17 in /home/fabianagarcia/anaconda3/lib/python3.8/site-packages (from requests<3.0.0,>=2.13.0->spacy<3.1.0,>=3.0.0->pt-core-news-sm==3.0.0) (2020.6.20)\n",
      "Requirement already satisfied: six in /home/fabianagarcia/anaconda3/lib/python3.8/site-packages (from packaging>=20.0->spacy<3.1.0,>=3.0.0->pt-core-news-sm==3.0.0) (1.15.0)\n",
      "Requirement already satisfied: pyparsing>=2.0.2 in /home/fabianagarcia/anaconda3/lib/python3.8/site-packages (from packaging>=20.0->spacy<3.1.0,>=3.0.0->pt-core-news-sm==3.0.0) (2.4.7)\n",
      "Requirement already satisfied: click<7.2.0,>=7.1.1 in /home/fabianagarcia/anaconda3/lib/python3.8/site-packages (from typer<0.4.0,>=0.3.0->spacy<3.1.0,>=3.0.0->pt-core-news-sm==3.0.0) (7.1.2)\n"
     ]
    },
    {
     "name": "stdout",
     "output_type": "stream",
     "text": [
      "\u001b[38;5;2m✔ Download and installation successful\u001b[0m\r\n",
      "You can now load the package via spacy.load('pt_core_news_sm')\r\n"
     ]
    }
   ],
   "source": [
    "nltk.download('punkt')\n",
    "nltk.download('stopwords')\n",
    "!pip install spacy\n",
    "!python -m spacy download pt_core_news_sm\n",
    "\n",
    "import numpy as np\n",
    "import pandas as pd\n",
    "\n",
    "import json\n",
    "\n",
    "import nltk\n",
    "from nltk.corpus import stopwords\n",
    "from nltk.tokenize import word_tokenize\n",
    "\n",
    "import pt_core_news_sm\n",
    "\n",
    "from collections import Counter\n",
    "\n",
    "import seaborn as sns\n",
    "import matplotlib.pyplot as plt"
   ]
  },
  {
   "cell_type": "code",
   "execution_count": 15,
   "metadata": {},
   "outputs": [
    {
     "data": {
      "text/plain": [
       "(738, 7)"
      ]
     },
     "metadata": {},
     "output_type": "display_data"
    },
    {
     "data": {
      "text/html": [
       "<div>\n",
       "<style scoped>\n",
       "    .dataframe tbody tr th:only-of-type {\n",
       "        vertical-align: middle;\n",
       "    }\n",
       "\n",
       "    .dataframe tbody tr th {\n",
       "        vertical-align: top;\n",
       "    }\n",
       "\n",
       "    .dataframe thead th {\n",
       "        text-align: right;\n",
       "    }\n",
       "</style>\n",
       "<table border=\"1\" class=\"dataframe\">\n",
       "  <thead>\n",
       "    <tr style=\"text-align: right;\">\n",
       "      <th></th>\n",
       "      <th>_id</th>\n",
       "      <th>created_at</th>\n",
       "      <th>tweet_content</th>\n",
       "      <th>keyword</th>\n",
       "      <th>user_location</th>\n",
       "      <th>entities</th>\n",
       "      <th>classification</th>\n",
       "    </tr>\n",
       "  </thead>\n",
       "  <tbody>\n",
       "    <tr>\n",
       "      <th>0</th>\n",
       "      <td>ObjectId(6091f3547ef2d107a44055cc)</td>\n",
       "      <td>2021-05-04 12:30:48</td>\n",
       "      <td>mds nubank nunca libera mais limite pra mim</td>\n",
       "      <td>['Nubank']</td>\n",
       "      <td>Goiânia</td>\n",
       "      <td>{'hashtags': [], 'urls': [], 'user_mentions': ...</td>\n",
       "      <td>[{\"classification\":false,\"created_at\":\"2021-05...</td>\n",
       "    </tr>\n",
       "    <tr>\n",
       "      <th>1</th>\n",
       "      <td>ObjectId(6091f3547ef2d107a44055cd)</td>\n",
       "      <td>2021-05-04 12:31:09</td>\n",
       "      <td>mais viciado que a bateria do meu celular só e...</td>\n",
       "      <td>['Coca-cola']</td>\n",
       "      <td>Balneário Camboriú</td>\n",
       "      <td>{'hashtags': [], 'urls': [], 'user_mentions': ...</td>\n",
       "      <td>[{\"classification\":false,\"created_at\":\"2021-05...</td>\n",
       "    </tr>\n",
       "    <tr>\n",
       "      <th>2</th>\n",
       "      <td>ObjectId(6091f3547ef2d107a44055ce)</td>\n",
       "      <td>2021-05-04 12:31:27</td>\n",
       "      <td>toda vez que vejo Nubank nos tt vou lá conferi...</td>\n",
       "      <td>['Nubank']</td>\n",
       "      <td>None</td>\n",
       "      <td>{'hashtags': [], 'urls': [], 'user_mentions': ...</td>\n",
       "      <td>[{\"classification\":false,\"created_at\":\"2021-05...</td>\n",
       "    </tr>\n",
       "    <tr>\n",
       "      <th>3</th>\n",
       "      <td>ObjectId(6091f3547ef2d107a44055cf)</td>\n",
       "      <td>2021-05-04 12:31:25</td>\n",
       "      <td>Pedi 10k de limite pra Nubank serasi?</td>\n",
       "      <td>['Nubank']</td>\n",
       "      <td>Rio de Janeiro, Brasil</td>\n",
       "      <td>{'hashtags': [], 'urls': [], 'user_mentions': ...</td>\n",
       "      <td>[{\"classification\":true,\"created_at\":\"2021-05-...</td>\n",
       "    </tr>\n",
       "    <tr>\n",
       "      <th>4</th>\n",
       "      <td>ObjectId(6091f3547ef2d107a44055d0)</td>\n",
       "      <td>2021-05-04 12:31:20</td>\n",
       "      <td>@kayofeer @nubank Aconteceu isso c a minha mãe...</td>\n",
       "      <td>['Nubank']</td>\n",
       "      <td>Macaé, Brasil</td>\n",
       "      <td>{'hashtags': [], 'urls': [], 'user_mentions': ...</td>\n",
       "      <td>[{\"classification\":false,\"created_at\":\"2021-05...</td>\n",
       "    </tr>\n",
       "  </tbody>\n",
       "</table>\n",
       "</div>"
      ],
      "text/plain": [
       "                                  _id           created_at  \\\n",
       "0  ObjectId(6091f3547ef2d107a44055cc)  2021-05-04 12:30:48   \n",
       "1  ObjectId(6091f3547ef2d107a44055cd)  2021-05-04 12:31:09   \n",
       "2  ObjectId(6091f3547ef2d107a44055ce)  2021-05-04 12:31:27   \n",
       "3  ObjectId(6091f3547ef2d107a44055cf)  2021-05-04 12:31:25   \n",
       "4  ObjectId(6091f3547ef2d107a44055d0)  2021-05-04 12:31:20   \n",
       "\n",
       "                                       tweet_content        keyword  \\\n",
       "0        mds nubank nunca libera mais limite pra mim     ['Nubank']   \n",
       "1  mais viciado que a bateria do meu celular só e...  ['Coca-cola']   \n",
       "2  toda vez que vejo Nubank nos tt vou lá conferi...     ['Nubank']   \n",
       "3              Pedi 10k de limite pra Nubank serasi?     ['Nubank']   \n",
       "4  @kayofeer @nubank Aconteceu isso c a minha mãe...     ['Nubank']   \n",
       "\n",
       "            user_location                                           entities  \\\n",
       "0                 Goiânia  {'hashtags': [], 'urls': [], 'user_mentions': ...   \n",
       "1      Balneário Camboriú  {'hashtags': [], 'urls': [], 'user_mentions': ...   \n",
       "2                    None  {'hashtags': [], 'urls': [], 'user_mentions': ...   \n",
       "3  Rio de Janeiro, Brasil  {'hashtags': [], 'urls': [], 'user_mentions': ...   \n",
       "4           Macaé, Brasil  {'hashtags': [], 'urls': [], 'user_mentions': ...   \n",
       "\n",
       "                                      classification  \n",
       "0  [{\"classification\":false,\"created_at\":\"2021-05...  \n",
       "1  [{\"classification\":false,\"created_at\":\"2021-05...  \n",
       "2  [{\"classification\":false,\"created_at\":\"2021-05...  \n",
       "3  [{\"classification\":true,\"created_at\":\"2021-05-...  \n",
       "4  [{\"classification\":false,\"created_at\":\"2021-05...  "
      ]
     },
     "metadata": {},
     "output_type": "display_data"
    }
   ],
   "source": [
    "df_dataset = pd.read_csv('20052021.csv')\n",
    "\n",
    "display(df_dataset.shape)\n",
    "display(df_dataset.head())"
   ]
  },
  {
   "cell_type": "markdown",
   "metadata": {},
   "source": [
    "## Engenharia de atributos"
   ]
  },
  {
   "cell_type": "code",
   "execution_count": 16,
   "metadata": {},
   "outputs": [
    {
     "data": {
      "text/plain": [
       "_id                0\n",
       "created_at         0\n",
       "tweet_content      0\n",
       "keyword            0\n",
       "user_location      1\n",
       "entities           0\n",
       "classification    72\n",
       "dtype: int64"
      ]
     },
     "metadata": {},
     "output_type": "display_data"
    }
   ],
   "source": [
    "# Verificação de valores nulos\n",
    "\n",
    "display(df_dataset.isna().sum())"
   ]
  },
  {
   "cell_type": "markdown",
   "metadata": {},
   "source": [
    "**Como existem 72 ocasiões cujos campos de classificação estão vazios, será feita a remoção desses registros**"
   ]
  },
  {
   "cell_type": "code",
   "execution_count": 17,
   "metadata": {},
   "outputs": [
    {
     "data": {
      "text/plain": [
       "(738, 4)"
      ]
     },
     "metadata": {},
     "output_type": "display_data"
    },
    {
     "data": {
      "text/html": [
       "<div>\n",
       "<style scoped>\n",
       "    .dataframe tbody tr th:only-of-type {\n",
       "        vertical-align: middle;\n",
       "    }\n",
       "\n",
       "    .dataframe tbody tr th {\n",
       "        vertical-align: top;\n",
       "    }\n",
       "\n",
       "    .dataframe thead th {\n",
       "        text-align: right;\n",
       "    }\n",
       "</style>\n",
       "<table border=\"1\" class=\"dataframe\">\n",
       "  <thead>\n",
       "    <tr style=\"text-align: right;\">\n",
       "      <th></th>\n",
       "      <th>tweet_content</th>\n",
       "      <th>keyword</th>\n",
       "      <th>user_location</th>\n",
       "      <th>classification</th>\n",
       "    </tr>\n",
       "  </thead>\n",
       "  <tbody>\n",
       "    <tr>\n",
       "      <th>0</th>\n",
       "      <td>mds nubank nunca libera mais limite pra mim</td>\n",
       "      <td>['Nubank']</td>\n",
       "      <td>Goiânia</td>\n",
       "      <td>[{\"classification\":false,\"created_at\":\"2021-05...</td>\n",
       "    </tr>\n",
       "    <tr>\n",
       "      <th>1</th>\n",
       "      <td>mais viciado que a bateria do meu celular só e...</td>\n",
       "      <td>['Coca-cola']</td>\n",
       "      <td>Balneário Camboriú</td>\n",
       "      <td>[{\"classification\":false,\"created_at\":\"2021-05...</td>\n",
       "    </tr>\n",
       "  </tbody>\n",
       "</table>\n",
       "</div>"
      ],
      "text/plain": [
       "                                       tweet_content        keyword  \\\n",
       "0        mds nubank nunca libera mais limite pra mim     ['Nubank']   \n",
       "1  mais viciado que a bateria do meu celular só e...  ['Coca-cola']   \n",
       "\n",
       "        user_location                                     classification  \n",
       "0             Goiânia  [{\"classification\":false,\"created_at\":\"2021-05...  \n",
       "1  Balneário Camboriú  [{\"classification\":false,\"created_at\":\"2021-05...  "
      ]
     },
     "metadata": {},
     "output_type": "display_data"
    }
   ],
   "source": [
    "# Remoção de atributos irrelevantes para a análise\n",
    "\n",
    "df_removed = df_dataset.drop(['_id', 'created_at', 'entities'], axis=1)\n",
    "\n",
    "display(df_removed.shape)\n",
    "display(df_removed.head(n=2))"
   ]
  },
  {
   "cell_type": "code",
   "execution_count": 18,
   "metadata": {},
   "outputs": [
    {
     "data": {
      "text/plain": [
       "(738, 4)"
      ]
     },
     "metadata": {},
     "output_type": "display_data"
    },
    {
     "data": {
      "text/plain": [
       "(666, 4)"
      ]
     },
     "metadata": {},
     "output_type": "display_data"
    }
   ],
   "source": [
    "# Remoção de amostras onde o campo de classifificação é vazio\n",
    "\n",
    "df_dropna = df_removed.dropna(subset = ['classification'])\n",
    "\n",
    "display(df_removed.shape)\n",
    "display(df_dropna.shape)"
   ]
  },
  {
   "cell_type": "markdown",
   "metadata": {},
   "source": [
    "## Análise de keywords"
   ]
  },
  {
   "cell_type": "code",
   "execution_count": 19,
   "metadata": {},
   "outputs": [
    {
     "data": {
      "text/plain": [
       "Counter({\"['Nubank']\": 236,\n",
       "         \"['Coca-cola']\": 16,\n",
       "         \"['Nike']\": 201,\n",
       "         \"['Xiaomi']\": 26,\n",
       "         \"['Coca cola']\": 64,\n",
       "         \"['SHEIN']\": 169,\n",
       "         '[]': 16,\n",
       "         \"['Boticário']\": 8,\n",
       "         \"['Nike', 'SHEIN']\": 1,\n",
       "         \"['Nike', 'Xiaomi']\": 1})"
      ]
     },
     "metadata": {},
     "output_type": "display_data"
    }
   ],
   "source": [
    "# Valores\n",
    "\n",
    "display(Counter(df_dataset[\"keyword\"]))"
   ]
  },
  {
   "cell_type": "code",
   "execution_count": 20,
   "metadata": {},
   "outputs": [
    {
     "data": {
      "text/plain": [
       "Counter({\"['Nubank']\": 221,\n",
       "         \"['Coca-cola']\": 71,\n",
       "         \"['Nike']\": 177,\n",
       "         \"['Xiaomi']\": 23,\n",
       "         \"['SHEIN']\": 150,\n",
       "         '[]': 15,\n",
       "         \"['Boticário']\": 7,\n",
       "         \"['Nike', 'SHEIN']\": 1,\n",
       "         \"['Nike', 'Xiaomi']\": 1})"
      ]
     },
     "metadata": {},
     "output_type": "display_data"
    },
    {
     "data": {
      "text/plain": [
       "<AxesSubplot:xlabel='count', ylabel='keyword'>"
      ]
     },
     "execution_count": 20,
     "metadata": {},
     "output_type": "execute_result"
    },
    {
     "data": {
      "image/png": "[encoded data removed]",
      "text/plain": [
       "<Figure size 432x288 with 1 Axes>"
      ]
     },
     "metadata": {
      "needs_background": "light"
     },
     "output_type": "display_data"
    }
   ],
   "source": [
    "# Normalização de \"Coca-Cola\"\n",
    "\n",
    "search = \"Coca cola\"\n",
    "replacement = \"Coca-cola\"\n",
    "\n",
    "df_normalized = df_dropna.copy()\n",
    "df_normalized[\"keyword\"] = df_dropna[\"keyword\"].apply(\n",
    "    lambda keywords: keywords.lower().replace(search.lower(), replacement) if search.lower() in keywords.lower() else keywords)\n",
    "\n",
    "\n",
    "# Valores\n",
    "\n",
    "display(Counter(df_normalized[\"keyword\"]))\n",
    "\n",
    "\n",
    "# Histograma\n",
    "\n",
    "sns.countplot(y=\"keyword\", data=df_normalized)"
   ]
  },
  {
   "cell_type": "markdown",
   "metadata": {},
   "source": [
    "## Tratamento da classificação\n",
    "\n",
    "Como são 3 classificações para cada registro, ganha a classificação da **maioria** dos registros\n",
    "\n",
    "Exemplos:\n",
    "\n",
    "- True, True, False => True\n",
    "- False, True, False => False"
   ]
  },
  {
   "cell_type": "code",
   "execution_count": 21,
   "metadata": {},
   "outputs": [],
   "source": [
    "# Criação de um campo de resultado de classificação com a maior ocorrência entre as classificaçações\n",
    "\n",
    "pd.options.mode.chained_assignment = None\n",
    "\n",
    "def reducer(input_dict):\n",
    "  return input_dict['classification']\n",
    "\n",
    "def get_classification(input_list):\n",
    "  return Counter(list(map(reducer, json.loads(input_list)))).most_common()[0][0]\n",
    "\n",
    "# df_classified = df_normalized.apply(lambda item: get_classification(item[2]), axis=1)\n",
    "\n",
    "df_normalized['classified'] = df_normalized['classification'].map(lambda classification_list: get_classification(classification_list))\n",
    "\n",
    "df_classified = df_normalized.drop(['classification'], axis=1)"
   ]
  },
  {
   "cell_type": "code",
   "execution_count": 22,
   "metadata": {},
   "outputs": [
    {
     "data": {
      "text/html": [
       "<div>\n",
       "<style scoped>\n",
       "    .dataframe tbody tr th:only-of-type {\n",
       "        vertical-align: middle;\n",
       "    }\n",
       "\n",
       "    .dataframe tbody tr th {\n",
       "        vertical-align: top;\n",
       "    }\n",
       "\n",
       "    .dataframe thead th {\n",
       "        text-align: right;\n",
       "    }\n",
       "</style>\n",
       "<table border=\"1\" class=\"dataframe\">\n",
       "  <thead>\n",
       "    <tr style=\"text-align: right;\">\n",
       "      <th></th>\n",
       "      <th>tweet_content</th>\n",
       "      <th>keyword</th>\n",
       "      <th>user_location</th>\n",
       "      <th>classified</th>\n",
       "    </tr>\n",
       "  </thead>\n",
       "  <tbody>\n",
       "    <tr>\n",
       "      <th>0</th>\n",
       "      <td>mds nubank nunca libera mais limite pra mim</td>\n",
       "      <td>['Nubank']</td>\n",
       "      <td>Goiânia</td>\n",
       "      <td>0.0</td>\n",
       "    </tr>\n",
       "    <tr>\n",
       "      <th>1</th>\n",
       "      <td>mais viciado que a bateria do meu celular só e...</td>\n",
       "      <td>['Coca-cola']</td>\n",
       "      <td>Balneário Camboriú</td>\n",
       "      <td>1.0</td>\n",
       "    </tr>\n",
       "    <tr>\n",
       "      <th>2</th>\n",
       "      <td>toda vez que vejo Nubank nos tt vou lá conferi...</td>\n",
       "      <td>['Nubank']</td>\n",
       "      <td>None</td>\n",
       "      <td>0.0</td>\n",
       "    </tr>\n",
       "    <tr>\n",
       "      <th>3</th>\n",
       "      <td>Pedi 10k de limite pra Nubank serasi?</td>\n",
       "      <td>['Nubank']</td>\n",
       "      <td>Rio de Janeiro, Brasil</td>\n",
       "      <td>1.0</td>\n",
       "    </tr>\n",
       "    <tr>\n",
       "      <th>4</th>\n",
       "      <td>@kayofeer @nubank Aconteceu isso c a minha mãe...</td>\n",
       "      <td>['Nubank']</td>\n",
       "      <td>Macaé, Brasil</td>\n",
       "      <td>1.0</td>\n",
       "    </tr>\n",
       "  </tbody>\n",
       "</table>\n",
       "</div>"
      ],
      "text/plain": [
       "                                       tweet_content        keyword  \\\n",
       "0        mds nubank nunca libera mais limite pra mim     ['Nubank']   \n",
       "1  mais viciado que a bateria do meu celular só e...  ['Coca-cola']   \n",
       "2  toda vez que vejo Nubank nos tt vou lá conferi...     ['Nubank']   \n",
       "3              Pedi 10k de limite pra Nubank serasi?     ['Nubank']   \n",
       "4  @kayofeer @nubank Aconteceu isso c a minha mãe...     ['Nubank']   \n",
       "\n",
       "            user_location  classified  \n",
       "0                 Goiânia         0.0  \n",
       "1      Balneário Camboriú         1.0  \n",
       "2                    None         0.0  \n",
       "3  Rio de Janeiro, Brasil         1.0  \n",
       "4           Macaé, Brasil         1.0  "
      ]
     },
     "metadata": {},
     "output_type": "display_data"
    }
   ],
   "source": [
    "# Transformação numérica da classificação\n",
    "\n",
    "df_classified['classified'][df_classified['classified'] == True] = 1\n",
    "df_classified['classified'][df_classified['classified'] == False] = 0\n",
    "\n",
    "display(df_classified.head())"
   ]
  },
  {
   "cell_type": "markdown",
   "metadata": {},
   "source": [
    "## Tokenização e remoção das stopwords"
   ]
  },
  {
   "cell_type": "code",
   "execution_count": 23,
   "metadata": {},
   "outputs": [],
   "source": [
    "def limpar_texto(texto):\n",
    "    '''\n",
    "    Função para converter todas as letras para sua forma minúscula, selecionar apenas as letras,\n",
    "    remover stopwords e lematizar o texto.  \n",
    "    '''\n",
    "    nlp = pt_core_news_sm.load()\n",
    "    \n",
    "    # Removendo as marcas para que elas não apareçam nas wordclouds, pois consomem muito espaço\n",
    "    marcas = ['nubank', 'shein', 'nike', 'coca', 'cola', 'xiaomi', 'adidas', 'boticário',\n",
    "             'puma']\n",
    "    \n",
    "    # Stopwords que tiveram que ser adicionadas manualmente\n",
    "    custom_stops = ['pra', 'q', '_', 'vai', 'vc', 'tá', 'gente', 'tô', 'to', 'aqui', 'tava',\n",
    "                   'ta', 'tá', 'hoje', 'hj', '-', 'eh', 'so', 'n', 'c', 'mó', 'modalmais',\n",
    "                   'ouotison', 'tbm', 'tão', 'aí', 'nu', 'p', 'mano', 'nois', 'pro', 'umas',\n",
    "                   'uns', 'então', 'x', 'ne', 'kkkkkkkk', 'kkk', 'vou', 'vcs', 'kkkkk', \n",
    "                    'nicole', 'kkkk', 'vivianlana', 'gabriel_geno', 'ai', 'tou', 'vir', 'ja', \n",
    "                    'já', 'pq', 'amg', 'ti', 'onde', 'meio', 'outro', 'amigo', 'sep_bella',\n",
    "                   '_gabriel_geno_', 'manu', 'ir', 'tt', 'mim', 'psg', 'sep_bella_', 's',\n",
    "                   'tudo', 'todo', 'todos', 'rodrigobuenotv', 'limite', 'aumentar', 'querer', \n",
    "                    'fazer', 'querer', 'comprar', 'ser', 'nathalia', 'mt', 'en', 'd']\n",
    "    \n",
    "    # Palavras identificadas como indiferentes após teste das wordclouds\n",
    "    palavras_iguais = ['limite', 'aumentar', 'queria', 'faz', 'quero', 'comprar', 'ser']\n",
    "\n",
    "    minusculas = texto.lower()\n",
    "    letras = re.findall(r'\\b[A-zÀ-úü]+\\b', minusculas) \n",
    "    stops = set(stopwords.words('portuguese')) \n",
    "    palavras_sem_stopwords = [w for w in letras if \n",
    "                            w not in stops and \n",
    "                            w not in marcas and \n",
    "                            w not in custom_stops and\n",
    "                            w not in palavras_iguais]\n",
    "    palavras_importantes = \" \".join(palavras_sem_stopwords)\n",
    "\n",
    "    spc_letras = nlp(palavras_importantes)\n",
    "    lemmas = [token.lemma_ if token.pos_ == 'VERB' else str(token) for token in spc_letras]\n",
    "    texto_limpo = \" \".join(lemmas)\n",
    "    \n",
    "    return texto_limpo"
   ]
  },
  {
   "cell_type": "markdown",
   "metadata": {},
   "source": [
    "### Funções de plotagem de alguns gráficos e wordclouds"
   ]
  },
  {
   "cell_type": "code",
   "execution_count": 24,
   "metadata": {},
   "outputs": [
    {
     "ename": "ModuleNotFoundError",
     "evalue": "No module named 'wordcloud'",
     "output_type": "error",
     "traceback": [
      "\u001b[0;31m---------------------------------------------------------------------------\u001b[0m",
      "\u001b[0;31mModuleNotFoundError\u001b[0m                       Traceback (most recent call last)",
      "\u001b[0;32m<ipython-input-24-c38d77001b6d>\u001b[0m in \u001b[0;36m<module>\u001b[0;34m\u001b[0m\n\u001b[1;32m      1\u001b[0m \u001b[0;32mimport\u001b[0m \u001b[0mmatplotlib\u001b[0m\u001b[0;34m.\u001b[0m\u001b[0mpyplot\u001b[0m \u001b[0;32mas\u001b[0m \u001b[0mplt\u001b[0m\u001b[0;34m\u001b[0m\u001b[0;34m\u001b[0m\u001b[0m\n\u001b[0;32m----> 2\u001b[0;31m \u001b[0;32mfrom\u001b[0m \u001b[0mwordcloud\u001b[0m \u001b[0;32mimport\u001b[0m \u001b[0mWordCloud\u001b[0m\u001b[0;34m\u001b[0m\u001b[0;34m\u001b[0m\u001b[0m\n\u001b[0m\u001b[1;32m      3\u001b[0m \u001b[0;34m\u001b[0m\u001b[0m\n\u001b[1;32m      4\u001b[0m \u001b[0;32mdef\u001b[0m \u001b[0mplot_cloud\u001b[0m\u001b[0;34m(\u001b[0m\u001b[0mwordcloud\u001b[0m\u001b[0;34m)\u001b[0m\u001b[0;34m:\u001b[0m\u001b[0;34m\u001b[0m\u001b[0;34m\u001b[0m\u001b[0m\n\u001b[1;32m      5\u001b[0m     \u001b[0mplt\u001b[0m\u001b[0;34m.\u001b[0m\u001b[0mfigure\u001b[0m\u001b[0;34m(\u001b[0m\u001b[0mfigsize\u001b[0m\u001b[0;34m=\u001b[0m\u001b[0;34m(\u001b[0m\u001b[0;36m40\u001b[0m\u001b[0;34m,\u001b[0m \u001b[0;36m30\u001b[0m\u001b[0;34m)\u001b[0m\u001b[0;34m)\u001b[0m\u001b[0;34m\u001b[0m\u001b[0;34m\u001b[0m\u001b[0m\n",
      "\u001b[0;31mModuleNotFoundError\u001b[0m: No module named 'wordcloud'"
     ]
    }
   ],
   "source": [
    "import matplotlib.pyplot as plt\n",
    "from wordcloud import WordCloud\n",
    "\n",
    "def plot_cloud(wordcloud):\n",
    "    plt.figure(figsize=(40, 30))\n",
    "    plt.imshow(wordcloud) \n",
    "    plt.axis(\"off\")\n",
    "    \n",
    "def plot_tweet_avg_lenght(df):\n",
    "    return df['tweet_content'].str.len().hist()\n",
    "\n",
    "def plot_word_number_histogram(text):\n",
    "    text.str.split().\\\n",
    "        map(lambda x: len(x)).\\\n",
    "        hist()\n",
    "    \n",
    "def plot_average_word_lenght(text):\n",
    "    text.str.split().\\\n",
    "        apply(lambda x : [len(i) for i in x]). \\\n",
    "        map(lambda x: np.mean(x)).hist()"
   ]
  },
  {
   "cell_type": "code",
   "execution_count": null,
   "metadata": {},
   "outputs": [],
   "source": []
  }
 ],
 "metadata": {
  "kernelspec": {
   "display_name": "Python 3",
   "language": "python",
   "name": "python3"
  },
  "language_info": {
   "codemirror_mode": {
    "name": "ipython",
    "version": 3
   },
   "file_extension": ".py",
   "mimetype": "text/x-python",
   "name": "python",
   "nbconvert_exporter": "python",
   "pygments_lexer": "ipython3",
   "version": "3.8.5"
  }
 },
 "nbformat": 4,
 "nbformat_minor": 4
}
