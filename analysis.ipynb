{
 "cells": [
  {
   "cell_type": "markdown",
   "metadata": {
    "id": "1Ae-xzl9w15A"
   },
   "source": [
    "# **Importações e leitura**"
   ]
  },
  {
   "cell_type": "code",
   "execution_count": 99,
   "metadata": {
    "id": "8RkITr_6YwnC"
   },
   "outputs": [],
   "source": [
    "# Importações\n",
    "\n",
    "import numpy as np\n",
    "import pandas as pd\n",
    "\n",
    "import json\n",
    "\n",
    "import nltk\n",
    "from nltk.corpus import stopwords\n",
    "\n",
    "from collections import Counter\n",
    "\n",
    "import seaborn as sns\n",
    "import matplotlib.pyplot as plt"
   ]
  },
  {
   "cell_type": "code",
   "execution_count": 100,
   "metadata": {
    "colab": {
     "base_uri": "https://localhost:8080/"
    },
    "id": "eIhLuMfhoP3R",
    "outputId": "f61baf0e-7a19-4a6a-a889-8f45d60c0f50"
   },
   "outputs": [
    {
     "data": {
      "text/plain": [
       "(738, 7)"
      ]
     },
     "metadata": {},
     "output_type": "display_data"
    },
    {
     "data": {
      "text/html": [
       "<div>\n",
       "<style scoped>\n",
       "    .dataframe tbody tr th:only-of-type {\n",
       "        vertical-align: middle;\n",
       "    }\n",
       "\n",
       "    .dataframe tbody tr th {\n",
       "        vertical-align: top;\n",
       "    }\n",
       "\n",
       "    .dataframe thead th {\n",
       "        text-align: right;\n",
       "    }\n",
       "</style>\n",
       "<table border=\"1\" class=\"dataframe\">\n",
       "  <thead>\n",
       "    <tr style=\"text-align: right;\">\n",
       "      <th></th>\n",
       "      <th>_id</th>\n",
       "      <th>created_at</th>\n",
       "      <th>tweet_content</th>\n",
       "      <th>keyword</th>\n",
       "      <th>user_location</th>\n",
       "      <th>entities</th>\n",
       "      <th>classification</th>\n",
       "    </tr>\n",
       "  </thead>\n",
       "  <tbody>\n",
       "    <tr>\n",
       "      <th>0</th>\n",
       "      <td>ObjectId(6091f3547ef2d107a44055cc)</td>\n",
       "      <td>2021-05-04 12:30:48</td>\n",
       "      <td>mds nubank nunca libera mais limite pra mim</td>\n",
       "      <td>['Nubank']</td>\n",
       "      <td>Goiânia</td>\n",
       "      <td>{'hashtags': [], 'urls': [], 'user_mentions': ...</td>\n",
       "      <td>[{\"classification\":false,\"created_at\":\"2021-05...</td>\n",
       "    </tr>\n",
       "    <tr>\n",
       "      <th>1</th>\n",
       "      <td>ObjectId(6091f3547ef2d107a44055cd)</td>\n",
       "      <td>2021-05-04 12:31:09</td>\n",
       "      <td>mais viciado que a bateria do meu celular só e...</td>\n",
       "      <td>['Coca-cola']</td>\n",
       "      <td>Balneário Camboriú</td>\n",
       "      <td>{'hashtags': [], 'urls': [], 'user_mentions': ...</td>\n",
       "      <td>[{\"classification\":false,\"created_at\":\"2021-05...</td>\n",
       "    </tr>\n",
       "    <tr>\n",
       "      <th>2</th>\n",
       "      <td>ObjectId(6091f3547ef2d107a44055ce)</td>\n",
       "      <td>2021-05-04 12:31:27</td>\n",
       "      <td>toda vez que vejo Nubank nos tt vou lá conferi...</td>\n",
       "      <td>['Nubank']</td>\n",
       "      <td>None</td>\n",
       "      <td>{'hashtags': [], 'urls': [], 'user_mentions': ...</td>\n",
       "      <td>[{\"classification\":false,\"created_at\":\"2021-05...</td>\n",
       "    </tr>\n",
       "    <tr>\n",
       "      <th>3</th>\n",
       "      <td>ObjectId(6091f3547ef2d107a44055cf)</td>\n",
       "      <td>2021-05-04 12:31:25</td>\n",
       "      <td>Pedi 10k de limite pra Nubank serasi?</td>\n",
       "      <td>['Nubank']</td>\n",
       "      <td>Rio de Janeiro, Brasil</td>\n",
       "      <td>{'hashtags': [], 'urls': [], 'user_mentions': ...</td>\n",
       "      <td>[{\"classification\":true,\"created_at\":\"2021-05-...</td>\n",
       "    </tr>\n",
       "    <tr>\n",
       "      <th>4</th>\n",
       "      <td>ObjectId(6091f3547ef2d107a44055d0)</td>\n",
       "      <td>2021-05-04 12:31:20</td>\n",
       "      <td>@kayofeer @nubank Aconteceu isso c a minha mãe...</td>\n",
       "      <td>['Nubank']</td>\n",
       "      <td>Macaé, Brasil</td>\n",
       "      <td>{'hashtags': [], 'urls': [], 'user_mentions': ...</td>\n",
       "      <td>[{\"classification\":false,\"created_at\":\"2021-05...</td>\n",
       "    </tr>\n",
       "  </tbody>\n",
       "</table>\n",
       "</div>"
      ],
      "text/plain": [
       "                                  _id           created_at  \\\n",
       "0  ObjectId(6091f3547ef2d107a44055cc)  2021-05-04 12:30:48   \n",
       "1  ObjectId(6091f3547ef2d107a44055cd)  2021-05-04 12:31:09   \n",
       "2  ObjectId(6091f3547ef2d107a44055ce)  2021-05-04 12:31:27   \n",
       "3  ObjectId(6091f3547ef2d107a44055cf)  2021-05-04 12:31:25   \n",
       "4  ObjectId(6091f3547ef2d107a44055d0)  2021-05-04 12:31:20   \n",
       "\n",
       "                                       tweet_content        keyword  \\\n",
       "0        mds nubank nunca libera mais limite pra mim     ['Nubank']   \n",
       "1  mais viciado que a bateria do meu celular só e...  ['Coca-cola']   \n",
       "2  toda vez que vejo Nubank nos tt vou lá conferi...     ['Nubank']   \n",
       "3              Pedi 10k de limite pra Nubank serasi?     ['Nubank']   \n",
       "4  @kayofeer @nubank Aconteceu isso c a minha mãe...     ['Nubank']   \n",
       "\n",
       "            user_location                                           entities  \\\n",
       "0                 Goiânia  {'hashtags': [], 'urls': [], 'user_mentions': ...   \n",
       "1      Balneário Camboriú  {'hashtags': [], 'urls': [], 'user_mentions': ...   \n",
       "2                    None  {'hashtags': [], 'urls': [], 'user_mentions': ...   \n",
       "3  Rio de Janeiro, Brasil  {'hashtags': [], 'urls': [], 'user_mentions': ...   \n",
       "4           Macaé, Brasil  {'hashtags': [], 'urls': [], 'user_mentions': ...   \n",
       "\n",
       "                                      classification  \n",
       "0  [{\"classification\":false,\"created_at\":\"2021-05...  \n",
       "1  [{\"classification\":false,\"created_at\":\"2021-05...  \n",
       "2  [{\"classification\":false,\"created_at\":\"2021-05...  \n",
       "3  [{\"classification\":true,\"created_at\":\"2021-05-...  \n",
       "4  [{\"classification\":false,\"created_at\":\"2021-05...  "
      ]
     },
     "metadata": {},
     "output_type": "display_data"
    }
   ],
   "source": [
    "# Leitura dos dados\n",
    "\n",
    "df_dataset = pd.read_csv('20052021.csv')\n",
    "\n",
    "display(df_dataset.shape)\n",
    "display(df_dataset.head())"
   ]
  },
  {
   "cell_type": "markdown",
   "metadata": {
    "id": "JINDwM1MxMgt"
   },
   "source": [
    "## **Engenharia de atributos**"
   ]
  },
  {
   "cell_type": "code",
   "execution_count": 101,
   "metadata": {
    "colab": {
     "base_uri": "https://localhost:8080/",
     "height": 153
    },
    "id": "9XrK5mWwZI0t",
    "outputId": "1e6c0e6a-db11-4e1a-ff4f-7746fd1d0bb7"
   },
   "outputs": [
    {
     "data": {
      "text/plain": [
       "_id                0\n",
       "created_at         0\n",
       "tweet_content      0\n",
       "keyword            0\n",
       "user_location      1\n",
       "entities           0\n",
       "classification    72\n",
       "dtype: int64"
      ]
     },
     "metadata": {},
     "output_type": "display_data"
    }
   ],
   "source": [
    "# Verificação de valores nulos\n",
    "\n",
    "display(df_dataset.isna().sum())\n",
    "# display(df_dataset[df_dataset.isnull().any(axis=1)])"
   ]
  },
  {
   "cell_type": "markdown",
   "metadata": {
    "id": "moGsreVdaH_F"
   },
   "source": [
    "**Como existem 72 ocasiões cujos campos de classificação estão vazios, será feita a remoção desses registros**"
   ]
  },
  {
   "cell_type": "code",
   "execution_count": 102,
   "metadata": {
    "colab": {
     "base_uri": "https://localhost:8080/",
     "height": 128
    },
    "id": "sBp_9y2UoBux",
    "outputId": "acc82ce3-5ba5-4b96-bb32-4cda928e299c"
   },
   "outputs": [
    {
     "data": {
      "text/plain": [
       "(738, 3)"
      ]
     },
     "metadata": {},
     "output_type": "display_data"
    },
    {
     "data": {
      "text/html": [
       "<div>\n",
       "<style scoped>\n",
       "    .dataframe tbody tr th:only-of-type {\n",
       "        vertical-align: middle;\n",
       "    }\n",
       "\n",
       "    .dataframe tbody tr th {\n",
       "        vertical-align: top;\n",
       "    }\n",
       "\n",
       "    .dataframe thead th {\n",
       "        text-align: right;\n",
       "    }\n",
       "</style>\n",
       "<table border=\"1\" class=\"dataframe\">\n",
       "  <thead>\n",
       "    <tr style=\"text-align: right;\">\n",
       "      <th></th>\n",
       "      <th>tweet_content</th>\n",
       "      <th>keyword</th>\n",
       "      <th>classification</th>\n",
       "    </tr>\n",
       "  </thead>\n",
       "  <tbody>\n",
       "    <tr>\n",
       "      <th>0</th>\n",
       "      <td>mds nubank nunca libera mais limite pra mim</td>\n",
       "      <td>['Nubank']</td>\n",
       "      <td>[{\"classification\":false,\"created_at\":\"2021-05...</td>\n",
       "    </tr>\n",
       "    <tr>\n",
       "      <th>1</th>\n",
       "      <td>mais viciado que a bateria do meu celular só e...</td>\n",
       "      <td>['Coca-cola']</td>\n",
       "      <td>[{\"classification\":false,\"created_at\":\"2021-05...</td>\n",
       "    </tr>\n",
       "  </tbody>\n",
       "</table>\n",
       "</div>"
      ],
      "text/plain": [
       "                                       tweet_content        keyword  \\\n",
       "0        mds nubank nunca libera mais limite pra mim     ['Nubank']   \n",
       "1  mais viciado que a bateria do meu celular só e...  ['Coca-cola']   \n",
       "\n",
       "                                      classification  \n",
       "0  [{\"classification\":false,\"created_at\":\"2021-05...  \n",
       "1  [{\"classification\":false,\"created_at\":\"2021-05...  "
      ]
     },
     "metadata": {},
     "output_type": "display_data"
    }
   ],
   "source": [
    "# Remoção de atributos irrelevantes para a análise\n",
    "\n",
    "df_removed = df_dataset.drop(['_id', 'created_at', 'user_location', 'entities'], axis=1)\n",
    "\n",
    "display(df_removed.shape)\n",
    "display(df_removed.head(n=2))"
   ]
  },
  {
   "cell_type": "code",
   "execution_count": 103,
   "metadata": {
    "colab": {
     "base_uri": "https://localhost:8080/",
     "height": 51
    },
    "id": "tOOqmohgccZr",
    "outputId": "5fefb629-ed26-42d0-a5de-5b05141025a0"
   },
   "outputs": [
    {
     "data": {
      "text/plain": [
       "(738, 3)"
      ]
     },
     "metadata": {},
     "output_type": "display_data"
    },
    {
     "data": {
      "text/plain": [
       "(666, 3)"
      ]
     },
     "metadata": {},
     "output_type": "display_data"
    }
   ],
   "source": [
    "# Remoção de amostras onde o campo de classifificação é vazio\n",
    "\n",
    "df_dropna = df_removed.dropna(subset = ['classification'])\n",
    "\n",
    "display(df_removed.shape)\n",
    "display(df_dropna.shape)"
   ]
  },
  {
   "cell_type": "markdown",
   "metadata": {
    "id": "NtCBHyrTyI87"
   },
   "source": [
    "### **Análise de keywords**"
   ]
  },
  {
   "cell_type": "code",
   "execution_count": 104,
   "metadata": {
    "colab": {
     "base_uri": "https://localhost:8080/",
     "height": 466
    },
    "id": "9Ve9zizpyGrn",
    "outputId": "aa54946e-a2f3-4c77-c71f-ce2e47c7d2e4"
   },
   "outputs": [
    {
     "data": {
      "text/plain": [
       "Counter({\"['Nubank']\": 236,\n",
       "         \"['Coca-cola']\": 16,\n",
       "         \"['Nike']\": 201,\n",
       "         \"['Xiaomi']\": 26,\n",
       "         \"['Coca cola']\": 64,\n",
       "         \"['SHEIN']\": 169,\n",
       "         '[]': 16,\n",
       "         \"['Boticário']\": 8,\n",
       "         \"['Nike', 'SHEIN']\": 1,\n",
       "         \"['Nike', 'Xiaomi']\": 1})"
      ]
     },
     "metadata": {},
     "output_type": "display_data"
    }
   ],
   "source": [
    "# Valores\n",
    "\n",
    "display(Counter(df_dataset[\"keyword\"]))"
   ]
  },
  {
   "cell_type": "code",
   "execution_count": 105,
   "metadata": {
    "id": "ntsVEYI50P1B"
   },
   "outputs": [],
   "source": [
    "# Outro modo para gerar o mesmo gráfico\n",
    "\n",
    "# plt.hist(df_dataset[\"keyword\"].values, bins=20, color='red', edgecolor='black', linewidth=0.9)\n",
    "# plt.xticks(rotation=90)\n",
    "# plt.show()"
   ]
  },
  {
   "cell_type": "markdown",
   "metadata": {
    "id": "gaIJB_XuLl10"
   },
   "source": [
    "**Como existem 2 grafias distintas para \"Coca-cola\", será feita uma normalização desses valores**"
   ]
  },
  {
   "cell_type": "code",
   "execution_count": 106,
   "metadata": {
    "colab": {
     "base_uri": "https://localhost:8080/",
     "height": 170
    },
    "id": "_Y0g74P0AzbR",
    "outputId": "36b80a8c-d8b6-4f34-833c-c16a86bea2be"
   },
   "outputs": [
    {
     "data": {
      "text/plain": [
       "Counter({\"['Nubank']\": 221,\n",
       "         \"['Coca-cola']\": 71,\n",
       "         \"['Nike']\": 177,\n",
       "         \"['Xiaomi']\": 23,\n",
       "         \"['SHEIN']\": 150,\n",
       "         '[]': 15,\n",
       "         \"['Boticário']\": 7,\n",
       "         \"['Nike', 'SHEIN']\": 1,\n",
       "         \"['Nike', 'Xiaomi']\": 1})"
      ]
     },
     "metadata": {},
     "output_type": "display_data"
    },
    {
     "data": {
      "text/plain": [
       "<AxesSubplot:xlabel='count', ylabel='keyword'>"
      ]
     },
     "execution_count": 106,
     "metadata": {},
     "output_type": "execute_result"
    },
    {
     "data": {
      "image/png": "[encoded data removed]",
      "text/plain": [
       "<Figure size 432x288 with 1 Axes>"
      ]
     },
     "metadata": {
      "needs_background": "light"
     },
     "output_type": "display_data"
    }
   ],
   "source": [
    "# Normalização de \"Coca-Cola\"\n",
    "\n",
    "search = \"Coca cola\"\n",
    "replacement = \"Coca-cola\"\n",
    "\n",
    "df_normalized = df_dropna.copy()\n",
    "df_normalized[\"keyword\"] = df_dropna[\"keyword\"].apply(\n",
    "    lambda keywords: keywords.lower().replace(search.lower(), replacement) if search.lower() in keywords.lower() else keywords)\n",
    "\n",
    "\n",
    "# Valores\n",
    "\n",
    "display(Counter(df_normalized[\"keyword\"]))\n",
    "\n",
    "\n",
    "# Histograma\n",
    "\n",
    "sns.countplot(y=\"keyword\", data=df_normalized)"
   ]
  },
  {
   "cell_type": "markdown",
   "metadata": {
    "id": "SzLoctG1zKyv"
   },
   "source": [
    "#### Testes de Counter"
   ]
  },
  {
   "cell_type": "code",
   "execution_count": 107,
   "metadata": {
    "id": "8btBbiwxAX12"
   },
   "outputs": [],
   "source": [
    "# c = Counter([True, False, False, True, True]).most_common()[0][0]\n",
    "# print(c)"
   ]
  },
  {
   "cell_type": "code",
   "execution_count": 108,
   "metadata": {
    "id": "Xr930xDPSKBu"
   },
   "outputs": [],
   "source": [
    "# from collections import Counter\n",
    "\n",
    "# def reducer(item):\n",
    "#   return item['classification']\n",
    "\n",
    "# result = list(map(reducer, [\n",
    "#   {'classification': True, 'created_at': 0 },\n",
    "#   {'classification': False, 'created_at': 0 },\n",
    "#   {'classification': True, 'created_at': 0 },\n",
    "# ]))\n",
    "\n",
    "# result_counter = Counter(result).most_common()[0][0]\n",
    "# print(result_counter)"
   ]
  },
  {
   "cell_type": "code",
   "execution_count": 109,
   "metadata": {
    "id": "R48vhym2IZju"
   },
   "outputs": [],
   "source": [
    "# test_list = [\n",
    "#   {'classification': True, 'created_at': 0 },\n",
    "#   {'classification': False, 'created_at': 0 },\n",
    "#   {'classification': True, 'created_at': 0 },\n",
    "# ]\n",
    "\n",
    "# def get_classification(myList):\n",
    "#   print('input_list', myList, type(myList))\n",
    "#   return Counter(list(map(lambda item: item['classification'], myList))).most_common()[0][0]\n",
    "\n",
    "# print(get_classification(test_list))"
   ]
  },
  {
   "cell_type": "code",
   "execution_count": 110,
   "metadata": {
    "id": "BR4McAJBW28y"
   },
   "outputs": [],
   "source": [
    "# import json\n",
    "\n",
    "# data = json.loads('[{\"classification\": true, \"created_at\": 0 },{\"classification\": false, \"created_at\": 0 },{\"classification\": true, \"created_at\": 0 }]')\n",
    "# print(type(data), data)"
   ]
  },
  {
   "cell_type": "markdown",
   "metadata": {
    "id": "IMrqbM7RzNJw"
   },
   "source": [
    "## **Tratamento da classificação**\n",
    "\n",
    "Como são 3 classificações para cada registro, ganha a classificação da **maioria** dos registros\n",
    "\n",
    "Exemplos:\n",
    "\n",
    "- True, True, False => True\n",
    "- False, True, False => False"
   ]
  },
  {
   "cell_type": "code",
   "execution_count": 111,
   "metadata": {
    "id": "1fEF1lzj32wO"
   },
   "outputs": [],
   "source": [
    "# Criação de um campo de resultado de classificação com a maior ocorrência entre as classificaçações\n",
    "\n",
    "pd.options.mode.chained_assignment = None\n",
    "\n",
    "def reducer(input_dict):\n",
    "  return input_dict['classification']\n",
    "\n",
    "def get_classification(input_list):\n",
    "  return Counter(list(map(reducer, json.loads(input_list)))).most_common()[0][0]\n",
    "\n",
    "# df_classified = df_normalized.apply(lambda item: get_classification(item[2]), axis=1)\n",
    "\n",
    "df_normalized['classified'] = df_normalized['classification'].map(lambda classification_list: get_classification(classification_list))\n",
    "\n",
    "df_classified = df_normalized.drop(['classification'], axis=1)"
   ]
  },
  {
   "cell_type": "code",
   "execution_count": 112,
   "metadata": {
    "colab": {
     "base_uri": "https://localhost:8080/",
     "height": 204
    },
    "id": "lmregsPFOmGT",
    "outputId": "11c3ad10-a773-4445-b6a9-a6dd88344d3b"
   },
   "outputs": [
    {
     "data": {
      "text/html": [
       "<div>\n",
       "<style scoped>\n",
       "    .dataframe tbody tr th:only-of-type {\n",
       "        vertical-align: middle;\n",
       "    }\n",
       "\n",
       "    .dataframe tbody tr th {\n",
       "        vertical-align: top;\n",
       "    }\n",
       "\n",
       "    .dataframe thead th {\n",
       "        text-align: right;\n",
       "    }\n",
       "</style>\n",
       "<table border=\"1\" class=\"dataframe\">\n",
       "  <thead>\n",
       "    <tr style=\"text-align: right;\">\n",
       "      <th></th>\n",
       "      <th>tweet_content</th>\n",
       "      <th>keyword</th>\n",
       "      <th>classified</th>\n",
       "    </tr>\n",
       "  </thead>\n",
       "  <tbody>\n",
       "    <tr>\n",
       "      <th>0</th>\n",
       "      <td>mds nubank nunca libera mais limite pra mim</td>\n",
       "      <td>['Nubank']</td>\n",
       "      <td>0.0</td>\n",
       "    </tr>\n",
       "    <tr>\n",
       "      <th>1</th>\n",
       "      <td>mais viciado que a bateria do meu celular só e...</td>\n",
       "      <td>['Coca-cola']</td>\n",
       "      <td>1.0</td>\n",
       "    </tr>\n",
       "    <tr>\n",
       "      <th>2</th>\n",
       "      <td>toda vez que vejo Nubank nos tt vou lá conferi...</td>\n",
       "      <td>['Nubank']</td>\n",
       "      <td>0.0</td>\n",
       "    </tr>\n",
       "    <tr>\n",
       "      <th>3</th>\n",
       "      <td>Pedi 10k de limite pra Nubank serasi?</td>\n",
       "      <td>['Nubank']</td>\n",
       "      <td>1.0</td>\n",
       "    </tr>\n",
       "    <tr>\n",
       "      <th>4</th>\n",
       "      <td>@kayofeer @nubank Aconteceu isso c a minha mãe...</td>\n",
       "      <td>['Nubank']</td>\n",
       "      <td>1.0</td>\n",
       "    </tr>\n",
       "  </tbody>\n",
       "</table>\n",
       "</div>"
      ],
      "text/plain": [
       "                                       tweet_content        keyword  \\\n",
       "0        mds nubank nunca libera mais limite pra mim     ['Nubank']   \n",
       "1  mais viciado que a bateria do meu celular só e...  ['Coca-cola']   \n",
       "2  toda vez que vejo Nubank nos tt vou lá conferi...     ['Nubank']   \n",
       "3              Pedi 10k de limite pra Nubank serasi?     ['Nubank']   \n",
       "4  @kayofeer @nubank Aconteceu isso c a minha mãe...     ['Nubank']   \n",
       "\n",
       "   classified  \n",
       "0         0.0  \n",
       "1         1.0  \n",
       "2         0.0  \n",
       "3         1.0  \n",
       "4         1.0  "
      ]
     },
     "metadata": {},
     "output_type": "display_data"
    }
   ],
   "source": [
    "# Transformação numérica da classificação\n",
    "\n",
    "df_classified['classified'][df_classified['classified'] == True] = 1\n",
    "df_classified['classified'][df_classified['classified'] == False] = 0\n",
    "\n",
    "display(df_classified.head())"
   ]
  },
  {
   "cell_type": "markdown",
   "metadata": {
    "id": "Ffw91gBiOkXy"
   },
   "source": [
    "## **Pré-processamento**\n",
    "\n",
    "1. Tokenização\n",
    "2. Remoção de stopwords"
   ]
  },
  {
   "cell_type": "markdown",
   "metadata": {
    "id": "0AVpb2VMRlsc"
   },
   "source": [
    "### 1. Tokenização"
   ]
  },
  {
   "cell_type": "code",
   "execution_count": 113,
   "metadata": {
    "id": "hLi83mfXO0PH"
   },
   "outputs": [],
   "source": [
    "# # Tokenização\n",
    "\n",
    "# import nltk\n",
    "# nltk.download('punkt', quiet=True)\n",
    "\n",
    "# df_tokens = pd.DataFrame(df_classified['tweet_content'].apply(lambda column: nltk.word_tokenize(column)))\n",
    "# # df_tokens = pd.DataFrame(df_classified.apply(lambda item: 'a' if item.name == 'classified' else item))\n",
    "\n",
    "# display(df_tokens.head())"
   ]
  },
  {
   "cell_type": "markdown",
   "metadata": {
    "id": "4TWXF9nGRpni"
   },
   "source": [
    "### 2. Remoção de stopwords"
   ]
  },
  {
   "cell_type": "code",
   "execution_count": 114,
   "metadata": {
    "colab": {
     "base_uri": "https://localhost:8080/"
    },
    "id": "NM-5nkIgHMYL",
    "outputId": "b07f003f-8972-48f6-9d1d-8e287ff3d677"
   },
   "outputs": [
    {
     "data": {
      "text/html": [
       "<div>\n",
       "<style scoped>\n",
       "    .dataframe tbody tr th:only-of-type {\n",
       "        vertical-align: middle;\n",
       "    }\n",
       "\n",
       "    .dataframe tbody tr th {\n",
       "        vertical-align: top;\n",
       "    }\n",
       "\n",
       "    .dataframe thead th {\n",
       "        text-align: right;\n",
       "    }\n",
       "</style>\n",
       "<table border=\"1\" class=\"dataframe\">\n",
       "  <thead>\n",
       "    <tr style=\"text-align: right;\">\n",
       "      <th></th>\n",
       "      <th>tweet_content</th>\n",
       "      <th>keyword</th>\n",
       "      <th>classified</th>\n",
       "    </tr>\n",
       "  </thead>\n",
       "  <tbody>\n",
       "    <tr>\n",
       "      <th>0</th>\n",
       "      <td>[mds, nubank, nunca, libera, limite, pra, mim]</td>\n",
       "      <td>['Nubank']</td>\n",
       "      <td>0.0</td>\n",
       "    </tr>\n",
       "    <tr>\n",
       "      <th>1</th>\n",
       "      <td>[viciado, bateria, celular, coca-cola, 🤦🏻‍♀️🤦🏻...</td>\n",
       "      <td>['Coca-cola']</td>\n",
       "      <td>1.0</td>\n",
       "    </tr>\n",
       "    <tr>\n",
       "      <th>2</th>\n",
       "      <td>[toda, vez, vejo, Nubank, tt, vou, lá, conferi...</td>\n",
       "      <td>['Nubank']</td>\n",
       "      <td>0.0</td>\n",
       "    </tr>\n",
       "    <tr>\n",
       "      <th>3</th>\n",
       "      <td>[Pedi, 10k, limite, pra, Nubank, serasi?]</td>\n",
       "      <td>['Nubank']</td>\n",
       "      <td>1.0</td>\n",
       "    </tr>\n",
       "    <tr>\n",
       "      <th>4</th>\n",
       "      <td>[@kayofeer, @nubank, Aconteceu, c, mãe,, quase...</td>\n",
       "      <td>['Nubank']</td>\n",
       "      <td>1.0</td>\n",
       "    </tr>\n",
       "  </tbody>\n",
       "</table>\n",
       "</div>"
      ],
      "text/plain": [
       "                                       tweet_content        keyword  \\\n",
       "0     [mds, nubank, nunca, libera, limite, pra, mim]     ['Nubank']   \n",
       "1  [viciado, bateria, celular, coca-cola, 🤦🏻‍♀️🤦🏻...  ['Coca-cola']   \n",
       "2  [toda, vez, vejo, Nubank, tt, vou, lá, conferi...     ['Nubank']   \n",
       "3          [Pedi, 10k, limite, pra, Nubank, serasi?]     ['Nubank']   \n",
       "4  [@kayofeer, @nubank, Aconteceu, c, mãe,, quase...     ['Nubank']   \n",
       "\n",
       "   classified  \n",
       "0         0.0  \n",
       "1         1.0  \n",
       "2         0.0  \n",
       "3         1.0  \n",
       "4         1.0  "
      ]
     },
     "metadata": {},
     "output_type": "display_data"
    }
   ],
   "source": [
    "# Remoção de stopwords\n",
    "\n",
    "nltk.download('stopwords', quiet=True)\n",
    "\n",
    "stop = stopwords.words('portuguese')\n",
    "\n",
    "df_removed_stopwords = df_classified.copy()\n",
    "df_removed_stopwords['tweet_content'] = df_classified['tweet_content'].apply(lambda tweet: [word for word in tweet.split() if word not in stop])\n",
    "\n",
    "display(df_removed_stopwords.head())"
   ]
  },
  {
   "cell_type": "markdown",
   "metadata": {
    "id": "B_hEznDGsPL5"
   },
   "source": [
    "## **Análise de classificações**"
   ]
  },
  {
   "cell_type": "markdown",
   "metadata": {
    "id": "3s8xH0vwvdmt"
   },
   "source": [
    "### Geral"
   ]
  },
  {
   "cell_type": "code",
   "execution_count": 115,
   "metadata": {
    "colab": {
     "base_uri": "https://localhost:8080/"
    },
    "id": "EkxCp7easK1j",
    "outputId": "4f00e89e-852a-4ea3-8064-f784c02267fb"
   },
   "outputs": [
    {
     "data": {
      "text/plain": [
       "Counter({0.0: 306, 1.0: 360})"
      ]
     },
     "metadata": {},
     "output_type": "display_data"
    },
    {
     "data": {
      "text/plain": [
       "<AxesSubplot:xlabel='classified', ylabel='count'>"
      ]
     },
     "execution_count": 115,
     "metadata": {},
     "output_type": "execute_result"
    },
    {
     "data": {
      "image/png": "[encoded data removed]",
      "text/plain": [
       "<Figure size 432x288 with 1 Axes>"
      ]
     },
     "metadata": {
      "needs_background": "light"
     },
     "output_type": "display_data"
    }
   ],
   "source": [
    "# Valores\n",
    "\n",
    "display(Counter(df_removed_stopwords['classified']))\n",
    "\n",
    "\n",
    "# Histograma\n",
    "\n",
    "sns.countplot(x=\"classified\", data=df_removed_stopwords)"
   ]
  },
  {
   "cell_type": "markdown",
   "metadata": {
    "id": "W3ukB72GviJ4"
   },
   "source": [
    "### Por keywords"
   ]
  },
  {
   "cell_type": "code",
   "execution_count": 118,
   "metadata": {
    "colab": {
     "base_uri": "https://localhost:8080/"
    },
    "id": "2tuOe6N_vMC2",
    "outputId": "950a3a84-e535-44db-c7e0-edb78566fb28"
   },
   "outputs": [
    {
     "data": {
      "image/png": "[encoded data removed]",
      "text/plain": [
       "<Figure size 432x288 with 1 Axes>"
      ]
     },
     "metadata": {
      "needs_background": "light"
     },
     "output_type": "display_data"
    }
   ],
   "source": [
    "# Dataframe especialmente para o plot\n",
    "\n",
    "order = [\"Positiva\", \"Negativa\"]\n",
    "\n",
    "df_countplot = df_removed_stopwords.copy()\n",
    "df_countplot = df_countplot.rename({'classified': 'Classificação'}, axis=1)\n",
    "df_countplot[\"Classificação\"][df_countplot[\"Classificação\"] == 1.0] = order[0]\n",
    "df_countplot[\"Classificação\"][df_countplot[\"Classificação\"] == 0.0] = order[1]\n",
    "\n",
    "\n",
    "# Plot\n",
    "\n",
    "colors = [\"#8FD14F\", \"#BC4C4B\"]\n",
    "sns.set_palette(sns.color_palette(colors))\n",
    "plot_output = sns.countplot(y=\"keyword\", data=df_countplot, hue=\"Classificação\", hue_order=order)\n",
    "\n",
    "plot_output.set_title(\"Sentimentos por Palavra-chave\", fontsize=16, fontweight=\"bold\")\n",
    "plot_output.set_xlabel(\"Quantidade de tweets\", fontsize=14)\n",
    "plot_output.set_ylabel(\"Palavras-chave\", fontsize=14)\n",
    "\n",
    "plot_output.figure.savefig(\"keyword_analysis.png\", bbox_inches=\"tight\")"
   ]
  },
  {
   "cell_type": "code",
   "execution_count": null,
   "metadata": {},
   "outputs": [],
   "source": []
  }
 ],
 "metadata": {
  "colab": {
   "collapsed_sections": [
    "JINDwM1MxMgt",
    "0AVpb2VMRlsc",
    "SzLoctG1zKyv",
    "3s8xH0vwvdmt"
   ],
   "name": "TCC I - Análise Exploratória.ipynb",
   "provenance": []
  },
  "kernelspec": {
   "display_name": "Python 3",
   "language": "python",
   "name": "python3"
  },
  "language_info": {
   "codemirror_mode": {
    "name": "ipython",
    "version": 3
   },
   "file_extension": ".py",
   "mimetype": "text/x-python",
   "name": "python",
   "nbconvert_exporter": "python",
   "pygments_lexer": "ipython3",
   "version": "3.8.8"
  }
 },
 "nbformat": 4,
 "nbformat_minor": 1
}
