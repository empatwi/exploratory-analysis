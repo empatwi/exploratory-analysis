{
  "nbformat": 4,
  "nbformat_minor": 0,
  "metadata": {
    "kernelspec": {
      "display_name": "Python 3",
      "language": "python",
      "name": "python3"
    },
    "language_info": {
      "codemirror_mode": {
        "name": "ipython",
        "version": 3
      },
      "file_extension": ".py",
      "mimetype": "text/x-python",
      "name": "python",
      "nbconvert_exporter": "python",
      "pygments_lexer": "ipython3",
      "version": "3.8.5"
    },
    "colab": {
      "name": "model_application.ipynb",
      "provenance": []
    }
  },
  "cells": [
    {
      "cell_type": "markdown",
      "metadata": {
        "id": "9V184z5Rmbq1"
      },
      "source": [
        "# Manipulação de dados"
      ]
    },
    {
      "cell_type": "markdown",
      "metadata": {
        "id": "AubENeBkln7n"
      },
      "source": [
        "### Leitura dos dados"
      ]
    },
    {
      "cell_type": "code",
      "metadata": {
        "colab": {
          "base_uri": "https://localhost:8080/",
          "height": 204
        },
        "id": "XJANi8G9A59B",
        "outputId": "41050d5d-c534-4a3c-bfc7-96bb63e2374b"
      },
      "source": [
        "import pandas as pd\n",
        "from sklearn.feature_extraction.text import CountVectorizer\n",
        "import numpy as np\n",
        "\n",
        "df_dataset = pd.read_csv('files/clean_text.csv')\n",
        "df_dataset = df_dataset.drop(['Unnamed: 0'], axis=1)\n",
        "df_dataset.head()"
      ],
      "execution_count": null,
      "outputs": [
        {
          "output_type": "execute_result",
          "data": {
            "text/html": [
              "<div>\n",
              "<style scoped>\n",
              "    .dataframe tbody tr th:only-of-type {\n",
              "        vertical-align: middle;\n",
              "    }\n",
              "\n",
              "    .dataframe tbody tr th {\n",
              "        vertical-align: top;\n",
              "    }\n",
              "\n",
              "    .dataframe thead th {\n",
              "        text-align: right;\n",
              "    }\n",
              "</style>\n",
              "<table border=\"1\" class=\"dataframe\">\n",
              "  <thead>\n",
              "    <tr style=\"text-align: right;\">\n",
              "      <th></th>\n",
              "      <th>tweet_content</th>\n",
              "      <th>keyword</th>\n",
              "      <th>user_location</th>\n",
              "      <th>classified</th>\n",
              "    </tr>\n",
              "  </thead>\n",
              "  <tbody>\n",
              "    <tr>\n",
              "      <th>0</th>\n",
              "      <td>mds nunca liberar</td>\n",
              "      <td>['Nubank']</td>\n",
              "      <td>Goiânia</td>\n",
              "      <td>0.0</td>\n",
              "    </tr>\n",
              "    <tr>\n",
              "      <th>1</th>\n",
              "      <td>viciar bateria celular</td>\n",
              "      <td>['Coca-cola']</td>\n",
              "      <td>Balneário Camboriú</td>\n",
              "      <td>1.0</td>\n",
              "    </tr>\n",
              "    <tr>\n",
              "      <th>2</th>\n",
              "      <td>toda vez vejo lá conferir saldo certo juro tra...</td>\n",
              "      <td>['Nubank']</td>\n",
              "      <td>None</td>\n",
              "      <td>0.0</td>\n",
              "    </tr>\n",
              "    <tr>\n",
              "      <th>3</th>\n",
              "      <td>pedir serasi</td>\n",
              "      <td>['Nubank']</td>\n",
              "      <td>Rio de Janeiro, Brasil</td>\n",
              "      <td>1.0</td>\n",
              "    </tr>\n",
              "    <tr>\n",
              "      <th>4</th>\n",
              "      <td>kayofeer acontecer mãe quase ano nada ainda</td>\n",
              "      <td>['Nubank']</td>\n",
              "      <td>Macaé, Brasil</td>\n",
              "      <td>1.0</td>\n",
              "    </tr>\n",
              "  </tbody>\n",
              "</table>\n",
              "</div>"
            ],
            "text/plain": [
              "                                       tweet_content  ... classified\n",
              "0                                  mds nunca liberar  ...        0.0\n",
              "1                             viciar bateria celular  ...        1.0\n",
              "2  toda vez vejo lá conferir saldo certo juro tra...  ...        0.0\n",
              "3                                       pedir serasi  ...        1.0\n",
              "4        kayofeer acontecer mãe quase ano nada ainda  ...        1.0\n",
              "\n",
              "[5 rows x 4 columns]"
            ]
          },
          "metadata": {},
          "execution_count": 1
        }
      ]
    },
    {
      "cell_type": "code",
      "metadata": {
        "id": "J3eCT544A59E"
      },
      "source": [
        "# Bag of words\n",
        "count_vectorizer = CountVectorizer(binary=True)"
      ],
      "execution_count": null,
      "outputs": []
    },
    {
      "cell_type": "code",
      "metadata": {
        "id": "k34cmD0UA59G"
      },
      "source": [
        "X = df_dataset['tweet_content']"
      ],
      "execution_count": null,
      "outputs": []
    },
    {
      "cell_type": "code",
      "metadata": {
        "id": "7VhN6aUSA59G"
      },
      "source": [
        "y = df_dataset['classified']"
      ],
      "execution_count": null,
      "outputs": []
    },
    {
      "cell_type": "markdown",
      "metadata": {
        "id": "QCuZHsJkA59H"
      },
      "source": [
        "### Separando em treino e teste"
      ]
    },
    {
      "cell_type": "code",
      "metadata": {
        "id": "tWBd2GKDA59K"
      },
      "source": [
        "from sklearn.model_selection import train_test_split\n",
        "\n",
        "X_train, X_test, y_train, y_test = train_test_split(X, y, test_size=0.2)\n",
        "X_train = count_vectorizer.fit_transform(X_train.values.astype('U'))\n",
        "X_test = count_vectorizer.transform(X_test.values.astype('U'))"
      ],
      "execution_count": null,
      "outputs": []
    },
    {
      "cell_type": "code",
      "metadata": {
        "id": "tXnX8m9iA59L"
      },
      "source": [
        "from sklearn.naive_bayes import MultinomialNB\n",
        "\n",
        "#Criando o Modelo Naive Bayes \n",
        "naive_bayes = MultinomialNB()\n",
        "\n",
        "#.......Treinando o Modelo.......\n",
        "naive_bayes.fit(X_train, y_train)\n",
        "\n",
        "#Fazendo as previsões\n",
        "naive_bayes_pred = naive_bayes.predict(X_test)"
      ],
      "execution_count": null,
      "outputs": []
    },
    {
      "cell_type": "code",
      "metadata": {
        "colab": {
          "base_uri": "https://localhost:8080/"
        },
        "id": "AzeCebv0A59M",
        "outputId": "62e90201-a84f-446d-8586-39e72aeb0895"
      },
      "source": [
        "from sklearn.metrics import accuracy_score, confusion_matrix\n",
        "\n",
        "#Calculando a acurácia\n",
        "acc = accuracy_score(naive_bayes_pred, y_test)\n",
        "\n",
        "#Matriz de confusão \n",
        "cm = confusion_matrix(naive_bayes_pred, y_test)\n",
        "\n",
        "print(\"Acurácia do modelo\", acc*100)\n",
        "print(\"\\nMatriz de confusão: \\n\", cm)"
      ],
      "execution_count": null,
      "outputs": [
        {
          "output_type": "stream",
          "name": "stdout",
          "text": [
            "Acurácia do modelo 66.41221374045801\n",
            "\n",
            "Matriz de confusão: \n",
            " [[30 19]\n",
            " [25 57]]\n"
          ]
        }
      ]
    },
    {
      "cell_type": "code",
      "metadata": {
        "colab": {
          "base_uri": "https://localhost:8080/"
        },
        "id": "fMqiewIXA59N",
        "outputId": "48db8058-6d40-4ae8-bcb9-fe5005d3fe92"
      },
      "source": [
        "nova_frase = [\"ódio da nubank quando tem notificação e é propaganda ao invés de ser dinheiro caindo na minha conta\"] \n",
        "teste = count_vectorizer.transform(nova_frase)\n",
        "pred = naive_bayes.predict(teste)\n",
        "print(pred)"
      ],
      "execution_count": null,
      "outputs": [
        {
          "output_type": "stream",
          "name": "stdout",
          "text": [
            "[0.]\n"
          ]
        }
      ]
    },
    {
      "cell_type": "code",
      "metadata": {
        "colab": {
          "base_uri": "https://localhost:8080/"
        },
        "id": "-USLVk3tA59O",
        "outputId": "26aa083d-582d-4f0f-acb7-91e39f448f32"
      },
      "source": [
        "nova_frase2 = [\"Chegou o meu cartão do @nubank. Tô amando a embalagem dele Cara sorridente com os olhos em forma de coração\"] \n",
        "teste2 = count_vectorizer.transform(nova_frase2)\n",
        "pred2 = naive_bayes.predict(teste2)\n",
        "print(pred2)"
      ],
      "execution_count": null,
      "outputs": [
        {
          "output_type": "stream",
          "name": "stdout",
          "text": [
            "[1.]\n"
          ]
        }
      ]
    },
    {
      "cell_type": "markdown",
      "metadata": {
        "id": "Jf248uMpA59O"
      },
      "source": [
        "### Separando datasets por keyword"
      ]
    },
    {
      "cell_type": "code",
      "metadata": {
        "id": "OdcxLGy7A59P"
      },
      "source": [
        "df_nubank = df_dataset[['Nubank' in x for x in df_dataset['keyword']]]"
      ],
      "execution_count": null,
      "outputs": []
    },
    {
      "cell_type": "code",
      "metadata": {
        "id": "TbqSeRkMA59P"
      },
      "source": [
        "df_nike = df_dataset[['Nike' in x for x in df_dataset['keyword']]]"
      ],
      "execution_count": null,
      "outputs": []
    },
    {
      "cell_type": "code",
      "metadata": {
        "id": "2FSpVhbXA59P"
      },
      "source": [
        "df_shein = df_dataset[['SHEIN' in x for x in df_dataset['keyword']]]"
      ],
      "execution_count": null,
      "outputs": []
    },
    {
      "cell_type": "code",
      "metadata": {
        "id": "dOoe-1-JA59P"
      },
      "source": [
        "nubank_count_vectorizer = CountVectorizer(binary=True)\n",
        "\n",
        "X_nubank = df_nubank['tweet_content']\n",
        "y_nubank = df_nubank['classified']\n",
        "\n",
        "X_train_nubank, X_test_nubank, y_train_nubank, y_test_nubank = train_test_split(X_nubank, y_nubank, test_size=0.3, \n",
        "                                                                                random_state=42, stratify=y_nubank)\n",
        "X_train_nubank = nubank_count_vectorizer.fit_transform(X_train_nubank)\n",
        "X_test_nubank = nubank_count_vectorizer.transform(X_test_nubank.values.astype('U'))"
      ],
      "execution_count": null,
      "outputs": []
    },
    {
      "cell_type": "code",
      "metadata": {
        "id": "Bmgzq579A59Q"
      },
      "source": [
        "nike_count_vectorizer = CountVectorizer(binary=True)\n",
        "\n",
        "X_nike = df_nike['tweet_content']\n",
        "y_nike = df_nike['classified']\n",
        "\n",
        "X_train_nike, X_test_nike, y_train_nike, y_test_nike = train_test_split(X_nike, y_nike, test_size=0.3, \n",
        "                                                                                random_state=42, stratify=y_nike)\n",
        "X_train_nike = nike_count_vectorizer.fit_transform(X_train_nike.values.astype('U'))\n",
        "X_test_nike = nike_count_vectorizer.transform(X_test_nike.values.astype('U'))"
      ],
      "execution_count": null,
      "outputs": []
    },
    {
      "cell_type": "code",
      "metadata": {
        "id": "sgct0M-qA59R"
      },
      "source": [
        "shein_count_vectorizer = CountVectorizer(binary=True)\n",
        "\n",
        "X_shein = df_shein['tweet_content']\n",
        "y_shein = df_shein['classified']\n",
        "\n",
        "X_train_shein, X_test_shein, y_train_shein, y_test_shein = train_test_split(X_shein, y_shein, test_size=0.3, \n",
        "                                                                                random_state=42, stratify=y_shein)\n",
        "X_train_shein = shein_count_vectorizer.fit_transform(X_train_shein.values.astype('U'))\n",
        "X_test_shein = shein_count_vectorizer.transform(X_test_shein.values.astype('U'))"
      ],
      "execution_count": null,
      "outputs": []
    },
    {
      "cell_type": "markdown",
      "metadata": {
        "id": "tcs40_XXmm0L"
      },
      "source": [
        "# Aplicação dos modelos por keyword"
      ]
    },
    {
      "cell_type": "markdown",
      "metadata": {
        "id": "VAWnr4NSk6T4"
      },
      "source": [
        "## MultinomialNB"
      ]
    },
    {
      "cell_type": "markdown",
      "metadata": {
        "id": "LvMcfNXBA59R"
      },
      "source": [
        "### Nubank"
      ]
    },
    {
      "cell_type": "code",
      "metadata": {
        "scrolled": true,
        "colab": {
          "base_uri": "https://localhost:8080/"
        },
        "id": "PZvu9o8hA59R",
        "outputId": "1956bfdd-6609-432d-e870-390f8e674717"
      },
      "source": [
        "from sklearn.model_selection import train_test_split\n",
        "from sklearn.naive_bayes import MultinomialNB\n",
        "from sklearn.metrics import f1_score\n",
        "\n",
        "#Criando o Modelo Naive Bayes \n",
        "naive_bayes_nubank = MultinomialNB()\n",
        "#.......Treinando o Modelo.......\n",
        "naive_bayes_nubank.fit(X_train_nubank, y_train_nubank)\n",
        "#Fazendo as previsões\n",
        "naive_bayes_pred_nubank = naive_bayes_nubank.predict(X_test_nubank)\n",
        "\n",
        "f_medida_nubank = f1_score(y_test_nubank, naive_bayes_pred_nubank, average='micro')\n",
        "cm_nubank = confusion_matrix(naive_bayes_pred_nubank, y_test_nubank)\n",
        "\n",
        "print(\"F-medida:\", f_medida_nubank*100)\n",
        "print(\"\\nMatriz de confusão: \\n\", cm_nubank)"
      ],
      "execution_count": null,
      "outputs": [
        {
          "output_type": "stream",
          "name": "stdout",
          "text": [
            "F-medida: 58.2089552238806\n",
            "\n",
            "Matriz de confusão: \n",
            " [[28 19]\n",
            " [ 9 11]]\n"
          ]
        }
      ]
    },
    {
      "cell_type": "markdown",
      "metadata": {
        "id": "LRF3mTmOA59S"
      },
      "source": [
        "### Nike"
      ]
    },
    {
      "cell_type": "code",
      "metadata": {
        "colab": {
          "base_uri": "https://localhost:8080/"
        },
        "id": "6fE6r8CuA59S",
        "outputId": "5a410181-8e97-4e2f-d692-9bce076c2dc0"
      },
      "source": [
        "#Criando o Modelo Naive Bayes \n",
        "naive_bayes_nike = MultinomialNB()\n",
        "#.......Treinando o Modelo.......\n",
        "naive_bayes_nike.fit(X_train_nike, y_train_nike)\n",
        "#Fazendo as previsões\n",
        "naive_bayes_pred_nike = naive_bayes_nike.predict(X_test_nike)\n",
        "\n",
        "f_medida_nike = f1_score(y_test_nike, naive_bayes_pred_nike, average='micro')\n",
        "cm_nike = confusion_matrix(naive_bayes_pred_nike, y_test_nike)\n",
        "\n",
        "print(\"F-medida:\", f_medida_nike*100)\n",
        "print(\"\\nMatriz de confusão: \\n\", cm_nike)"
      ],
      "execution_count": null,
      "outputs": [
        {
          "output_type": "stream",
          "name": "stdout",
          "text": [
            "F-medida: 59.25925925925925\n",
            "\n",
            "Matriz de confusão: \n",
            " [[11  9]\n",
            " [13 21]]\n"
          ]
        }
      ]
    },
    {
      "cell_type": "markdown",
      "metadata": {
        "id": "7jAJ1pXaA59T"
      },
      "source": [
        "### SHEIN"
      ]
    },
    {
      "cell_type": "code",
      "metadata": {
        "colab": {
          "base_uri": "https://localhost:8080/"
        },
        "id": "FZ3OOyw5A59T",
        "outputId": "8490bfc3-705f-4a16-f90f-5b8bc0be78c4"
      },
      "source": [
        "#Criando o Modelo Naive Bayes \n",
        "naive_bayes_shein = MultinomialNB()\n",
        "#.......Treinando o Modelo.......\n",
        "naive_bayes_shein.fit(X_train_shein, y_train_shein)\n",
        "#Fazendo as previsões\n",
        "naive_bayes_pred_shein = naive_bayes_shein.predict(X_test_shein)\n",
        "\n",
        "f_medida_shein = f1_score(y_test_shein, naive_bayes_pred_shein, average='micro')\n",
        "cm_shein = confusion_matrix(naive_bayes_pred_shein, y_test_shein)\n",
        "\n",
        "print(\"F-medida:\", f_medida_shein*100)\n",
        "print(\"\\nMatriz de confusão: \\n\", cm_shein)"
      ],
      "execution_count": null,
      "outputs": [
        {
          "output_type": "stream",
          "name": "stdout",
          "text": [
            "F-medida: 65.21739130434783\n",
            "\n",
            "Matriz de confusão: \n",
            " [[ 5  3]\n",
            " [13 25]]\n"
          ]
        }
      ]
    },
    {
      "cell_type": "markdown",
      "metadata": {
        "id": "h31hh7txlG-3"
      },
      "source": [
        "## LinearSVC"
      ]
    },
    {
      "cell_type": "markdown",
      "metadata": {
        "id": "EX-ENaI5A59T"
      },
      "source": [
        "### Nubank"
      ]
    },
    {
      "cell_type": "code",
      "metadata": {
        "colab": {
          "base_uri": "https://localhost:8080/"
        },
        "id": "1lajHq7DA59T",
        "outputId": "71f687e2-1f28-4619-a435-0c826f01dc8d"
      },
      "source": [
        "from sklearn import svm\n",
        "\n",
        "SVM = svm.SVC(C=1.0, kernel='linear')\n",
        "SVM.fit(X_train_nubank, y_train_nubank)\n",
        "predictions_SVM_nubank = SVM.predict(X_test_nubank)\n",
        "\n",
        "f_medida_nubank_svm = f1_score(y_test_nubank, predictions_SVM_nubank, average='micro')\n",
        "cm_nubank_svm = confusion_matrix(predictions_SVM_nubank, y_test_nubank)\n",
        "\n",
        "print(\"F-medida:\", f_medida_nubank_svm*100)\n",
        "print(\"\\nMatriz de confusão: \\n\", cm_nubank_svm)"
      ],
      "execution_count": null,
      "outputs": [
        {
          "output_type": "stream",
          "name": "stdout",
          "text": [
            "F-medida: 52.23880597014925\n",
            "\n",
            "Matriz de confusão: \n",
            " [[25 20]\n",
            " [12 10]]\n"
          ]
        }
      ]
    },
    {
      "cell_type": "markdown",
      "metadata": {
        "id": "18HrJVJFA59U"
      },
      "source": [
        "### Nike"
      ]
    },
    {
      "cell_type": "code",
      "metadata": {
        "colab": {
          "base_uri": "https://localhost:8080/"
        },
        "id": "4OaHKdydA59U",
        "outputId": "0fb94311-7aae-46e3-a34a-1f78d015218b"
      },
      "source": [
        "SVM = svm.SVC(C=1.0, kernel='linear')\n",
        "SVM.fit(X_train_nike, y_train_nike)\n",
        "predictions_SVM_nike = SVM.predict(X_test_nike)\n",
        "\n",
        "f_medida_nike_svm = f1_score(y_test_nike, predictions_SVM_nike, average='micro')\n",
        "cm_nike_svm = confusion_matrix(predictions_SVM_nike, y_test_nike)\n",
        "\n",
        "print(\"F-medida:\", f_medida_nike_svm*100)\n",
        "print(\"\\nMatriz de confusão: \\n\", cm_nike_svm)"
      ],
      "execution_count": null,
      "outputs": [
        {
          "output_type": "stream",
          "name": "stdout",
          "text": [
            "F-medida: 55.55555555555556\n",
            "\n",
            "Matriz de confusão: \n",
            " [[ 7  7]\n",
            " [17 23]]\n"
          ]
        }
      ]
    },
    {
      "cell_type": "markdown",
      "metadata": {
        "id": "Qz3LeWfcA59U"
      },
      "source": [
        "### SHEIN"
      ]
    },
    {
      "cell_type": "code",
      "metadata": {
        "colab": {
          "base_uri": "https://localhost:8080/"
        },
        "id": "LHHysunVA59U",
        "outputId": "e2576239-8f1d-4bde-b79c-c01fcc83a54e"
      },
      "source": [
        "SVM = svm.SVC(C=1.0, kernel='linear')\n",
        "SVM.fit(X_train_shein, y_train_shein)\n",
        "predictions_SVM_shein = SVM.predict(X_test_shein)\n",
        "\n",
        "f_medida_shein_svm = f1_score(y_test_shein, predictions_SVM_shein, average='micro')\n",
        "cm_shein_svm = confusion_matrix(predictions_SVM_shein, y_test_shein)\n",
        "\n",
        "print(\"F-medida:\", f_medida_shein_svm*100)\n",
        "print(\"\\nMatriz de confusão: \\n\", cm_shein_svm)"
      ],
      "execution_count": null,
      "outputs": [
        {
          "output_type": "stream",
          "name": "stdout",
          "text": [
            "F-medida: 60.86956521739131\n",
            "\n",
            "Matriz de confusão: \n",
            " [[ 2  2]\n",
            " [16 26]]\n"
          ]
        }
      ]
    },
    {
      "cell_type": "markdown",
      "metadata": {
        "id": "IYkIOawalSWj"
      },
      "source": [
        "## Random Forest"
      ]
    },
    {
      "cell_type": "markdown",
      "metadata": {
        "id": "_sM3_Q-OA59V"
      },
      "source": [
        "### Nubank"
      ]
    },
    {
      "cell_type": "code",
      "metadata": {
        "colab": {
          "base_uri": "https://localhost:8080/"
        },
        "id": "8dxhaqF8A59V",
        "outputId": "bbbac857-aea1-46e9-a5f5-fa4b1bada811"
      },
      "source": [
        "from sklearn.ensemble import RandomForestClassifier\n",
        "rfc = RandomForestClassifier(random_state=42)\n",
        "rfc.fit(X_train_nubank, y_train_nubank)\n",
        "predictions_rfc_nubank = rfc.predict(X_test_nubank)\n",
        "\n",
        "f_medida_nubank_rfc = f1_score(y_test_nubank, predictions_rfc_nubank, average='micro')\n",
        "cm_nubank_rfc = confusion_matrix(predictions_rfc_nubank, y_test_nubank)\n",
        "\n",
        "print(\"F-medida:\", f_medida_nubank_rfc*100)\n",
        "print(\"\\nMatriz de confusão: \\n\", cm_nubank_rfc)"
      ],
      "execution_count": null,
      "outputs": [
        {
          "output_type": "stream",
          "name": "stdout",
          "text": [
            "F-medida: 59.70149253731343\n",
            "\n",
            "Matriz de confusão: \n",
            " [[34 24]\n",
            " [ 3  6]]\n"
          ]
        }
      ]
    },
    {
      "cell_type": "markdown",
      "metadata": {
        "id": "qbto5RGiA59V"
      },
      "source": [
        "### Nike"
      ]
    },
    {
      "cell_type": "code",
      "metadata": {
        "colab": {
          "base_uri": "https://localhost:8080/"
        },
        "id": "yvr6rjPBA59V",
        "outputId": "7d2445aa-ed2c-4612-8b34-e1ceee71409f"
      },
      "source": [
        "rfc.fit(X_train_nike, y_train_nike)\n",
        "predictions_rfc_nike = rfc.predict(X_test_nike)\n",
        "\n",
        "f_medida_nike_rfc = f1_score(y_test_nike, predictions_rfc_nike, average='micro')\n",
        "cm_nike_rfc = confusion_matrix(predictions_rfc_nike, y_test_nike)\n",
        "\n",
        "print(\"F-medida:\", f_medida_nike_rfc*100)\n",
        "print(\"\\nMatriz de confusão: \\n\", cm_nike_rfc)"
      ],
      "execution_count": null,
      "outputs": [
        {
          "output_type": "stream",
          "name": "stdout",
          "text": [
            "F-medida: 53.70370370370371\n",
            "\n",
            "Matriz de confusão: \n",
            " [[ 2  3]\n",
            " [22 27]]\n"
          ]
        }
      ]
    },
    {
      "cell_type": "markdown",
      "metadata": {
        "id": "x5MHQt-ZA59V"
      },
      "source": [
        "### SHEIN"
      ]
    },
    {
      "cell_type": "code",
      "metadata": {
        "colab": {
          "base_uri": "https://localhost:8080/"
        },
        "id": "U4iRsImOA59W",
        "outputId": "a25017ef-6f3e-4753-ff52-a3b937b2684b"
      },
      "source": [
        "rfc.fit(X_train_shein, y_train_shein)\n",
        "predictions_rfc_shein = rfc.predict(X_test_shein)\n",
        "\n",
        "f_medida_shein_rfc = f1_score(y_test_shein, predictions_rfc_shein, average='micro')\n",
        "cm_shein_rfc = confusion_matrix(predictions_rfc_shein, y_test_shein)\n",
        "\n",
        "print(\"F-medida:\", f_medida_shein_rfc*100)\n",
        "print(\"\\nMatriz de confusão: \\n\", cm_shein_rfc)"
      ],
      "execution_count": null,
      "outputs": [
        {
          "output_type": "stream",
          "name": "stdout",
          "text": [
            "F-medida: 60.86956521739131\n",
            "\n",
            "Matriz de confusão: \n",
            " [[ 0  0]\n",
            " [18 28]]\n"
          ]
        }
      ]
    },
    {
      "cell_type": "markdown",
      "metadata": {
        "id": "D9xoVzRjlaBW"
      },
      "source": [
        "## KNN"
      ]
    },
    {
      "cell_type": "markdown",
      "metadata": {
        "id": "2aJEwRHNA59W"
      },
      "source": [
        "### Nubank"
      ]
    },
    {
      "cell_type": "code",
      "metadata": {
        "colab": {
          "base_uri": "https://localhost:8080/"
        },
        "id": "Js65ri97A59W",
        "outputId": "980efedb-9ab9-4bb1-c065-ae912426aa3d"
      },
      "source": [
        "from sklearn.neighbors import KNeighborsClassifier\n",
        "import numpy as np\n",
        "knn = KNeighborsClassifier(n_neighbors=1)\n",
        "\n",
        "knn.fit(X_train_nubank, y_train_nubank)\n",
        "\n",
        "predictions_knn_nubank = knn.predict(X_test_nubank)\n",
        "\n",
        "f_medida_nubank_knn = f1_score(y_test_nubank, predictions_knn_nubank, average='micro')\n",
        "cm_nubank_knn = confusion_matrix(predictions_knn_nubank, y_test_nubank)\n",
        "\n",
        "print(\"F-medida:\", f_medida_nubank_knn*100)\n",
        "print(\"\\nMatriz de confusão: \\n\", cm_nubank_knn)"
      ],
      "execution_count": null,
      "outputs": [
        {
          "output_type": "stream",
          "name": "stdout",
          "text": [
            "F-medida: 67.16417910447761\n",
            "\n",
            "Matriz de confusão: \n",
            " [[36 21]\n",
            " [ 1  9]]\n"
          ]
        }
      ]
    },
    {
      "cell_type": "markdown",
      "metadata": {
        "id": "m9jZobCmA59X"
      },
      "source": [
        "### Nike"
      ]
    },
    {
      "cell_type": "code",
      "metadata": {
        "colab": {
          "base_uri": "https://localhost:8080/"
        },
        "id": "mZAtGBmGA59Y",
        "outputId": "3bcbbefa-910c-459c-9382-9c15e596e4a8"
      },
      "source": [
        "knn.fit(X_train_nike, y_train_nike)\n",
        "\n",
        "predictions_knn_nike = knn.predict(X_test_nike)\n",
        "\n",
        "f_medida_nike_knn = f1_score(y_test_nike, predictions_knn_nike, average='micro')\n",
        "cm_nike_knn = confusion_matrix(predictions_knn_nike, y_test_nike)\n",
        "\n",
        "print(\"F-medida:\", f_medida_nike_knn*100)\n",
        "print(\"\\nMatriz de confusão: \\n\", cm_nike_knn)"
      ],
      "execution_count": null,
      "outputs": [
        {
          "output_type": "stream",
          "name": "stdout",
          "text": [
            "F-medida: 59.25925925925925\n",
            "\n",
            "Matriz de confusão: \n",
            " [[ 5  3]\n",
            " [19 27]]\n"
          ]
        }
      ]
    },
    {
      "cell_type": "markdown",
      "metadata": {
        "id": "vFSezahmA59Y"
      },
      "source": [
        "### SHEIN"
      ]
    },
    {
      "cell_type": "code",
      "metadata": {
        "colab": {
          "base_uri": "https://localhost:8080/"
        },
        "id": "Wf6xpNJcA59Y",
        "outputId": "eaa4f044-15e7-47b2-8af9-683132f7a841"
      },
      "source": [
        "knn.fit(X_train_shein, y_train_shein)\n",
        "\n",
        "predictions_knn_shein = knn.predict(X_test_shein)\n",
        "\n",
        "f_medida_shein_knn = f1_score(y_test_shein, predictions_knn_shein, average='micro')\n",
        "cm_shein_knn = confusion_matrix(predictions_knn_shein, y_test_shein)\n",
        "\n",
        "print(\"F-medida:\", f_medida_shein_knn*100)\n",
        "print(\"\\nMatriz de confusão: \\n\", cm_shein_knn)"
      ],
      "execution_count": null,
      "outputs": [
        {
          "output_type": "stream",
          "name": "stdout",
          "text": [
            "F-medida: 54.347826086956516\n",
            "\n",
            "Matriz de confusão: \n",
            " [[11 14]\n",
            " [ 7 14]]\n"
          ]
        }
      ]
    },
    {
      "cell_type": "markdown",
      "metadata": {
        "id": "zGqEYI94A59Z"
      },
      "source": [
        "# Aplicação dos modelos no dataset inteiro"
      ]
    },
    {
      "cell_type": "markdown",
      "metadata": {
        "id": "vMdcvnKaA59Z"
      },
      "source": [
        "## Naive Bayes"
      ]
    },
    {
      "cell_type": "code",
      "metadata": {
        "colab": {
          "base_uri": "https://localhost:8080/"
        },
        "id": "-JCn0o3QA59Z",
        "outputId": "f6f27587-0375-45b9-af95-bcec60215d11"
      },
      "source": [
        "#Criando o Modelo Naive Bayes \n",
        "naive_bayes = MultinomialNB()\n",
        "#.......Treinando o Modelo.......\n",
        "naive_bayes.fit(X_train, y_train)\n",
        "#Fazendo as previsões\n",
        "naive_bayes_pred = naive_bayes.predict(X_test)\n",
        "\n",
        "f_medida = f1_score(y_test, naive_bayes_pred, average='micro')\n",
        "cm = confusion_matrix(naive_bayes_pred, y_test)\n",
        "\n",
        "print(\"F-medida:\", f_medida*100)\n",
        "print(\"\\nMatriz de confusão: \\n\", cm)"
      ],
      "execution_count": null,
      "outputs": [
        {
          "output_type": "stream",
          "name": "stdout",
          "text": [
            "F-medida: 66.41221374045801\n",
            "\n",
            "Matriz de confusão: \n",
            " [[30 19]\n",
            " [25 57]]\n"
          ]
        }
      ]
    },
    {
      "cell_type": "markdown",
      "metadata": {
        "id": "rSmUz8zDA59Z"
      },
      "source": [
        "## LinearSVC"
      ]
    },
    {
      "cell_type": "code",
      "metadata": {
        "colab": {
          "base_uri": "https://localhost:8080/"
        },
        "id": "Wg9lPbebA59Z",
        "outputId": "0b1efaa5-c68a-478f-cce2-45cd09b9b197"
      },
      "source": [
        "SVM = svm.SVC(C=1.0, kernel='linear')\n",
        "SVM.fit(X_train, y_train)\n",
        "predictions_SVM = SVM.predict(X_test)\n",
        "\n",
        "f_medida_svm = f1_score(y_test, predictions_SVM, average='micro')\n",
        "cm_svm = confusion_matrix(predictions_SVM, y_test)\n",
        "\n",
        "print(\"F-medida:\", f_medida_svm*100)\n",
        "print(\"\\nMatriz de confusão: \\n\", cm_svm)"
      ],
      "execution_count": null,
      "outputs": [
        {
          "output_type": "stream",
          "name": "stdout",
          "text": [
            "F-medida: 64.12213740458014\n",
            "\n",
            "Matriz de confusão: \n",
            " [[31 23]\n",
            " [24 53]]\n"
          ]
        }
      ]
    },
    {
      "cell_type": "markdown",
      "metadata": {
        "id": "L46sk9j_A59Z"
      },
      "source": [
        "## RandomForest"
      ]
    },
    {
      "cell_type": "code",
      "metadata": {
        "colab": {
          "base_uri": "https://localhost:8080/"
        },
        "id": "3hm1i5zjA59a",
        "outputId": "d2d38667-723f-4419-c3f8-bf1ee15f97c4"
      },
      "source": [
        "rfc.fit(X_train, y_train)\n",
        "predictions_rfc = rfc.predict(X_test)\n",
        "\n",
        "f_medida_rfc = f1_score(y_test, predictions_rfc, average='micro')\n",
        "cm_rfc = confusion_matrix(predictions_rfc, y_test)\n",
        "\n",
        "print(\"F-medida:\", f_medida_rfc*100)\n",
        "print(\"\\nMatriz de confusão: \\n\", cm_rfc)"
      ],
      "execution_count": null,
      "outputs": [
        {
          "output_type": "stream",
          "name": "stdout",
          "text": [
            "F-medida: 58.01526717557252\n",
            "\n",
            "Matriz de confusão: \n",
            " [[17 17]\n",
            " [38 59]]\n"
          ]
        }
      ]
    },
    {
      "cell_type": "markdown",
      "metadata": {
        "id": "pCayl47JA59a"
      },
      "source": [
        "## KNN"
      ]
    },
    {
      "cell_type": "code",
      "metadata": {
        "colab": {
          "base_uri": "https://localhost:8080/"
        },
        "id": "0BsWBAIwckFu",
        "outputId": "46a54b1a-e918-4f75-d4b4-6004d4cc7c81"
      },
      "source": [
        "knn.fit(X_train, y_train)\n",
        "\n",
        "predictions_knn = knn.predict(X_test)\n",
        "\n",
        "f_medida_knn = f1_score(y_test, predictions_knn, average='micro')\n",
        "cm_knn = confusion_matrix(predictions_knn, y_test)\n",
        "\n",
        "print(\"F-medida:\", f_medida_knn*100)\n",
        "print(\"\\nMatriz de confusão: \\n\", cm_knn)"
      ],
      "execution_count": null,
      "outputs": [
        {
          "output_type": "stream",
          "name": "stdout",
          "text": [
            "F-medida: 57.25190839694656\n",
            "\n",
            "Matriz de confusão: \n",
            " [[17 18]\n",
            " [38 58]]\n"
          ]
        }
      ]
    },
    {
      "cell_type": "markdown",
      "metadata": {
        "id": "gyzMUecMA59a"
      },
      "source": [
        "# Hiperparâmetros"
      ]
    },
    {
      "cell_type": "markdown",
      "metadata": {
        "id": "v5R6tuYCrA9i"
      },
      "source": [
        "## Naive Bayes"
      ]
    },
    {
      "cell_type": "code",
      "metadata": {
        "colab": {
          "base_uri": "https://localhost:8080/"
        },
        "id": "DMUguVpSrHpd",
        "outputId": "2d51f9c8-2809-45f9-f16e-c76c5fa711bd"
      },
      "source": [
        "# https://scikit-learn.org/stable/modules/generated/sklearn.naive_bayes.MultinomialNB.html\n",
        "\n",
        "from sklearn.model_selection import cross_val_score\n",
        "from sklearn.model_selection import GridSearchCV\n",
        "from sklearn.pipeline import Pipeline\n",
        "\n",
        "X_train, X_test, y_train, y_test = train_test_split(X, y, test_size=0.2)\n",
        "X_train = count_vectorizer.fit_transform(X_train.values.astype('U'))\n",
        "X_test = count_vectorizer.transform(X_test.values.astype('U'))\n",
        "\n",
        "pipeline = Pipeline([('clf', MultinomialNB())])\n",
        "\n",
        "parameters = {'clf__alpha': [0,1,2,3,4,5], 'clf__fit_prior': [True,False]}\n",
        "clf = GridSearchCV(pipeline, parameters, cv=3)\n",
        "clf.fit(X_train, y_train)\n",
        "\n",
        "print(clf.best_params_)\n",
        "\n",
        "scores = cross_val_score(clf.best_estimator_, X_test, y_test, cv=5)\n",
        "print('Resultados:', scores)\n",
        "print('Acurácia - %.2f +- %.2f' % (scores.mean() * 100, scores.std() * 100))"
      ],
      "execution_count": null,
      "outputs": [
        {
          "output_type": "stream",
          "name": "stdout",
          "text": [
            "{'clf__alpha': 1, 'clf__fit_prior': True}\n",
            "Resultados: [0.44444444 0.57692308 0.57692308 0.61538462 0.46153846]\n",
            "Acurácia - 53.50 +- 6.87\n"
          ]
        },
        {
          "output_type": "stream",
          "name": "stderr",
          "text": [
            "/usr/local/lib/python3.7/dist-packages/sklearn/naive_bayes.py:507: UserWarning: alpha too small will result in numeric errors, setting alpha = 1.0e-10\n",
            "  'setting alpha = %.1e' % _ALPHA_MIN)\n",
            "/usr/local/lib/python3.7/dist-packages/sklearn/naive_bayes.py:507: UserWarning: alpha too small will result in numeric errors, setting alpha = 1.0e-10\n",
            "  'setting alpha = %.1e' % _ALPHA_MIN)\n",
            "/usr/local/lib/python3.7/dist-packages/sklearn/naive_bayes.py:507: UserWarning: alpha too small will result in numeric errors, setting alpha = 1.0e-10\n",
            "  'setting alpha = %.1e' % _ALPHA_MIN)\n",
            "/usr/local/lib/python3.7/dist-packages/sklearn/naive_bayes.py:507: UserWarning: alpha too small will result in numeric errors, setting alpha = 1.0e-10\n",
            "  'setting alpha = %.1e' % _ALPHA_MIN)\n",
            "/usr/local/lib/python3.7/dist-packages/sklearn/naive_bayes.py:507: UserWarning: alpha too small will result in numeric errors, setting alpha = 1.0e-10\n",
            "  'setting alpha = %.1e' % _ALPHA_MIN)\n",
            "/usr/local/lib/python3.7/dist-packages/sklearn/naive_bayes.py:507: UserWarning: alpha too small will result in numeric errors, setting alpha = 1.0e-10\n",
            "  'setting alpha = %.1e' % _ALPHA_MIN)\n"
          ]
        }
      ]
    },
    {
      "cell_type": "markdown",
      "metadata": {
        "id": "8aOk5iXQuSWo"
      },
      "source": [
        "## LinearSVC"
      ]
    },
    {
      "cell_type": "code",
      "metadata": {
        "colab": {
          "base_uri": "https://localhost:8080/"
        },
        "id": "m9RNruHrubG4",
        "outputId": "9a688664-d417-46b1-b8db-94b552b6e0c5"
      },
      "source": [
        "# https://scikit-learn.org/stable/modules/generated/sklearn.svm.SVC.html\n",
        "\n",
        "from sklearn.model_selection import cross_val_score\n",
        "from sklearn.model_selection import GridSearchCV\n",
        "from sklearn.pipeline import Pipeline\n",
        "\n",
        "X_train, X_test, y_train, y_test = train_test_split(X, y, test_size=0.2)\n",
        "X_train = count_vectorizer.fit_transform(X_train.values.astype('U'))\n",
        "X_test = count_vectorizer.transform(X_test.values.astype('U'))\n",
        "\n",
        "pipeline = Pipeline([('clf', svm.SVC())])\n",
        "\n",
        "parameters = {'clf__C': [1,2,3,4,5], 'clf__kernel': ['linear','poly','rbf','sigmoid']}\n",
        "clf = GridSearchCV(pipeline, parameters, cv=3)\n",
        "clf.fit(X_train, y_train)\n",
        "\n",
        "print(clf.best_params_)\n",
        "\n",
        "scores = cross_val_score(clf.best_estimator_, X_test, y_test, cv=5)\n",
        "print('Resultados:', scores)\n",
        "print('Acurácia - %.2f +- %.2f' % (scores.mean() * 100, scores.std() * 100))"
      ],
      "execution_count": null,
      "outputs": [
        {
          "output_type": "stream",
          "name": "stdout",
          "text": [
            "{'clf__C': 5, 'clf__kernel': 'rbf'}\n",
            "Resultados: [0.37037037 0.5        0.57692308 0.61538462 0.53846154]\n",
            "Acurácia - 52.02 +- 8.42\n"
          ]
        }
      ]
    },
    {
      "cell_type": "markdown",
      "metadata": {
        "id": "T0FRxhD_wqQo"
      },
      "source": [
        "## RandomForest"
      ]
    },
    {
      "cell_type": "code",
      "metadata": {
        "colab": {
          "base_uri": "https://localhost:8080/"
        },
        "id": "0TuMFRJ-ws-6",
        "outputId": "6a465ee8-6aba-400d-d997-01473c3df387"
      },
      "source": [
        "# https://scikit-learn.org/stable/modules/generated/sklearn.ensemble.RandomForestClassifier.html\n",
        "\n",
        "from sklearn.model_selection import cross_val_score\n",
        "from sklearn.model_selection import GridSearchCV\n",
        "from sklearn.pipeline import Pipeline\n",
        "from sklearn.ensemble import RandomForestClassifier\n",
        "\n",
        "X_train, X_test, y_train, y_test = train_test_split(X, y, test_size=0.2)\n",
        "X_train = count_vectorizer.fit_transform(X_train.values.astype('U'))\n",
        "X_test = count_vectorizer.transform(X_test.values.astype('U'))\n",
        "\n",
        "pipeline = Pipeline([('clf', RandomForestClassifier())])\n",
        "\n",
        "parameters = {'clf__n_estimators': [100,200,300,400,500], 'clf__criterion': ['gini','entropy']}\n",
        "clf = GridSearchCV(pipeline, parameters, cv=3)\n",
        "clf.fit(X_train, y_train)\n",
        "\n",
        "print(clf.best_params_)\n",
        "\n",
        "scores = cross_val_score(clf.best_estimator_, X_test, y_test, cv=5)\n",
        "print('Resultados:', scores)\n",
        "print('Acurácia - %.2f +- %.2f' % (scores.mean() * 100, scores.std() * 100))"
      ],
      "execution_count": null,
      "outputs": [
        {
          "output_type": "stream",
          "name": "stdout",
          "text": [
            "{'clf__criterion': 'gini', 'clf__n_estimators': 100}\n",
            "Resultados: [0.66666667 0.61538462 0.46153846 0.5        0.61538462]\n",
            "Acurácia - 57.18 +- 7.76\n"
          ]
        }
      ]
    },
    {
      "cell_type": "markdown",
      "metadata": {
        "id": "4jGAtHBfrDEU"
      },
      "source": [
        "## KNN"
      ]
    },
    {
      "cell_type": "code",
      "metadata": {
        "colab": {
          "base_uri": "https://localhost:8080/"
        },
        "id": "XSxmDIGgA59a",
        "outputId": "b5b26e6b-5435-4b56-eb3b-76e71b3c5a22"
      },
      "source": [
        "# https://scikit-learn.org/stable/modules/generated/sklearn.neighbors.KNeighborsClassifier.html\n",
        "\n",
        "# Teste com pipeline e hiperparâmetros\n",
        "from sklearn.model_selection import cross_val_score\n",
        "from sklearn.model_selection import GridSearchCV\n",
        "from sklearn.pipeline import Pipeline\n",
        "\n",
        "X_train, X_test, y_train, y_test = train_test_split(X, y, test_size=0.2)\n",
        "X_train = count_vectorizer.fit_transform(X_train.values.astype('U'))\n",
        "X_test = count_vectorizer.transform(X_test.values.astype('U'))\n",
        "\n",
        "pipeline = Pipeline([('clf', KNeighborsClassifier())])\n",
        "\n",
        "parameters = {'clf__n_neighbors': [1,2,3,4,5], 'clf__weights': ['uniform','distance']} # quais parâmetros e quais valores serão testados\n",
        "clf = GridSearchCV(pipeline, parameters, cv=3) # clf vai armazenar qual foi a melhor configuração\n",
        "clf.fit(X_train, y_train)\n",
        "\n",
        "print(clf.best_params_)\n",
        "\n",
        "scores = cross_val_score(clf.best_estimator_, X_test, y_test, cv=5)\n",
        "print('Resultados:', scores)\n",
        "print('Acurácia - %.2f +- %.2f' % (scores.mean() * 100, scores.std() * 100))"
      ],
      "execution_count": null,
      "outputs": [
        {
          "output_type": "stream",
          "name": "stdout",
          "text": [
            "{'clf__n_neighbors': 4, 'clf__weights': 'distance'}\n",
            "Resultados: [0.55555556 0.42307692 0.46153846 0.57692308 0.53846154]\n",
            "Acurácia - 51.11 +- 5.88\n"
          ]
        }
      ]
    }
  ]
}