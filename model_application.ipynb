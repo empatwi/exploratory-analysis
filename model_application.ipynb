{
 "cells": [
  {
   "cell_type": "code",
   "execution_count": 1,
   "metadata": {},
   "outputs": [
    {
     "data": {
      "text/html": [
       "<div>\n",
       "<style scoped>\n",
       "    .dataframe tbody tr th:only-of-type {\n",
       "        vertical-align: middle;\n",
       "    }\n",
       "\n",
       "    .dataframe tbody tr th {\n",
       "        vertical-align: top;\n",
       "    }\n",
       "\n",
       "    .dataframe thead th {\n",
       "        text-align: right;\n",
       "    }\n",
       "</style>\n",
       "<table border=\"1\" class=\"dataframe\">\n",
       "  <thead>\n",
       "    <tr style=\"text-align: right;\">\n",
       "      <th></th>\n",
       "      <th>tweet_content</th>\n",
       "      <th>keyword</th>\n",
       "      <th>user_location</th>\n",
       "      <th>classified</th>\n",
       "    </tr>\n",
       "  </thead>\n",
       "  <tbody>\n",
       "    <tr>\n",
       "      <th>0</th>\n",
       "      <td>mds nunca liberar</td>\n",
       "      <td>['Nubank']</td>\n",
       "      <td>Goiânia</td>\n",
       "      <td>0.0</td>\n",
       "    </tr>\n",
       "    <tr>\n",
       "      <th>1</th>\n",
       "      <td>viciar bateria celular</td>\n",
       "      <td>['Coca-cola']</td>\n",
       "      <td>Balneário Camboriú</td>\n",
       "      <td>1.0</td>\n",
       "    </tr>\n",
       "    <tr>\n",
       "      <th>2</th>\n",
       "      <td>toda vez vejo lá conferir saldo certo juro tra...</td>\n",
       "      <td>['Nubank']</td>\n",
       "      <td>None</td>\n",
       "      <td>0.0</td>\n",
       "    </tr>\n",
       "    <tr>\n",
       "      <th>3</th>\n",
       "      <td>pedir serasi</td>\n",
       "      <td>['Nubank']</td>\n",
       "      <td>Rio de Janeiro, Brasil</td>\n",
       "      <td>1.0</td>\n",
       "    </tr>\n",
       "    <tr>\n",
       "      <th>4</th>\n",
       "      <td>kayofeer acontecer mãe quase ano nada ainda</td>\n",
       "      <td>['Nubank']</td>\n",
       "      <td>Macaé, Brasil</td>\n",
       "      <td>1.0</td>\n",
       "    </tr>\n",
       "  </tbody>\n",
       "</table>\n",
       "</div>"
      ],
      "text/plain": [
       "                                       tweet_content        keyword  \\\n",
       "0                                  mds nunca liberar     ['Nubank']   \n",
       "1                             viciar bateria celular  ['Coca-cola']   \n",
       "2  toda vez vejo lá conferir saldo certo juro tra...     ['Nubank']   \n",
       "3                                       pedir serasi     ['Nubank']   \n",
       "4        kayofeer acontecer mãe quase ano nada ainda     ['Nubank']   \n",
       "\n",
       "            user_location  classified  \n",
       "0                 Goiânia         0.0  \n",
       "1      Balneário Camboriú         1.0  \n",
       "2                    None         0.0  \n",
       "3  Rio de Janeiro, Brasil         1.0  \n",
       "4           Macaé, Brasil         1.0  "
      ]
     },
     "execution_count": 1,
     "metadata": {},
     "output_type": "execute_result"
    }
   ],
   "source": [
    "import pandas as pd\n",
    "from sklearn.feature_extraction.text import CountVectorizer\n",
    "import numpy as np\n",
    "\n",
    "df_dataset = pd.read_csv('files/clean_text.csv')\n",
    "df_dataset = df_dataset.drop(['Unnamed: 0'], axis=1)\n",
    "df_dataset.head()"
   ]
  },
  {
   "cell_type": "code",
   "execution_count": 2,
   "metadata": {},
   "outputs": [],
   "source": [
    "# Bag of words\n",
    "count_vectorizer = CountVectorizer(binary=True)"
   ]
  },
  {
   "cell_type": "code",
   "execution_count": 3,
   "metadata": {},
   "outputs": [],
   "source": [
    "X = df_dataset['tweet_content']"
   ]
  },
  {
   "cell_type": "code",
   "execution_count": 4,
   "metadata": {},
   "outputs": [],
   "source": [
    "y = df_dataset['classified']"
   ]
  },
  {
   "cell_type": "markdown",
   "metadata": {},
   "source": [
    "## Separando em treino e teste"
   ]
  },
  {
   "cell_type": "code",
   "execution_count": 5,
   "metadata": {},
   "outputs": [],
   "source": [
    "from sklearn.model_selection import train_test_split\n",
    "\n",
    "X_train, X_test, y_train, y_test = train_test_split(X, y, test_size=0.2)\n",
    "X_train = count_vectorizer.fit_transform(X_train.values.astype('U'))\n",
    "X_test = count_vectorizer.transform(X_test.values.astype('U'))"
   ]
  },
  {
   "cell_type": "code",
   "execution_count": 6,
   "metadata": {},
   "outputs": [],
   "source": [
    "from sklearn.naive_bayes import MultinomialNB\n",
    "\n",
    "#Criando o Modelo Naive Bayes \n",
    "naive_bayes = MultinomialNB()\n",
    "\n",
    "#.......Treinando o Modelo.......\n",
    "naive_bayes.fit(X_train, y_train)\n",
    "\n",
    "#Fazendo as previsões\n",
    "naive_bayes_pred = naive_bayes.predict(X_test)"
   ]
  },
  {
   "cell_type": "code",
   "execution_count": 7,
   "metadata": {},
   "outputs": [
    {
     "name": "stdout",
     "output_type": "stream",
     "text": [
      "Acurácia do modelo 62.59541984732825\n",
      "\n",
      "Matriz de confusão: \n",
      " [[25 18]\n",
      " [31 57]]\n"
     ]
    }
   ],
   "source": [
    "from sklearn.metrics import accuracy_score, confusion_matrix\n",
    "\n",
    "#Calculando a acurácia\n",
    "acc = accuracy_score(naive_bayes_pred, y_test)\n",
    "\n",
    "#Matriz de confusão \n",
    "cm = confusion_matrix(naive_bayes_pred, y_test)\n",
    "\n",
    "print(\"Acurácia do modelo\", acc*100)\n",
    "print(\"\\nMatriz de confusão: \\n\", cm)"
   ]
  },
  {
   "cell_type": "code",
   "execution_count": 8,
   "metadata": {},
   "outputs": [
    {
     "name": "stdout",
     "output_type": "stream",
     "text": [
      "[0.]\n"
     ]
    }
   ],
   "source": [
    "nova_frase = [\"ódio da nubank quando tem notificação e é propaganda ao invés de ser dinheiro caindo na minha conta\"] \n",
    "teste = count_vectorizer.transform(nova_frase)\n",
    "pred = naive_bayes.predict(teste)\n",
    "print(pred)"
   ]
  },
  {
   "cell_type": "code",
   "execution_count": 9,
   "metadata": {},
   "outputs": [
    {
     "name": "stdout",
     "output_type": "stream",
     "text": [
      "[1.]\n"
     ]
    }
   ],
   "source": [
    "nova_frase2 = [\"Chegou o meu cartão do @nubank. Tô amando a embalagem dele Cara sorridente com os olhos em forma de coração\"] \n",
    "teste2 = count_vectorizer.transform(nova_frase2)\n",
    "pred2 = naive_bayes.predict(teste2)\n",
    "print(pred2)"
   ]
  },
  {
   "cell_type": "markdown",
   "metadata": {},
   "source": [
    "## Separando datasets por Keyword"
   ]
  },
  {
   "cell_type": "code",
   "execution_count": 10,
   "metadata": {},
   "outputs": [],
   "source": [
    "df_nubank = df_dataset[['Nubank' in x for x in df_dataset['keyword']]]"
   ]
  },
  {
   "cell_type": "code",
   "execution_count": 11,
   "metadata": {},
   "outputs": [],
   "source": [
    "df_nike = df_dataset[['Nike' in x for x in df_dataset['keyword']]]"
   ]
  },
  {
   "cell_type": "code",
   "execution_count": 12,
   "metadata": {},
   "outputs": [],
   "source": [
    "df_shein = df_dataset[['SHEIN' in x for x in df_dataset['keyword']]]"
   ]
  },
  {
   "cell_type": "code",
   "execution_count": 13,
   "metadata": {},
   "outputs": [],
   "source": [
    "nubank_count_vectorizer = CountVectorizer(binary=True)\n",
    "\n",
    "X_nubank = df_nubank['tweet_content']\n",
    "y_nubank = df_nubank['classified']\n",
    "\n",
    "X_train_nubank, X_test_nubank, y_train_nubank, y_test_nubank = train_test_split(X_nubank, y_nubank, test_size=0.3, \n",
    "                                                                                random_state=42, stratify=y_nubank)\n",
    "X_train_nubank = nubank_count_vectorizer.fit_transform(X_train_nubank)\n",
    "X_test_nubank = nubank_count_vectorizer.transform(X_test_nubank.values.astype('U'))"
   ]
  },
  {
   "cell_type": "code",
   "execution_count": 14,
   "metadata": {},
   "outputs": [],
   "source": [
    "nike_count_vectorizer = CountVectorizer(binary=True)\n",
    "\n",
    "X_nike = df_nike['tweet_content']\n",
    "y_nike = df_nike['classified']\n",
    "\n",
    "X_train_nike, X_test_nike, y_train_nike, y_test_nike = train_test_split(X_nike, y_nike, test_size=0.3, \n",
    "                                                                                random_state=42, stratify=y_nike)\n",
    "X_train_nike = nike_count_vectorizer.fit_transform(X_train_nike.values.astype('U'))\n",
    "X_test_nike = nike_count_vectorizer.transform(X_test_nike.values.astype('U'))"
   ]
  },
  {
   "cell_type": "code",
   "execution_count": 15,
   "metadata": {},
   "outputs": [],
   "source": [
    "shein_count_vectorizer = CountVectorizer(binary=True)\n",
    "\n",
    "X_shein = df_shein['tweet_content']\n",
    "y_shein = df_shein['classified']\n",
    "\n",
    "X_train_shein, X_test_shein, y_train_shein, y_test_shein = train_test_split(X_shein, y_shein, test_size=0.3, \n",
    "                                                                                random_state=42, stratify=y_shein)\n",
    "X_train_shein = shein_count_vectorizer.fit_transform(X_train_shein.values.astype('U'))\n",
    "X_test_shein = shein_count_vectorizer.transform(X_test_shein.values.astype('U'))"
   ]
  },
  {
   "cell_type": "markdown",
   "metadata": {},
   "source": [
    "## Aplicando MultinomialNB - Nubank"
   ]
  },
  {
   "cell_type": "code",
   "execution_count": 16,
   "metadata": {
    "scrolled": true
   },
   "outputs": [
    {
     "name": "stdout",
     "output_type": "stream",
     "text": [
      "F-medida: 58.2089552238806\n",
      "\n",
      "Matriz de confusão: \n",
      " [[28 19]\n",
      " [ 9 11]]\n"
     ]
    }
   ],
   "source": [
    "from sklearn.model_selection import train_test_split\n",
    "from sklearn.naive_bayes import MultinomialNB\n",
    "from sklearn.metrics import f1_score\n",
    "\n",
    "#Criando o Modelo Naive Bayes \n",
    "naive_bayes_nubank = MultinomialNB()\n",
    "#.......Treinando o Modelo.......\n",
    "naive_bayes_nubank.fit(X_train_nubank, y_train_nubank)\n",
    "#Fazendo as previsões\n",
    "naive_bayes_pred_nubank = naive_bayes_nubank.predict(X_test_nubank)\n",
    "\n",
    "f_medida_nubank = f1_score(y_test_nubank, naive_bayes_pred_nubank, average='micro')\n",
    "cm_nubank = confusion_matrix(naive_bayes_pred_nubank, y_test_nubank)\n",
    "\n",
    "print(\"F-medida:\", f_medida_nubank*100)\n",
    "print(\"\\nMatriz de confusão: \\n\", cm_nubank)"
   ]
  },
  {
   "cell_type": "markdown",
   "metadata": {},
   "source": [
    "## Multinomial NB - Nike"
   ]
  },
  {
   "cell_type": "code",
   "execution_count": 17,
   "metadata": {},
   "outputs": [
    {
     "name": "stdout",
     "output_type": "stream",
     "text": [
      "F-medida: 59.25925925925925\n",
      "\n",
      "Matriz de confusão: \n",
      " [[11  9]\n",
      " [13 21]]\n"
     ]
    }
   ],
   "source": [
    "#Criando o Modelo Naive Bayes \n",
    "naive_bayes_nike = MultinomialNB()\n",
    "#.......Treinando o Modelo.......\n",
    "naive_bayes_nike.fit(X_train_nike, y_train_nike)\n",
    "#Fazendo as previsões\n",
    "naive_bayes_pred_nike = naive_bayes_nike.predict(X_test_nike)\n",
    "\n",
    "f_medida_nike = f1_score(y_test_nike, naive_bayes_pred_nike, average='micro')\n",
    "cm_nike = confusion_matrix(naive_bayes_pred_nike, y_test_nike)\n",
    "\n",
    "print(\"F-medida:\", f_medida_nike*100)\n",
    "print(\"\\nMatriz de confusão: \\n\", cm_nike)"
   ]
  },
  {
   "cell_type": "markdown",
   "metadata": {},
   "source": [
    "## MultinomialNB - SHEIN"
   ]
  },
  {
   "cell_type": "code",
   "execution_count": 18,
   "metadata": {},
   "outputs": [
    {
     "name": "stdout",
     "output_type": "stream",
     "text": [
      "F-medida: 65.21739130434783\n",
      "\n",
      "Matriz de confusão: \n",
      " [[ 5  3]\n",
      " [13 25]]\n"
     ]
    }
   ],
   "source": [
    "#Criando o Modelo Naive Bayes \n",
    "naive_bayes_shein = MultinomialNB()\n",
    "#.......Treinando o Modelo.......\n",
    "naive_bayes_shein.fit(X_train_shein, y_train_shein)\n",
    "#Fazendo as previsões\n",
    "naive_bayes_pred_shein = naive_bayes_shein.predict(X_test_shein)\n",
    "\n",
    "f_medida_shein = f1_score(y_test_shein, naive_bayes_pred_shein, average='micro')\n",
    "cm_shein = confusion_matrix(naive_bayes_pred_shein, y_test_shein)\n",
    "\n",
    "print(\"F-medida:\", f_medida_shein*100)\n",
    "print(\"\\nMatriz de confusão: \\n\", cm_shein)"
   ]
  },
  {
   "cell_type": "markdown",
   "metadata": {},
   "source": [
    "## LinearSVC - Nubank"
   ]
  },
  {
   "cell_type": "code",
   "execution_count": 19,
   "metadata": {},
   "outputs": [
    {
     "name": "stdout",
     "output_type": "stream",
     "text": [
      "F-medida: 52.23880597014925\n",
      "\n",
      "Matriz de confusão: \n",
      " [[25 20]\n",
      " [12 10]]\n"
     ]
    }
   ],
   "source": [
    "from sklearn import svm\n",
    "\n",
    "SVM = svm.SVC(C=1.0, kernel='linear')\n",
    "SVM.fit(X_train_nubank, y_train_nubank)\n",
    "predictions_SVM_nubank = SVM.predict(X_test_nubank)\n",
    "\n",
    "f_medida_nubank_svm = f1_score(y_test_nubank, predictions_SVM_nubank, average='micro')\n",
    "cm_nubank_svm = confusion_matrix(predictions_SVM_nubank, y_test_nubank)\n",
    "\n",
    "print(\"F-medida:\", f_medida_nubank_svm*100)\n",
    "print(\"\\nMatriz de confusão: \\n\", cm_nubank_svm)"
   ]
  },
  {
   "cell_type": "markdown",
   "metadata": {},
   "source": [
    "## LinearSVC - Nike"
   ]
  },
  {
   "cell_type": "code",
   "execution_count": 20,
   "metadata": {},
   "outputs": [
    {
     "name": "stdout",
     "output_type": "stream",
     "text": [
      "F-medida: 55.55555555555556\n",
      "\n",
      "Matriz de confusão: \n",
      " [[ 7  7]\n",
      " [17 23]]\n"
     ]
    }
   ],
   "source": [
    "SVM = svm.SVC(C=1.0, kernel='linear')\n",
    "SVM.fit(X_train_nike, y_train_nike)\n",
    "predictions_SVM_nike = SVM.predict(X_test_nike)\n",
    "\n",
    "f_medida_nike_svm = f1_score(y_test_nike, predictions_SVM_nike, average='micro')\n",
    "cm_nike_svm = confusion_matrix(predictions_SVM_nike, y_test_nike)\n",
    "\n",
    "print(\"F-medida:\", f_medida_nike_svm*100)\n",
    "print(\"\\nMatriz de confusão: \\n\", cm_nike_svm)"
   ]
  },
  {
   "cell_type": "markdown",
   "metadata": {},
   "source": [
    "## LinearSVC - SHEIN"
   ]
  },
  {
   "cell_type": "code",
   "execution_count": 21,
   "metadata": {},
   "outputs": [
    {
     "name": "stdout",
     "output_type": "stream",
     "text": [
      "F-medida: 60.86956521739131\n",
      "\n",
      "Matriz de confusão: \n",
      " [[ 2  2]\n",
      " [16 26]]\n"
     ]
    }
   ],
   "source": [
    "SVM = svm.SVC(C=1.0, kernel='linear')\n",
    "SVM.fit(X_train_shein, y_train_shein)\n",
    "predictions_SVM_shein = SVM.predict(X_test_shein)\n",
    "\n",
    "f_medida_shein_svm = f1_score(y_test_shein, predictions_SVM_shein, average='micro')\n",
    "cm_shein_svm = confusion_matrix(predictions_SVM_shein, y_test_shein)\n",
    "\n",
    "print(\"F-medida:\", f_medida_shein_svm*100)\n",
    "print(\"\\nMatriz de confusão: \\n\", cm_shein_svm)"
   ]
  },
  {
   "cell_type": "markdown",
   "metadata": {},
   "source": [
    "## Random Forest - Nubank"
   ]
  },
  {
   "cell_type": "code",
   "execution_count": 22,
   "metadata": {},
   "outputs": [
    {
     "name": "stdout",
     "output_type": "stream",
     "text": [
      "F-medida: 59.70149253731343\n",
      "\n",
      "Matriz de confusão: \n",
      " [[34 24]\n",
      " [ 3  6]]\n"
     ]
    }
   ],
   "source": [
    "from sklearn.ensemble import RandomForestClassifier\n",
    "rfc = RandomForestClassifier(random_state=42)\n",
    "rfc.fit(X_train_nubank, y_train_nubank)\n",
    "predictions_rfc_nubank = rfc.predict(X_test_nubank)\n",
    "\n",
    "f_medida_nubank_rfc = f1_score(y_test_nubank, predictions_rfc_nubank, average='micro')\n",
    "cm_nubank_rfc = confusion_matrix(predictions_rfc_nubank, y_test_nubank)\n",
    "\n",
    "print(\"F-medida:\", f_medida_nubank_rfc*100)\n",
    "print(\"\\nMatriz de confusão: \\n\", cm_nubank_rfc)"
   ]
  },
  {
   "cell_type": "markdown",
   "metadata": {},
   "source": [
    "## Random Forest - Nike"
   ]
  },
  {
   "cell_type": "code",
   "execution_count": 23,
   "metadata": {},
   "outputs": [
    {
     "name": "stdout",
     "output_type": "stream",
     "text": [
      "F-medida: 53.70370370370371\n",
      "\n",
      "Matriz de confusão: \n",
      " [[ 2  3]\n",
      " [22 27]]\n"
     ]
    }
   ],
   "source": [
    "rfc.fit(X_train_nike, y_train_nike)\n",
    "predictions_rfc_nike = rfc.predict(X_test_nike)\n",
    "\n",
    "f_medida_nike_rfc = f1_score(y_test_nike, predictions_rfc_nike, average='micro')\n",
    "cm_nike_rfc = confusion_matrix(predictions_rfc_nike, y_test_nike)\n",
    "\n",
    "print(\"F-medida:\", f_medida_nike_rfc*100)\n",
    "print(\"\\nMatriz de confusão: \\n\", cm_nike_rfc)"
   ]
  },
  {
   "cell_type": "markdown",
   "metadata": {},
   "source": [
    "## Random Forest - SHEIN"
   ]
  },
  {
   "cell_type": "code",
   "execution_count": 24,
   "metadata": {},
   "outputs": [
    {
     "name": "stdout",
     "output_type": "stream",
     "text": [
      "F-medida: 60.86956521739131\n",
      "\n",
      "Matriz de confusão: \n",
      " [[ 0  0]\n",
      " [18 28]]\n"
     ]
    }
   ],
   "source": [
    "rfc.fit(X_train_shein, y_train_shein)\n",
    "predictions_rfc_shein = rfc.predict(X_test_shein)\n",
    "\n",
    "f_medida_shein_rfc = f1_score(y_test_shein, predictions_rfc_shein, average='micro')\n",
    "cm_shein_rfc = confusion_matrix(predictions_rfc_shein, y_test_shein)\n",
    "\n",
    "print(\"F-medida:\", f_medida_shein_rfc*100)\n",
    "print(\"\\nMatriz de confusão: \\n\", cm_shein_rfc)"
   ]
  },
  {
   "cell_type": "markdown",
   "metadata": {},
   "source": [
    "## KNN - Nubank"
   ]
  },
  {
   "cell_type": "code",
   "execution_count": 25,
   "metadata": {},
   "outputs": [
    {
     "name": "stdout",
     "output_type": "stream",
     "text": [
      "F-medida: 67.16417910447761\n",
      "\n",
      "Matriz de confusão: \n",
      " [[36 21]\n",
      " [ 1  9]]\n"
     ]
    }
   ],
   "source": [
    "from sklearn.neighbors import KNeighborsClassifier\n",
    "import numpy as np\n",
    "knn = KNeighborsClassifier(n_neighbors=1)\n",
    "\n",
    "knn.fit(X_train_nubank, y_train_nubank)\n",
    "\n",
    "predictions_knn_nubank = knn.predict(X_test_nubank)\n",
    "\n",
    "f_medida_nubank_knn = f1_score(y_test_nubank, predictions_knn_nubank, average='micro')\n",
    "cm_nubank_knn = confusion_matrix(predictions_knn_nubank, y_test_nubank)\n",
    "\n",
    "print(\"F-medida:\", f_medida_nubank_knn*100)\n",
    "print(\"\\nMatriz de confusão: \\n\", cm_nubank_knn)"
   ]
  },
  {
   "cell_type": "markdown",
   "metadata": {},
   "source": [
    "## KNN - Nike"
   ]
  },
  {
   "cell_type": "code",
   "execution_count": 26,
   "metadata": {},
   "outputs": [
    {
     "name": "stdout",
     "output_type": "stream",
     "text": [
      "F-medida: 59.25925925925925\n",
      "\n",
      "Matriz de confusão: \n",
      " [[ 5  3]\n",
      " [19 27]]\n"
     ]
    }
   ],
   "source": [
    "knn.fit(X_train_nike, y_train_nike)\n",
    "\n",
    "predictions_knn_nike = knn.predict(X_test_nike)\n",
    "\n",
    "f_medida_nike_knn = f1_score(y_test_nike, predictions_knn_nike, average='micro')\n",
    "cm_nike_knn = confusion_matrix(predictions_knn_nike, y_test_nike)\n",
    "\n",
    "print(\"F-medida:\", f_medida_nike_knn*100)\n",
    "print(\"\\nMatriz de confusão: \\n\", cm_nike_knn)"
   ]
  },
  {
   "cell_type": "markdown",
   "metadata": {},
   "source": [
    "## KNN - SHEIN"
   ]
  },
  {
   "cell_type": "code",
   "execution_count": 27,
   "metadata": {},
   "outputs": [
    {
     "name": "stdout",
     "output_type": "stream",
     "text": [
      "F-medida: 54.347826086956516\n",
      "\n",
      "Matriz de confusão: \n",
      " [[11 14]\n",
      " [ 7 14]]\n"
     ]
    }
   ],
   "source": [
    "knn.fit(X_train_shein, y_train_shein)\n",
    "\n",
    "predictions_knn_shein = knn.predict(X_test_shein)\n",
    "\n",
    "f_medida_shein_knn = f1_score(y_test_shein, predictions_knn_shein, average='micro')\n",
    "cm_shein_knn = confusion_matrix(predictions_knn_shein, y_test_shein)\n",
    "\n",
    "print(\"F-medida:\", f_medida_shein_knn*100)\n",
    "print(\"\\nMatriz de confusão: \\n\", cm_shein_knn)"
   ]
  },
  {
   "cell_type": "markdown",
   "metadata": {},
   "source": [
    "# Aplicando os modelos no dataset inteiro"
   ]
  },
  {
   "cell_type": "markdown",
   "metadata": {},
   "source": [
    "## Naive Bayes"
   ]
  },
  {
   "cell_type": "code",
   "execution_count": 28,
   "metadata": {},
   "outputs": [
    {
     "name": "stdout",
     "output_type": "stream",
     "text": [
      "F-medida: 62.59541984732825\n",
      "\n",
      "Matriz de confusão: \n",
      " [[25 18]\n",
      " [31 57]]\n"
     ]
    }
   ],
   "source": [
    "#Criando o Modelo Naive Bayes \n",
    "naive_bayes = MultinomialNB()\n",
    "#.......Treinando o Modelo.......\n",
    "naive_bayes.fit(X_train, y_train)\n",
    "#Fazendo as previsões\n",
    "naive_bayes_pred = naive_bayes.predict(X_test)\n",
    "\n",
    "f_medida = f1_score(y_test, naive_bayes_pred, average='micro')\n",
    "cm = confusion_matrix(naive_bayes_pred, y_test)\n",
    "\n",
    "print(\"F-medida:\", f_medida*100)\n",
    "print(\"\\nMatriz de confusão: \\n\", cm)"
   ]
  },
  {
   "cell_type": "markdown",
   "metadata": {},
   "source": [
    "## LinearSVC"
   ]
  },
  {
   "cell_type": "code",
   "execution_count": 29,
   "metadata": {},
   "outputs": [
    {
     "name": "stdout",
     "output_type": "stream",
     "text": [
      "F-medida: 57.25190839694656\n",
      "\n",
      "Matriz de confusão: \n",
      " [[23 23]\n",
      " [33 52]]\n"
     ]
    }
   ],
   "source": [
    "SVM = svm.SVC(C=1.0, kernel='linear')\n",
    "SVM.fit(X_train, y_train)\n",
    "predictions_SVM = SVM.predict(X_test)\n",
    "\n",
    "f_medida_svm = f1_score(y_test, predictions_SVM, average='micro')\n",
    "cm_svm = confusion_matrix(predictions_SVM, y_test)\n",
    "\n",
    "print(\"F-medida:\", f_medida_svm*100)\n",
    "print(\"\\nMatriz de confusão: \\n\", cm_svm)"
   ]
  },
  {
   "cell_type": "markdown",
   "metadata": {},
   "source": [
    "## RandomForest"
   ]
  },
  {
   "cell_type": "code",
   "execution_count": 30,
   "metadata": {},
   "outputs": [
    {
     "name": "stdout",
     "output_type": "stream",
     "text": [
      "F-medida: 61.832061068702295\n",
      "\n",
      "Matriz de confusão: \n",
      " [[17 11]\n",
      " [39 64]]\n"
     ]
    }
   ],
   "source": [
    "rfc.fit(X_train, y_train)\n",
    "predictions_rfc = rfc.predict(X_test)\n",
    "\n",
    "f_medida_rfc = f1_score(y_test, predictions_rfc, average='micro')\n",
    "cm_rfc = confusion_matrix(predictions_rfc, y_test)\n",
    "\n",
    "print(\"F-medida:\", f_medida_rfc*100)\n",
    "print(\"\\nMatriz de confusão: \\n\", cm_rfc)"
   ]
  },
  {
   "cell_type": "markdown",
   "metadata": {},
   "source": [
    "## KNN"
   ]
  },
  {
   "cell_type": "code",
   "execution_count": 38,
   "metadata": {},
   "outputs": [
    {
     "name": "stdout",
     "output_type": "stream",
     "text": [
      "{'clf__n_neighbors': 1, 'clf__weights': 'uniform'}\n",
      "Resultados: [0.37037037 0.61538462 0.61538462 0.61538462 0.73076923]\n",
      "Acurácia - 58.95 +- 11.83\n"
     ]
    }
   ],
   "source": [
    "\"\"\"\n",
    "knn.fit(X_train, y_train)\n",
    "\n",
    "predictions_knn = knn.predict(X_test)\n",
    "\n",
    "f_medida_knn = f1_score(y_test, predictions_knn, average='micro')\n",
    "cm_knn = confusion_matrix(predictions_knn, y_test)\n",
    "\n",
    "print(\"F-medida:\", f_medida_knn*100)\n",
    "print(\"\\nMatriz de confusão: \\n\", cm_knn)\n",
    "\"\"\"\n",
    "\n",
    "# Teste com pipeline e hiperparâmetros\n",
    "from sklearn.model_selection import cross_val_score\n",
    "from sklearn.model_selection import GridSearchCV\n",
    "from sklearn.pipeline import Pipeline\n",
    "\n",
    "X_train, X_test, y_train, y_test = train_test_split(X, y, test_size=0.2)\n",
    "X_train = count_vectorizer.fit_transform(X_train.values.astype('U'))\n",
    "X_test = count_vectorizer.transform(X_test.values.astype('U'))\n",
    "\n",
    "pipeline = Pipeline([('clf', KNeighborsClassifier())])\n",
    "\n",
    "parameters = {'clf__n_neighbors': [1,2,3,4,5], 'clf__weights' : ['uniform','distance']} # quais parâmetros e quais valores serão testados\n",
    "clf = GridSearchCV(pipeline, parameters, cv=3) # clf vai armazenar qual foi a melhor configuração\n",
    "clf.fit(X_train, y_train)\n",
    "\n",
    "print(clf.best_params_)\n",
    "\n",
    "scores = cross_val_score(clf.best_estimator_, X_test, y_test, cv=5)\n",
    "print('Resultados:', scores)\n",
    "print('Acurácia - %.2f +- %.2f' % (scores.mean() * 100, scores.std() * 100))"
   ]
  },
  {
   "cell_type": "markdown",
   "metadata": {},
   "source": [
    "# Hiperparâmetros"
   ]
  },
  {
   "cell_type": "code",
   "execution_count": 32,
   "metadata": {},
   "outputs": [],
   "source": [
    "X_train, X_test, y_train, y_test = train_test_split(X, y, test_size=0.9, random_state=42, stratify=y)"
   ]
  },
  {
   "cell_type": "code",
   "execution_count": 33,
   "metadata": {},
   "outputs": [
    {
     "data": {
      "text/plain": [
       "(65,)"
      ]
     },
     "execution_count": 33,
     "metadata": {},
     "output_type": "execute_result"
    }
   ],
   "source": [
    "X_train.shape"
   ]
  },
  {
   "cell_type": "code",
   "execution_count": null,
   "metadata": {},
   "outputs": [],
   "source": []
  }
 ],
 "metadata": {
  "kernelspec": {
   "display_name": "Python 3",
   "language": "python",
   "name": "python3"
  },
  "language_info": {
   "codemirror_mode": {
    "name": "ipython",
    "version": 3
   },
   "file_extension": ".py",
   "mimetype": "text/x-python",
   "name": "python",
   "nbconvert_exporter": "python",
   "pygments_lexer": "ipython3",
   "version": "3.8.5"
  }
 },
 "nbformat": 4,
 "nbformat_minor": 4
}
