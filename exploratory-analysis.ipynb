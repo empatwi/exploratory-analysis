{
 "cells": [
  {
   "cell_type": "code",
   "execution_count": 1,
   "metadata": {},
   "outputs": [],
   "source": [
    "import pandas as pd\n",
    "import ast\n",
    "df = pd.read_csv('20052021.csv')"
   ]
  },
  {
   "cell_type": "code",
   "execution_count": 2,
   "metadata": {},
   "outputs": [
    {
     "data": {
      "text/html": [
       "<div>\n",
       "<style scoped>\n",
       "    .dataframe tbody tr th:only-of-type {\n",
       "        vertical-align: middle;\n",
       "    }\n",
       "\n",
       "    .dataframe tbody tr th {\n",
       "        vertical-align: top;\n",
       "    }\n",
       "\n",
       "    .dataframe thead th {\n",
       "        text-align: right;\n",
       "    }\n",
       "</style>\n",
       "<table border=\"1\" class=\"dataframe\">\n",
       "  <thead>\n",
       "    <tr style=\"text-align: right;\">\n",
       "      <th></th>\n",
       "      <th>_id</th>\n",
       "      <th>created_at</th>\n",
       "      <th>tweet_content</th>\n",
       "      <th>keyword</th>\n",
       "      <th>user_location</th>\n",
       "      <th>entities</th>\n",
       "      <th>classification</th>\n",
       "    </tr>\n",
       "  </thead>\n",
       "  <tbody>\n",
       "    <tr>\n",
       "      <th>0</th>\n",
       "      <td>ObjectId(6091f3547ef2d107a44055cc)</td>\n",
       "      <td>2021-05-04 12:30:48</td>\n",
       "      <td>mds nubank nunca libera mais limite pra mim</td>\n",
       "      <td>['Nubank']</td>\n",
       "      <td>Goiânia</td>\n",
       "      <td>{'hashtags': [], 'urls': [], 'user_mentions': ...</td>\n",
       "      <td>[{\"classification\":false,\"created_at\":\"2021-05...</td>\n",
       "    </tr>\n",
       "    <tr>\n",
       "      <th>1</th>\n",
       "      <td>ObjectId(6091f3547ef2d107a44055cd)</td>\n",
       "      <td>2021-05-04 12:31:09</td>\n",
       "      <td>mais viciado que a bateria do meu celular só e...</td>\n",
       "      <td>['Coca-cola']</td>\n",
       "      <td>Balneário Camboriú</td>\n",
       "      <td>{'hashtags': [], 'urls': [], 'user_mentions': ...</td>\n",
       "      <td>[{\"classification\":false,\"created_at\":\"2021-05...</td>\n",
       "    </tr>\n",
       "    <tr>\n",
       "      <th>2</th>\n",
       "      <td>ObjectId(6091f3547ef2d107a44055ce)</td>\n",
       "      <td>2021-05-04 12:31:27</td>\n",
       "      <td>toda vez que vejo Nubank nos tt vou lá conferi...</td>\n",
       "      <td>['Nubank']</td>\n",
       "      <td>None</td>\n",
       "      <td>{'hashtags': [], 'urls': [], 'user_mentions': ...</td>\n",
       "      <td>[{\"classification\":false,\"created_at\":\"2021-05...</td>\n",
       "    </tr>\n",
       "    <tr>\n",
       "      <th>3</th>\n",
       "      <td>ObjectId(6091f3547ef2d107a44055cf)</td>\n",
       "      <td>2021-05-04 12:31:25</td>\n",
       "      <td>Pedi 10k de limite pra Nubank serasi?</td>\n",
       "      <td>['Nubank']</td>\n",
       "      <td>Rio de Janeiro, Brasil</td>\n",
       "      <td>{'hashtags': [], 'urls': [], 'user_mentions': ...</td>\n",
       "      <td>[{\"classification\":true,\"created_at\":\"2021-05-...</td>\n",
       "    </tr>\n",
       "    <tr>\n",
       "      <th>4</th>\n",
       "      <td>ObjectId(6091f3547ef2d107a44055d0)</td>\n",
       "      <td>2021-05-04 12:31:20</td>\n",
       "      <td>@kayofeer @nubank Aconteceu isso c a minha mãe...</td>\n",
       "      <td>['Nubank']</td>\n",
       "      <td>Macaé, Brasil</td>\n",
       "      <td>{'hashtags': [], 'urls': [], 'user_mentions': ...</td>\n",
       "      <td>[{\"classification\":false,\"created_at\":\"2021-05...</td>\n",
       "    </tr>\n",
       "  </tbody>\n",
       "</table>\n",
       "</div>"
      ],
      "text/plain": [
       "                                  _id           created_at  \\\n",
       "0  ObjectId(6091f3547ef2d107a44055cc)  2021-05-04 12:30:48   \n",
       "1  ObjectId(6091f3547ef2d107a44055cd)  2021-05-04 12:31:09   \n",
       "2  ObjectId(6091f3547ef2d107a44055ce)  2021-05-04 12:31:27   \n",
       "3  ObjectId(6091f3547ef2d107a44055cf)  2021-05-04 12:31:25   \n",
       "4  ObjectId(6091f3547ef2d107a44055d0)  2021-05-04 12:31:20   \n",
       "\n",
       "                                       tweet_content        keyword  \\\n",
       "0        mds nubank nunca libera mais limite pra mim     ['Nubank']   \n",
       "1  mais viciado que a bateria do meu celular só e...  ['Coca-cola']   \n",
       "2  toda vez que vejo Nubank nos tt vou lá conferi...     ['Nubank']   \n",
       "3              Pedi 10k de limite pra Nubank serasi?     ['Nubank']   \n",
       "4  @kayofeer @nubank Aconteceu isso c a minha mãe...     ['Nubank']   \n",
       "\n",
       "            user_location                                           entities  \\\n",
       "0                 Goiânia  {'hashtags': [], 'urls': [], 'user_mentions': ...   \n",
       "1      Balneário Camboriú  {'hashtags': [], 'urls': [], 'user_mentions': ...   \n",
       "2                    None  {'hashtags': [], 'urls': [], 'user_mentions': ...   \n",
       "3  Rio de Janeiro, Brasil  {'hashtags': [], 'urls': [], 'user_mentions': ...   \n",
       "4           Macaé, Brasil  {'hashtags': [], 'urls': [], 'user_mentions': ...   \n",
       "\n",
       "                                      classification  \n",
       "0  [{\"classification\":false,\"created_at\":\"2021-05...  \n",
       "1  [{\"classification\":false,\"created_at\":\"2021-05...  \n",
       "2  [{\"classification\":false,\"created_at\":\"2021-05...  \n",
       "3  [{\"classification\":true,\"created_at\":\"2021-05-...  \n",
       "4  [{\"classification\":false,\"created_at\":\"2021-05...  "
      ]
     },
     "execution_count": 2,
     "metadata": {},
     "output_type": "execute_result"
    }
   ],
   "source": [
    "df.head()"
   ]
  },
  {
   "cell_type": "code",
   "execution_count": 3,
   "metadata": {},
   "outputs": [],
   "source": [
    "df = df.drop('_id', 1)"
   ]
  },
  {
   "cell_type": "code",
   "execution_count": 102,
   "metadata": {},
   "outputs": [
    {
     "data": {
      "text/plain": [
       "'[{\"classification\":false,\"created_at\":\"2021-05-10T12:43:36.439Z\"},{\"classification\":true,\"created_at\":\"2021-05-10T12:50:50.683Z\"},{\"classification\":true,\"created_at\":\"2021-05-10T13:03:11.475Z\"}]'"
      ]
     },
     "execution_count": 102,
     "metadata": {},
     "output_type": "execute_result"
    }
   ],
   "source": [
    "df.classification[1]"
   ]
  },
  {
   "cell_type": "code",
   "execution_count": 144,
   "metadata": {},
   "outputs": [],
   "source": [
    "classification_df = pd.DataFrame()"
   ]
  },
  {
   "cell_type": "code",
   "execution_count": 145,
   "metadata": {
    "scrolled": false
   },
   "outputs": [],
   "source": [
    "import numpy as np\n",
    "import json\n",
    "\n",
    "classification = df.classification.tolist()\n",
    "for index in range(0, len(classification)):\n",
    "    if classification[index] is np.nan:\n",
    "        new_row = {\n",
    "            'classification.1': 'n/a',\n",
    "            'created_at.1': 'n/a',\n",
    "            'classification.2': 'n/a',\n",
    "            'created_at.2': 'n/a',\n",
    "            'classification.3': 'n/a',\n",
    "            'created_at.3': 'n/a'\n",
    "        }\n",
    "    else:\n",
    "        classification_dict = eval(classification[index].replace('false', 'False').replace('true', 'True'))\n",
    "        range_ = len(classification_dict)\n",
    "        for teste in range(0, len(classification_dict)):\n",
    "            try:\n",
    "                if classification_dict[0]:\n",
    "                    classification_1 = classification_dict[0]['classification']\n",
    "                    created_at_1 = classification_dict[0]['created_at']\n",
    "            except:\n",
    "                classification_1 = 'n/a'\n",
    "                created_at_1 = 'n/a'\n",
    "            try:\n",
    "                if classification_dict[1]:\n",
    "                    classification_2 = classification_dict[1]['classification']\n",
    "                    created_at_2 = classification_dict[1]['created_at']\n",
    "            except:\n",
    "                classification_2 = 'n/a'\n",
    "                created_at_2 = 'n/a'\n",
    "            try:\n",
    "                if classification_dict[2]:\n",
    "                    classification_3 = classification_dict[2]['classification']\n",
    "                    created_at_3 = classification_dict[2]['created_at']\n",
    "            except:\n",
    "                classification_3 = 'n/a'\n",
    "                created_at_3 = 'n/a'\n",
    "            new_row = {\n",
    "                'classification.1': classification_1,\n",
    "                'created_at.1': created_at_1,\n",
    "                'classification.2': classification_2,\n",
    "                'created_at.2': created_at_2,\n",
    "                'classification.3': classification_3,\n",
    "                'created_at.3': created_at_3\n",
    "            }\n",
    "    classification_df = classification_df.append(new_row, ignore_index=True)"
   ]
  },
  {
   "cell_type": "code",
   "execution_count": 146,
   "metadata": {},
   "outputs": [
    {
     "data": {
      "text/html": [
       "<div>\n",
       "<style scoped>\n",
       "    .dataframe tbody tr th:only-of-type {\n",
       "        vertical-align: middle;\n",
       "    }\n",
       "\n",
       "    .dataframe tbody tr th {\n",
       "        vertical-align: top;\n",
       "    }\n",
       "\n",
       "    .dataframe thead th {\n",
       "        text-align: right;\n",
       "    }\n",
       "</style>\n",
       "<table border=\"1\" class=\"dataframe\">\n",
       "  <thead>\n",
       "    <tr style=\"text-align: right;\">\n",
       "      <th></th>\n",
       "      <th>classification.1</th>\n",
       "      <th>classification.2</th>\n",
       "      <th>classification.3</th>\n",
       "      <th>created_at.1</th>\n",
       "      <th>created_at.2</th>\n",
       "      <th>created_at.3</th>\n",
       "    </tr>\n",
       "  </thead>\n",
       "  <tbody>\n",
       "    <tr>\n",
       "      <th>0</th>\n",
       "      <td>0</td>\n",
       "      <td>0</td>\n",
       "      <td>1</td>\n",
       "      <td>2021-05-10T12:49:58.805Z</td>\n",
       "      <td>2021-05-10T13:27:53.365Z</td>\n",
       "      <td>2021-05-10T13:35:27.396Z</td>\n",
       "    </tr>\n",
       "    <tr>\n",
       "      <th>1</th>\n",
       "      <td>0</td>\n",
       "      <td>1</td>\n",
       "      <td>1</td>\n",
       "      <td>2021-05-10T12:43:36.439Z</td>\n",
       "      <td>2021-05-10T12:50:50.683Z</td>\n",
       "      <td>2021-05-10T13:03:11.475Z</td>\n",
       "    </tr>\n",
       "    <tr>\n",
       "      <th>2</th>\n",
       "      <td>0</td>\n",
       "      <td>0</td>\n",
       "      <td>1</td>\n",
       "      <td>2021-05-10T12:38:50.850Z</td>\n",
       "      <td>2021-05-10T12:44:02.691Z</td>\n",
       "      <td>2021-05-10T12:50:28.829Z</td>\n",
       "    </tr>\n",
       "    <tr>\n",
       "      <th>3</th>\n",
       "      <td>1</td>\n",
       "      <td>1</td>\n",
       "      <td>1</td>\n",
       "      <td>2021-05-10T12:55:20.472Z</td>\n",
       "      <td>2021-05-10T13:04:07.714Z</td>\n",
       "      <td>2021-05-10T13:28:58.268Z</td>\n",
       "    </tr>\n",
       "    <tr>\n",
       "      <th>4</th>\n",
       "      <td>0</td>\n",
       "      <td>1</td>\n",
       "      <td>1</td>\n",
       "      <td>2021-05-10T12:43:09.739Z</td>\n",
       "      <td>2021-05-10T13:01:14.481Z</td>\n",
       "      <td>2021-05-10T13:31:31.120Z</td>\n",
       "    </tr>\n",
       "  </tbody>\n",
       "</table>\n",
       "</div>"
      ],
      "text/plain": [
       "  classification.1 classification.2 classification.3  \\\n",
       "0                0                0                1   \n",
       "1                0                1                1   \n",
       "2                0                0                1   \n",
       "3                1                1                1   \n",
       "4                0                1                1   \n",
       "\n",
       "               created_at.1              created_at.2  \\\n",
       "0  2021-05-10T12:49:58.805Z  2021-05-10T13:27:53.365Z   \n",
       "1  2021-05-10T12:43:36.439Z  2021-05-10T12:50:50.683Z   \n",
       "2  2021-05-10T12:38:50.850Z  2021-05-10T12:44:02.691Z   \n",
       "3  2021-05-10T12:55:20.472Z  2021-05-10T13:04:07.714Z   \n",
       "4  2021-05-10T12:43:09.739Z  2021-05-10T13:01:14.481Z   \n",
       "\n",
       "               created_at.3  \n",
       "0  2021-05-10T13:35:27.396Z  \n",
       "1  2021-05-10T13:03:11.475Z  \n",
       "2  2021-05-10T12:50:28.829Z  \n",
       "3  2021-05-10T13:28:58.268Z  \n",
       "4  2021-05-10T13:31:31.120Z  "
      ]
     },
     "execution_count": 146,
     "metadata": {},
     "output_type": "execute_result"
    }
   ],
   "source": [
    "classification_df.head()"
   ]
  },
  {
   "cell_type": "code",
   "execution_count": 147,
   "metadata": {},
   "outputs": [
    {
     "data": {
      "text/plain": [
       "(738, 6)"
      ]
     },
     "execution_count": 147,
     "metadata": {},
     "output_type": "execute_result"
    }
   ],
   "source": [
    "classification_df.shape"
   ]
  },
  {
   "cell_type": "code",
   "execution_count": 148,
   "metadata": {},
   "outputs": [
    {
     "data": {
      "text/plain": [
       "(738, 6)"
      ]
     },
     "execution_count": 148,
     "metadata": {},
     "output_type": "execute_result"
    }
   ],
   "source": [
    "df.shape"
   ]
  },
  {
   "cell_type": "code",
   "execution_count": 149,
   "metadata": {},
   "outputs": [],
   "source": [
    "df = df.drop('classification', 1)"
   ]
  },
  {
   "cell_type": "code",
   "execution_count": 154,
   "metadata": {},
   "outputs": [],
   "source": [
    "df_final = pd.concat([df, classification_df], axis=1)"
   ]
  },
  {
   "cell_type": "code",
   "execution_count": 155,
   "metadata": {},
   "outputs": [
    {
     "data": {
      "text/plain": [
       "(738, 11)"
      ]
     },
     "execution_count": 155,
     "metadata": {},
     "output_type": "execute_result"
    }
   ],
   "source": [
    "df_final.shape"
   ]
  },
  {
   "cell_type": "code",
   "execution_count": 156,
   "metadata": {},
   "outputs": [
    {
     "data": {
      "text/html": [
       "<div>\n",
       "<style scoped>\n",
       "    .dataframe tbody tr th:only-of-type {\n",
       "        vertical-align: middle;\n",
       "    }\n",
       "\n",
       "    .dataframe tbody tr th {\n",
       "        vertical-align: top;\n",
       "    }\n",
       "\n",
       "    .dataframe thead th {\n",
       "        text-align: right;\n",
       "    }\n",
       "</style>\n",
       "<table border=\"1\" class=\"dataframe\">\n",
       "  <thead>\n",
       "    <tr style=\"text-align: right;\">\n",
       "      <th></th>\n",
       "      <th>created_at</th>\n",
       "      <th>tweet_content</th>\n",
       "      <th>keyword</th>\n",
       "      <th>user_location</th>\n",
       "      <th>entities</th>\n",
       "      <th>classification.1</th>\n",
       "      <th>classification.2</th>\n",
       "      <th>classification.3</th>\n",
       "      <th>created_at.1</th>\n",
       "      <th>created_at.2</th>\n",
       "      <th>created_at.3</th>\n",
       "    </tr>\n",
       "  </thead>\n",
       "  <tbody>\n",
       "    <tr>\n",
       "      <th>0</th>\n",
       "      <td>2021-05-04 12:30:48</td>\n",
       "      <td>mds nubank nunca libera mais limite pra mim</td>\n",
       "      <td>['Nubank']</td>\n",
       "      <td>Goiânia</td>\n",
       "      <td>{'hashtags': [], 'urls': [], 'user_mentions': ...</td>\n",
       "      <td>0</td>\n",
       "      <td>0</td>\n",
       "      <td>1</td>\n",
       "      <td>2021-05-10T12:49:58.805Z</td>\n",
       "      <td>2021-05-10T13:27:53.365Z</td>\n",
       "      <td>2021-05-10T13:35:27.396Z</td>\n",
       "    </tr>\n",
       "    <tr>\n",
       "      <th>1</th>\n",
       "      <td>2021-05-04 12:31:09</td>\n",
       "      <td>mais viciado que a bateria do meu celular só e...</td>\n",
       "      <td>['Coca-cola']</td>\n",
       "      <td>Balneário Camboriú</td>\n",
       "      <td>{'hashtags': [], 'urls': [], 'user_mentions': ...</td>\n",
       "      <td>0</td>\n",
       "      <td>1</td>\n",
       "      <td>1</td>\n",
       "      <td>2021-05-10T12:43:36.439Z</td>\n",
       "      <td>2021-05-10T12:50:50.683Z</td>\n",
       "      <td>2021-05-10T13:03:11.475Z</td>\n",
       "    </tr>\n",
       "    <tr>\n",
       "      <th>2</th>\n",
       "      <td>2021-05-04 12:31:27</td>\n",
       "      <td>toda vez que vejo Nubank nos tt vou lá conferi...</td>\n",
       "      <td>['Nubank']</td>\n",
       "      <td>None</td>\n",
       "      <td>{'hashtags': [], 'urls': [], 'user_mentions': ...</td>\n",
       "      <td>0</td>\n",
       "      <td>0</td>\n",
       "      <td>1</td>\n",
       "      <td>2021-05-10T12:38:50.850Z</td>\n",
       "      <td>2021-05-10T12:44:02.691Z</td>\n",
       "      <td>2021-05-10T12:50:28.829Z</td>\n",
       "    </tr>\n",
       "    <tr>\n",
       "      <th>3</th>\n",
       "      <td>2021-05-04 12:31:25</td>\n",
       "      <td>Pedi 10k de limite pra Nubank serasi?</td>\n",
       "      <td>['Nubank']</td>\n",
       "      <td>Rio de Janeiro, Brasil</td>\n",
       "      <td>{'hashtags': [], 'urls': [], 'user_mentions': ...</td>\n",
       "      <td>1</td>\n",
       "      <td>1</td>\n",
       "      <td>1</td>\n",
       "      <td>2021-05-10T12:55:20.472Z</td>\n",
       "      <td>2021-05-10T13:04:07.714Z</td>\n",
       "      <td>2021-05-10T13:28:58.268Z</td>\n",
       "    </tr>\n",
       "    <tr>\n",
       "      <th>4</th>\n",
       "      <td>2021-05-04 12:31:20</td>\n",
       "      <td>@kayofeer @nubank Aconteceu isso c a minha mãe...</td>\n",
       "      <td>['Nubank']</td>\n",
       "      <td>Macaé, Brasil</td>\n",
       "      <td>{'hashtags': [], 'urls': [], 'user_mentions': ...</td>\n",
       "      <td>0</td>\n",
       "      <td>1</td>\n",
       "      <td>1</td>\n",
       "      <td>2021-05-10T12:43:09.739Z</td>\n",
       "      <td>2021-05-10T13:01:14.481Z</td>\n",
       "      <td>2021-05-10T13:31:31.120Z</td>\n",
       "    </tr>\n",
       "  </tbody>\n",
       "</table>\n",
       "</div>"
      ],
      "text/plain": [
       "            created_at                                      tweet_content  \\\n",
       "0  2021-05-04 12:30:48        mds nubank nunca libera mais limite pra mim   \n",
       "1  2021-05-04 12:31:09  mais viciado que a bateria do meu celular só e...   \n",
       "2  2021-05-04 12:31:27  toda vez que vejo Nubank nos tt vou lá conferi...   \n",
       "3  2021-05-04 12:31:25              Pedi 10k de limite pra Nubank serasi?   \n",
       "4  2021-05-04 12:31:20  @kayofeer @nubank Aconteceu isso c a minha mãe...   \n",
       "\n",
       "         keyword           user_location  \\\n",
       "0     ['Nubank']                 Goiânia   \n",
       "1  ['Coca-cola']      Balneário Camboriú   \n",
       "2     ['Nubank']                    None   \n",
       "3     ['Nubank']  Rio de Janeiro, Brasil   \n",
       "4     ['Nubank']           Macaé, Brasil   \n",
       "\n",
       "                                            entities classification.1  \\\n",
       "0  {'hashtags': [], 'urls': [], 'user_mentions': ...                0   \n",
       "1  {'hashtags': [], 'urls': [], 'user_mentions': ...                0   \n",
       "2  {'hashtags': [], 'urls': [], 'user_mentions': ...                0   \n",
       "3  {'hashtags': [], 'urls': [], 'user_mentions': ...                1   \n",
       "4  {'hashtags': [], 'urls': [], 'user_mentions': ...                0   \n",
       "\n",
       "  classification.2 classification.3              created_at.1  \\\n",
       "0                0                1  2021-05-10T12:49:58.805Z   \n",
       "1                1                1  2021-05-10T12:43:36.439Z   \n",
       "2                0                1  2021-05-10T12:38:50.850Z   \n",
       "3                1                1  2021-05-10T12:55:20.472Z   \n",
       "4                1                1  2021-05-10T12:43:09.739Z   \n",
       "\n",
       "               created_at.2              created_at.3  \n",
       "0  2021-05-10T13:27:53.365Z  2021-05-10T13:35:27.396Z  \n",
       "1  2021-05-10T12:50:50.683Z  2021-05-10T13:03:11.475Z  \n",
       "2  2021-05-10T12:44:02.691Z  2021-05-10T12:50:28.829Z  \n",
       "3  2021-05-10T13:04:07.714Z  2021-05-10T13:28:58.268Z  \n",
       "4  2021-05-10T13:01:14.481Z  2021-05-10T13:31:31.120Z  "
      ]
     },
     "execution_count": 156,
     "metadata": {},
     "output_type": "execute_result"
    }
   ],
   "source": [
    "df_final.head()"
   ]
  },
  {
   "cell_type": "code",
   "execution_count": null,
   "metadata": {},
   "outputs": [],
   "source": []
  },
  {
   "cell_type": "code",
   "execution_count": null,
   "metadata": {},
   "outputs": [],
   "source": []
  },
  {
   "cell_type": "code",
   "execution_count": null,
   "metadata": {},
   "outputs": [],
   "source": []
  }
 ],
 "metadata": {
  "kernelspec": {
   "display_name": "Python 3",
   "language": "python",
   "name": "python3"
  },
  "language_info": {
   "codemirror_mode": {
    "name": "ipython",
    "version": 3
   },
   "file_extension": ".py",
   "mimetype": "text/x-python",
   "name": "python",
   "nbconvert_exporter": "python",
   "pygments_lexer": "ipython3",
   "version": "3.8.5"
  }
 },
 "nbformat": 4,
 "nbformat_minor": 4
}
