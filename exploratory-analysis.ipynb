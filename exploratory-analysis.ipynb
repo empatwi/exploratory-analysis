{
 "cells": [
  {
   "cell_type": "code",
   "execution_count": 317,
   "metadata": {},
   "outputs": [],
   "source": [
    "import pandas as pd\n",
    "import ast\n",
    "df = pd.read_csv('20052021.csv')"
   ]
  },
  {
   "cell_type": "code",
   "execution_count": 318,
   "metadata": {},
   "outputs": [
    {
     "data": {
      "text/html": [
       "<div>\n",
       "<style scoped>\n",
       "    .dataframe tbody tr th:only-of-type {\n",
       "        vertical-align: middle;\n",
       "    }\n",
       "\n",
       "    .dataframe tbody tr th {\n",
       "        vertical-align: top;\n",
       "    }\n",
       "\n",
       "    .dataframe thead th {\n",
       "        text-align: right;\n",
       "    }\n",
       "</style>\n",
       "<table border=\"1\" class=\"dataframe\">\n",
       "  <thead>\n",
       "    <tr style=\"text-align: right;\">\n",
       "      <th></th>\n",
       "      <th>_id</th>\n",
       "      <th>created_at</th>\n",
       "      <th>tweet_content</th>\n",
       "      <th>keyword</th>\n",
       "      <th>user_location</th>\n",
       "      <th>entities</th>\n",
       "      <th>classification</th>\n",
       "    </tr>\n",
       "  </thead>\n",
       "  <tbody>\n",
       "    <tr>\n",
       "      <th>0</th>\n",
       "      <td>ObjectId(6091f3547ef2d107a44055cc)</td>\n",
       "      <td>2021-05-04 12:30:48</td>\n",
       "      <td>mds nubank nunca libera mais limite pra mim</td>\n",
       "      <td>['Nubank']</td>\n",
       "      <td>Goiânia</td>\n",
       "      <td>{'hashtags': [], 'urls': [], 'user_mentions': ...</td>\n",
       "      <td>[{\"classification\":false,\"created_at\":\"2021-05...</td>\n",
       "    </tr>\n",
       "    <tr>\n",
       "      <th>1</th>\n",
       "      <td>ObjectId(6091f3547ef2d107a44055cd)</td>\n",
       "      <td>2021-05-04 12:31:09</td>\n",
       "      <td>mais viciado que a bateria do meu celular só e...</td>\n",
       "      <td>['Coca-cola']</td>\n",
       "      <td>Balneário Camboriú</td>\n",
       "      <td>{'hashtags': [], 'urls': [], 'user_mentions': ...</td>\n",
       "      <td>[{\"classification\":false,\"created_at\":\"2021-05...</td>\n",
       "    </tr>\n",
       "    <tr>\n",
       "      <th>2</th>\n",
       "      <td>ObjectId(6091f3547ef2d107a44055ce)</td>\n",
       "      <td>2021-05-04 12:31:27</td>\n",
       "      <td>toda vez que vejo Nubank nos tt vou lá conferi...</td>\n",
       "      <td>['Nubank']</td>\n",
       "      <td>None</td>\n",
       "      <td>{'hashtags': [], 'urls': [], 'user_mentions': ...</td>\n",
       "      <td>[{\"classification\":false,\"created_at\":\"2021-05...</td>\n",
       "    </tr>\n",
       "    <tr>\n",
       "      <th>3</th>\n",
       "      <td>ObjectId(6091f3547ef2d107a44055cf)</td>\n",
       "      <td>2021-05-04 12:31:25</td>\n",
       "      <td>Pedi 10k de limite pra Nubank serasi?</td>\n",
       "      <td>['Nubank']</td>\n",
       "      <td>Rio de Janeiro, Brasil</td>\n",
       "      <td>{'hashtags': [], 'urls': [], 'user_mentions': ...</td>\n",
       "      <td>[{\"classification\":true,\"created_at\":\"2021-05-...</td>\n",
       "    </tr>\n",
       "    <tr>\n",
       "      <th>4</th>\n",
       "      <td>ObjectId(6091f3547ef2d107a44055d0)</td>\n",
       "      <td>2021-05-04 12:31:20</td>\n",
       "      <td>@kayofeer @nubank Aconteceu isso c a minha mãe...</td>\n",
       "      <td>['Nubank']</td>\n",
       "      <td>Macaé, Brasil</td>\n",
       "      <td>{'hashtags': [], 'urls': [], 'user_mentions': ...</td>\n",
       "      <td>[{\"classification\":false,\"created_at\":\"2021-05...</td>\n",
       "    </tr>\n",
       "  </tbody>\n",
       "</table>\n",
       "</div>"
      ],
      "text/plain": [
       "                                  _id           created_at  \\\n",
       "0  ObjectId(6091f3547ef2d107a44055cc)  2021-05-04 12:30:48   \n",
       "1  ObjectId(6091f3547ef2d107a44055cd)  2021-05-04 12:31:09   \n",
       "2  ObjectId(6091f3547ef2d107a44055ce)  2021-05-04 12:31:27   \n",
       "3  ObjectId(6091f3547ef2d107a44055cf)  2021-05-04 12:31:25   \n",
       "4  ObjectId(6091f3547ef2d107a44055d0)  2021-05-04 12:31:20   \n",
       "\n",
       "                                       tweet_content        keyword  \\\n",
       "0        mds nubank nunca libera mais limite pra mim     ['Nubank']   \n",
       "1  mais viciado que a bateria do meu celular só e...  ['Coca-cola']   \n",
       "2  toda vez que vejo Nubank nos tt vou lá conferi...     ['Nubank']   \n",
       "3              Pedi 10k de limite pra Nubank serasi?     ['Nubank']   \n",
       "4  @kayofeer @nubank Aconteceu isso c a minha mãe...     ['Nubank']   \n",
       "\n",
       "            user_location                                           entities  \\\n",
       "0                 Goiânia  {'hashtags': [], 'urls': [], 'user_mentions': ...   \n",
       "1      Balneário Camboriú  {'hashtags': [], 'urls': [], 'user_mentions': ...   \n",
       "2                    None  {'hashtags': [], 'urls': [], 'user_mentions': ...   \n",
       "3  Rio de Janeiro, Brasil  {'hashtags': [], 'urls': [], 'user_mentions': ...   \n",
       "4           Macaé, Brasil  {'hashtags': [], 'urls': [], 'user_mentions': ...   \n",
       "\n",
       "                                      classification  \n",
       "0  [{\"classification\":false,\"created_at\":\"2021-05...  \n",
       "1  [{\"classification\":false,\"created_at\":\"2021-05...  \n",
       "2  [{\"classification\":false,\"created_at\":\"2021-05...  \n",
       "3  [{\"classification\":true,\"created_at\":\"2021-05-...  \n",
       "4  [{\"classification\":false,\"created_at\":\"2021-05...  "
      ]
     },
     "execution_count": 318,
     "metadata": {},
     "output_type": "execute_result"
    }
   ],
   "source": [
    "df.head()"
   ]
  },
  {
   "cell_type": "code",
   "execution_count": 319,
   "metadata": {},
   "outputs": [],
   "source": [
    "df = df.drop('_id', 1)"
   ]
  },
  {
   "cell_type": "markdown",
   "metadata": {},
   "source": [
    "## Separando o Json de classificação em diferentes colunas"
   ]
  },
  {
   "cell_type": "code",
   "execution_count": 320,
   "metadata": {},
   "outputs": [
    {
     "data": {
      "text/plain": [
       "'[{\"classification\":false,\"created_at\":\"2021-05-10T12:43:36.439Z\"},{\"classification\":true,\"created_at\":\"2021-05-10T12:50:50.683Z\"},{\"classification\":true,\"created_at\":\"2021-05-10T13:03:11.475Z\"}]'"
      ]
     },
     "execution_count": 320,
     "metadata": {},
     "output_type": "execute_result"
    }
   ],
   "source": [
    "df.classification[1]"
   ]
  },
  {
   "cell_type": "code",
   "execution_count": 321,
   "metadata": {},
   "outputs": [],
   "source": [
    "classification_df = pd.DataFrame()"
   ]
  },
  {
   "cell_type": "code",
   "execution_count": 322,
   "metadata": {
    "scrolled": false
   },
   "outputs": [],
   "source": [
    "import numpy as np\n",
    "import json\n",
    "\n",
    "classification = df.classification.tolist()\n",
    "for index in range(0, len(classification)):\n",
    "    if classification[index] is np.nan:\n",
    "        new_row = {\n",
    "            'classification.1': 'n/a',\n",
    "            'created_at.1': 'n/a',\n",
    "            'classification.2': 'n/a',\n",
    "            'created_at.2': 'n/a',\n",
    "            'classification.3': 'n/a',\n",
    "            'created_at.3': 'n/a'\n",
    "        }\n",
    "    else:\n",
    "        classification_dict = eval(classification[index].replace('false', 'False').replace('true', 'True'))\n",
    "        range_ = len(classification_dict)\n",
    "        for teste in range(0, len(classification_dict)):\n",
    "            try:\n",
    "                if classification_dict[0]:\n",
    "                    classification_1 = classification_dict[0]['classification']\n",
    "                    created_at_1 = classification_dict[0]['created_at']\n",
    "            except:\n",
    "                classification_1 = 'n/a'\n",
    "                created_at_1 = 'n/a'\n",
    "            try:\n",
    "                if classification_dict[1]:\n",
    "                    classification_2 = classification_dict[1]['classification']\n",
    "                    created_at_2 = classification_dict[1]['created_at']\n",
    "            except:\n",
    "                classification_2 = 'n/a'\n",
    "                created_at_2 = 'n/a'\n",
    "            try:\n",
    "                if classification_dict[2]:\n",
    "                    classification_3 = classification_dict[2]['classification']\n",
    "                    created_at_3 = classification_dict[2]['created_at']\n",
    "            except:\n",
    "                classification_3 = 'n/a'\n",
    "                created_at_3 = 'n/a'\n",
    "            new_row = {\n",
    "                'classification.1': classification_1,\n",
    "                'created_at.1': created_at_1,\n",
    "                'classification.2': classification_2,\n",
    "                'created_at.2': created_at_2,\n",
    "                'classification.3': classification_3,\n",
    "                'created_at.3': created_at_3\n",
    "            }\n",
    "    classification_df = classification_df.append(new_row, ignore_index=True)"
   ]
  },
  {
   "cell_type": "code",
   "execution_count": 323,
   "metadata": {},
   "outputs": [
    {
     "data": {
      "text/html": [
       "<div>\n",
       "<style scoped>\n",
       "    .dataframe tbody tr th:only-of-type {\n",
       "        vertical-align: middle;\n",
       "    }\n",
       "\n",
       "    .dataframe tbody tr th {\n",
       "        vertical-align: top;\n",
       "    }\n",
       "\n",
       "    .dataframe thead th {\n",
       "        text-align: right;\n",
       "    }\n",
       "</style>\n",
       "<table border=\"1\" class=\"dataframe\">\n",
       "  <thead>\n",
       "    <tr style=\"text-align: right;\">\n",
       "      <th></th>\n",
       "      <th>classification.1</th>\n",
       "      <th>classification.2</th>\n",
       "      <th>classification.3</th>\n",
       "      <th>created_at.1</th>\n",
       "      <th>created_at.2</th>\n",
       "      <th>created_at.3</th>\n",
       "    </tr>\n",
       "  </thead>\n",
       "  <tbody>\n",
       "    <tr>\n",
       "      <th>0</th>\n",
       "      <td>0</td>\n",
       "      <td>0</td>\n",
       "      <td>1</td>\n",
       "      <td>2021-05-10T12:49:58.805Z</td>\n",
       "      <td>2021-05-10T13:27:53.365Z</td>\n",
       "      <td>2021-05-10T13:35:27.396Z</td>\n",
       "    </tr>\n",
       "    <tr>\n",
       "      <th>1</th>\n",
       "      <td>0</td>\n",
       "      <td>1</td>\n",
       "      <td>1</td>\n",
       "      <td>2021-05-10T12:43:36.439Z</td>\n",
       "      <td>2021-05-10T12:50:50.683Z</td>\n",
       "      <td>2021-05-10T13:03:11.475Z</td>\n",
       "    </tr>\n",
       "    <tr>\n",
       "      <th>2</th>\n",
       "      <td>0</td>\n",
       "      <td>0</td>\n",
       "      <td>1</td>\n",
       "      <td>2021-05-10T12:38:50.850Z</td>\n",
       "      <td>2021-05-10T12:44:02.691Z</td>\n",
       "      <td>2021-05-10T12:50:28.829Z</td>\n",
       "    </tr>\n",
       "    <tr>\n",
       "      <th>3</th>\n",
       "      <td>1</td>\n",
       "      <td>1</td>\n",
       "      <td>1</td>\n",
       "      <td>2021-05-10T12:55:20.472Z</td>\n",
       "      <td>2021-05-10T13:04:07.714Z</td>\n",
       "      <td>2021-05-10T13:28:58.268Z</td>\n",
       "    </tr>\n",
       "    <tr>\n",
       "      <th>4</th>\n",
       "      <td>0</td>\n",
       "      <td>1</td>\n",
       "      <td>1</td>\n",
       "      <td>2021-05-10T12:43:09.739Z</td>\n",
       "      <td>2021-05-10T13:01:14.481Z</td>\n",
       "      <td>2021-05-10T13:31:31.120Z</td>\n",
       "    </tr>\n",
       "  </tbody>\n",
       "</table>\n",
       "</div>"
      ],
      "text/plain": [
       "  classification.1 classification.2 classification.3  \\\n",
       "0                0                0                1   \n",
       "1                0                1                1   \n",
       "2                0                0                1   \n",
       "3                1                1                1   \n",
       "4                0                1                1   \n",
       "\n",
       "               created_at.1              created_at.2  \\\n",
       "0  2021-05-10T12:49:58.805Z  2021-05-10T13:27:53.365Z   \n",
       "1  2021-05-10T12:43:36.439Z  2021-05-10T12:50:50.683Z   \n",
       "2  2021-05-10T12:38:50.850Z  2021-05-10T12:44:02.691Z   \n",
       "3  2021-05-10T12:55:20.472Z  2021-05-10T13:04:07.714Z   \n",
       "4  2021-05-10T12:43:09.739Z  2021-05-10T13:01:14.481Z   \n",
       "\n",
       "               created_at.3  \n",
       "0  2021-05-10T13:35:27.396Z  \n",
       "1  2021-05-10T13:03:11.475Z  \n",
       "2  2021-05-10T12:50:28.829Z  \n",
       "3  2021-05-10T13:28:58.268Z  \n",
       "4  2021-05-10T13:31:31.120Z  "
      ]
     },
     "execution_count": 323,
     "metadata": {},
     "output_type": "execute_result"
    }
   ],
   "source": [
    "classification_df.head()"
   ]
  },
  {
   "cell_type": "code",
   "execution_count": 324,
   "metadata": {},
   "outputs": [
    {
     "data": {
      "text/plain": [
       "(738, 6)"
      ]
     },
     "execution_count": 324,
     "metadata": {},
     "output_type": "execute_result"
    }
   ],
   "source": [
    "classification_df.shape"
   ]
  },
  {
   "cell_type": "code",
   "execution_count": 325,
   "metadata": {},
   "outputs": [
    {
     "data": {
      "text/plain": [
       "(738, 6)"
      ]
     },
     "execution_count": 325,
     "metadata": {},
     "output_type": "execute_result"
    }
   ],
   "source": [
    "df.shape"
   ]
  },
  {
   "cell_type": "markdown",
   "metadata": {},
   "source": [
    "## Separando o Json de entities em diferentes colunas"
   ]
  },
  {
   "cell_type": "code",
   "execution_count": 326,
   "metadata": {},
   "outputs": [
    {
     "data": {
      "text/plain": [
       "\"{'hashtags': [], 'urls': [], 'user_mentions': [], 'symbols': []}\""
      ]
     },
     "execution_count": 326,
     "metadata": {},
     "output_type": "execute_result"
    }
   ],
   "source": [
    "df.entities[0]"
   ]
  },
  {
   "cell_type": "code",
   "execution_count": 327,
   "metadata": {},
   "outputs": [],
   "source": [
    "entities_df = pd.DataFrame()"
   ]
  },
  {
   "cell_type": "code",
   "execution_count": 328,
   "metadata": {},
   "outputs": [],
   "source": [
    "entities = df.entities.tolist()\n",
    "for index in range(0, len(entities)):\n",
    "    if entities[index] is np.nan:\n",
    "        new_row = {\n",
    "            'hashtags': 'n/a',\n",
    "            'urls': 'n/a',\n",
    "            'user_mentions': 'n/a',\n",
    "            'symbols': 'n/a'\n",
    "        }\n",
    "    else:\n",
    "        entities_dict = eval(entities[index])\n",
    "        try:\n",
    "            if entities_dict:\n",
    "                hashtags = entities_dict['hashtags']\n",
    "                urls = entities_dict['urls']\n",
    "                user_mentions = entities_dict['user_mentions']\n",
    "                symbols = entities_dict['symbols']\n",
    "                #print(user_mentions)\n",
    "        except:\n",
    "            hashtags = 'n/a'\n",
    "            urls = 'n/a'\n",
    "            user_mentions = 'n/a'\n",
    "            symbols = 'n/a'\n",
    "\n",
    "        new_row = {\n",
    "            'hashtags': hashtags,\n",
    "            'urls': urls,\n",
    "            'user_mentions': user_mentions,\n",
    "            'symbols': symbols\n",
    "        }\n",
    "    entities_df = entities_df.append(new_row, ignore_index=True)"
   ]
  },
  {
   "cell_type": "code",
   "execution_count": 329,
   "metadata": {},
   "outputs": [
    {
     "data": {
      "text/html": [
       "<div>\n",
       "<style scoped>\n",
       "    .dataframe tbody tr th:only-of-type {\n",
       "        vertical-align: middle;\n",
       "    }\n",
       "\n",
       "    .dataframe tbody tr th {\n",
       "        vertical-align: top;\n",
       "    }\n",
       "\n",
       "    .dataframe thead th {\n",
       "        text-align: right;\n",
       "    }\n",
       "</style>\n",
       "<table border=\"1\" class=\"dataframe\">\n",
       "  <thead>\n",
       "    <tr style=\"text-align: right;\">\n",
       "      <th></th>\n",
       "      <th>hashtags</th>\n",
       "      <th>symbols</th>\n",
       "      <th>urls</th>\n",
       "      <th>user_mentions</th>\n",
       "    </tr>\n",
       "  </thead>\n",
       "  <tbody>\n",
       "    <tr>\n",
       "      <th>0</th>\n",
       "      <td>[]</td>\n",
       "      <td>[]</td>\n",
       "      <td>[]</td>\n",
       "      <td>[]</td>\n",
       "    </tr>\n",
       "    <tr>\n",
       "      <th>1</th>\n",
       "      <td>[]</td>\n",
       "      <td>[]</td>\n",
       "      <td>[]</td>\n",
       "      <td>[]</td>\n",
       "    </tr>\n",
       "    <tr>\n",
       "      <th>2</th>\n",
       "      <td>[]</td>\n",
       "      <td>[]</td>\n",
       "      <td>[]</td>\n",
       "      <td>[]</td>\n",
       "    </tr>\n",
       "    <tr>\n",
       "      <th>3</th>\n",
       "      <td>[]</td>\n",
       "      <td>[]</td>\n",
       "      <td>[]</td>\n",
       "      <td>[]</td>\n",
       "    </tr>\n",
       "    <tr>\n",
       "      <th>4</th>\n",
       "      <td>[]</td>\n",
       "      <td>[]</td>\n",
       "      <td>[]</td>\n",
       "      <td>[{'screen_name': 'kayofeer', 'name': 'Kayo', '...</td>\n",
       "    </tr>\n",
       "  </tbody>\n",
       "</table>\n",
       "</div>"
      ],
      "text/plain": [
       "  hashtags symbols urls                                      user_mentions\n",
       "0       []      []   []                                                 []\n",
       "1       []      []   []                                                 []\n",
       "2       []      []   []                                                 []\n",
       "3       []      []   []                                                 []\n",
       "4       []      []   []  [{'screen_name': 'kayofeer', 'name': 'Kayo', '..."
      ]
     },
     "execution_count": 329,
     "metadata": {},
     "output_type": "execute_result"
    }
   ],
   "source": [
    "entities_df.head()"
   ]
  },
  {
   "cell_type": "code",
   "execution_count": 330,
   "metadata": {},
   "outputs": [
    {
     "data": {
      "text/plain": [
       "hashtags         0\n",
       "symbols          0\n",
       "urls             0\n",
       "user_mentions    0\n",
       "dtype: int64"
      ]
     },
     "execution_count": 330,
     "metadata": {},
     "output_type": "execute_result"
    }
   ],
   "source": [
    "entities_df.isna().sum()"
   ]
  },
  {
   "cell_type": "code",
   "execution_count": 331,
   "metadata": {},
   "outputs": [
    {
     "data": {
      "text/plain": [
       "(738, 4)"
      ]
     },
     "execution_count": 331,
     "metadata": {},
     "output_type": "execute_result"
    }
   ],
   "source": [
    "entities_df.shape"
   ]
  },
  {
   "cell_type": "markdown",
   "metadata": {},
   "source": [
    "## Concatenando no DF inicial para criar o DF final"
   ]
  },
  {
   "cell_type": "code",
   "execution_count": 332,
   "metadata": {},
   "outputs": [],
   "source": [
    "df = df.drop('classification', 1)"
   ]
  },
  {
   "cell_type": "code",
   "execution_count": 333,
   "metadata": {},
   "outputs": [],
   "source": [
    "df = df.drop('entities', 1)"
   ]
  },
  {
   "cell_type": "code",
   "execution_count": 334,
   "metadata": {},
   "outputs": [],
   "source": [
    "df_final = pd.concat([df, classification_df], axis=1)"
   ]
  },
  {
   "cell_type": "code",
   "execution_count": 335,
   "metadata": {},
   "outputs": [],
   "source": [
    "df_final = pd.concat([df_final, entities_df], axis=1)"
   ]
  },
  {
   "cell_type": "code",
   "execution_count": 336,
   "metadata": {},
   "outputs": [
    {
     "data": {
      "text/plain": [
       "(738, 14)"
      ]
     },
     "execution_count": 336,
     "metadata": {},
     "output_type": "execute_result"
    }
   ],
   "source": [
    "df_final.shape"
   ]
  },
  {
   "cell_type": "code",
   "execution_count": 337,
   "metadata": {},
   "outputs": [
    {
     "data": {
      "text/html": [
       "<div>\n",
       "<style scoped>\n",
       "    .dataframe tbody tr th:only-of-type {\n",
       "        vertical-align: middle;\n",
       "    }\n",
       "\n",
       "    .dataframe tbody tr th {\n",
       "        vertical-align: top;\n",
       "    }\n",
       "\n",
       "    .dataframe thead th {\n",
       "        text-align: right;\n",
       "    }\n",
       "</style>\n",
       "<table border=\"1\" class=\"dataframe\">\n",
       "  <thead>\n",
       "    <tr style=\"text-align: right;\">\n",
       "      <th></th>\n",
       "      <th>created_at</th>\n",
       "      <th>tweet_content</th>\n",
       "      <th>keyword</th>\n",
       "      <th>user_location</th>\n",
       "      <th>classification.1</th>\n",
       "      <th>classification.2</th>\n",
       "      <th>classification.3</th>\n",
       "      <th>created_at.1</th>\n",
       "      <th>created_at.2</th>\n",
       "      <th>created_at.3</th>\n",
       "      <th>hashtags</th>\n",
       "      <th>symbols</th>\n",
       "      <th>urls</th>\n",
       "      <th>user_mentions</th>\n",
       "    </tr>\n",
       "  </thead>\n",
       "  <tbody>\n",
       "    <tr>\n",
       "      <th>0</th>\n",
       "      <td>2021-05-04 12:30:48</td>\n",
       "      <td>mds nubank nunca libera mais limite pra mim</td>\n",
       "      <td>['Nubank']</td>\n",
       "      <td>Goiânia</td>\n",
       "      <td>0</td>\n",
       "      <td>0</td>\n",
       "      <td>1</td>\n",
       "      <td>2021-05-10T12:49:58.805Z</td>\n",
       "      <td>2021-05-10T13:27:53.365Z</td>\n",
       "      <td>2021-05-10T13:35:27.396Z</td>\n",
       "      <td>[]</td>\n",
       "      <td>[]</td>\n",
       "      <td>[]</td>\n",
       "      <td>[]</td>\n",
       "    </tr>\n",
       "    <tr>\n",
       "      <th>1</th>\n",
       "      <td>2021-05-04 12:31:09</td>\n",
       "      <td>mais viciado que a bateria do meu celular só e...</td>\n",
       "      <td>['Coca-cola']</td>\n",
       "      <td>Balneário Camboriú</td>\n",
       "      <td>0</td>\n",
       "      <td>1</td>\n",
       "      <td>1</td>\n",
       "      <td>2021-05-10T12:43:36.439Z</td>\n",
       "      <td>2021-05-10T12:50:50.683Z</td>\n",
       "      <td>2021-05-10T13:03:11.475Z</td>\n",
       "      <td>[]</td>\n",
       "      <td>[]</td>\n",
       "      <td>[]</td>\n",
       "      <td>[]</td>\n",
       "    </tr>\n",
       "    <tr>\n",
       "      <th>2</th>\n",
       "      <td>2021-05-04 12:31:27</td>\n",
       "      <td>toda vez que vejo Nubank nos tt vou lá conferi...</td>\n",
       "      <td>['Nubank']</td>\n",
       "      <td>None</td>\n",
       "      <td>0</td>\n",
       "      <td>0</td>\n",
       "      <td>1</td>\n",
       "      <td>2021-05-10T12:38:50.850Z</td>\n",
       "      <td>2021-05-10T12:44:02.691Z</td>\n",
       "      <td>2021-05-10T12:50:28.829Z</td>\n",
       "      <td>[]</td>\n",
       "      <td>[]</td>\n",
       "      <td>[]</td>\n",
       "      <td>[]</td>\n",
       "    </tr>\n",
       "    <tr>\n",
       "      <th>3</th>\n",
       "      <td>2021-05-04 12:31:25</td>\n",
       "      <td>Pedi 10k de limite pra Nubank serasi?</td>\n",
       "      <td>['Nubank']</td>\n",
       "      <td>Rio de Janeiro, Brasil</td>\n",
       "      <td>1</td>\n",
       "      <td>1</td>\n",
       "      <td>1</td>\n",
       "      <td>2021-05-10T12:55:20.472Z</td>\n",
       "      <td>2021-05-10T13:04:07.714Z</td>\n",
       "      <td>2021-05-10T13:28:58.268Z</td>\n",
       "      <td>[]</td>\n",
       "      <td>[]</td>\n",
       "      <td>[]</td>\n",
       "      <td>[]</td>\n",
       "    </tr>\n",
       "    <tr>\n",
       "      <th>4</th>\n",
       "      <td>2021-05-04 12:31:20</td>\n",
       "      <td>@kayofeer @nubank Aconteceu isso c a minha mãe...</td>\n",
       "      <td>['Nubank']</td>\n",
       "      <td>Macaé, Brasil</td>\n",
       "      <td>0</td>\n",
       "      <td>1</td>\n",
       "      <td>1</td>\n",
       "      <td>2021-05-10T12:43:09.739Z</td>\n",
       "      <td>2021-05-10T13:01:14.481Z</td>\n",
       "      <td>2021-05-10T13:31:31.120Z</td>\n",
       "      <td>[]</td>\n",
       "      <td>[]</td>\n",
       "      <td>[]</td>\n",
       "      <td>[{'screen_name': 'kayofeer', 'name': 'Kayo', '...</td>\n",
       "    </tr>\n",
       "  </tbody>\n",
       "</table>\n",
       "</div>"
      ],
      "text/plain": [
       "            created_at                                      tweet_content  \\\n",
       "0  2021-05-04 12:30:48        mds nubank nunca libera mais limite pra mim   \n",
       "1  2021-05-04 12:31:09  mais viciado que a bateria do meu celular só e...   \n",
       "2  2021-05-04 12:31:27  toda vez que vejo Nubank nos tt vou lá conferi...   \n",
       "3  2021-05-04 12:31:25              Pedi 10k de limite pra Nubank serasi?   \n",
       "4  2021-05-04 12:31:20  @kayofeer @nubank Aconteceu isso c a minha mãe...   \n",
       "\n",
       "         keyword           user_location classification.1 classification.2  \\\n",
       "0     ['Nubank']                 Goiânia                0                0   \n",
       "1  ['Coca-cola']      Balneário Camboriú                0                1   \n",
       "2     ['Nubank']                    None                0                0   \n",
       "3     ['Nubank']  Rio de Janeiro, Brasil                1                1   \n",
       "4     ['Nubank']           Macaé, Brasil                0                1   \n",
       "\n",
       "  classification.3              created_at.1              created_at.2  \\\n",
       "0                1  2021-05-10T12:49:58.805Z  2021-05-10T13:27:53.365Z   \n",
       "1                1  2021-05-10T12:43:36.439Z  2021-05-10T12:50:50.683Z   \n",
       "2                1  2021-05-10T12:38:50.850Z  2021-05-10T12:44:02.691Z   \n",
       "3                1  2021-05-10T12:55:20.472Z  2021-05-10T13:04:07.714Z   \n",
       "4                1  2021-05-10T12:43:09.739Z  2021-05-10T13:01:14.481Z   \n",
       "\n",
       "               created_at.3 hashtags symbols urls  \\\n",
       "0  2021-05-10T13:35:27.396Z       []      []   []   \n",
       "1  2021-05-10T13:03:11.475Z       []      []   []   \n",
       "2  2021-05-10T12:50:28.829Z       []      []   []   \n",
       "3  2021-05-10T13:28:58.268Z       []      []   []   \n",
       "4  2021-05-10T13:31:31.120Z       []      []   []   \n",
       "\n",
       "                                       user_mentions  \n",
       "0                                                 []  \n",
       "1                                                 []  \n",
       "2                                                 []  \n",
       "3                                                 []  \n",
       "4  [{'screen_name': 'kayofeer', 'name': 'Kayo', '...  "
      ]
     },
     "execution_count": 337,
     "metadata": {},
     "output_type": "execute_result"
    }
   ],
   "source": [
    "df_final.head()"
   ]
  },
  {
   "cell_type": "code",
   "execution_count": 338,
   "metadata": {},
   "outputs": [
    {
     "data": {
      "text/plain": [
       "(738, 14)"
      ]
     },
     "execution_count": 338,
     "metadata": {},
     "output_type": "execute_result"
    }
   ],
   "source": [
    "df_final.shape"
   ]
  },
  {
   "cell_type": "code",
   "execution_count": 339,
   "metadata": {},
   "outputs": [
    {
     "data": {
      "text/plain": [
       "created_at          0\n",
       "tweet_content       0\n",
       "keyword             0\n",
       "user_location       1\n",
       "classification.1    0\n",
       "classification.2    0\n",
       "classification.3    0\n",
       "created_at.1        0\n",
       "created_at.2        0\n",
       "created_at.3        0\n",
       "hashtags            0\n",
       "symbols             0\n",
       "urls                0\n",
       "user_mentions       0\n",
       "dtype: int64"
      ]
     },
     "execution_count": 339,
     "metadata": {},
     "output_type": "execute_result"
    }
   ],
   "source": [
    "df_final.isna().sum()"
   ]
  },
  {
   "cell_type": "markdown",
   "metadata": {},
   "source": [
    "# Análise exploratória"
   ]
  },
  {
   "cell_type": "code",
   "execution_count": 340,
   "metadata": {},
   "outputs": [],
   "source": [
    "df_final[\"classification.1\"] = df_final[\"classification.1\"].replace([True], 1)\n",
    "df_final[\"classification.1\"] = df_final[\"classification.1\"].replace([False], 0)\n",
    "\n",
    "df_final[\"classification.2\"] = df_final[\"classification.2\"].replace([True], 1)\n",
    "df_final[\"classification.2\"] = df_final[\"classification.2\"].replace([False], 0)\n",
    "\n",
    "df_final[\"classification.3\"] = df_final[\"classification.3\"].replace([True], 1)\n",
    "df_final[\"classification.3\"] = df_final[\"classification.3\"].replace([False], 0)"
   ]
  },
  {
   "cell_type": "code",
   "execution_count": 341,
   "metadata": {},
   "outputs": [
    {
     "data": {
      "text/html": [
       "<div>\n",
       "<style scoped>\n",
       "    .dataframe tbody tr th:only-of-type {\n",
       "        vertical-align: middle;\n",
       "    }\n",
       "\n",
       "    .dataframe tbody tr th {\n",
       "        vertical-align: top;\n",
       "    }\n",
       "\n",
       "    .dataframe thead th {\n",
       "        text-align: right;\n",
       "    }\n",
       "</style>\n",
       "<table border=\"1\" class=\"dataframe\">\n",
       "  <thead>\n",
       "    <tr style=\"text-align: right;\">\n",
       "      <th></th>\n",
       "      <th>created_at</th>\n",
       "      <th>tweet_content</th>\n",
       "      <th>keyword</th>\n",
       "      <th>user_location</th>\n",
       "      <th>classification.1</th>\n",
       "      <th>classification.2</th>\n",
       "      <th>classification.3</th>\n",
       "      <th>created_at.1</th>\n",
       "      <th>created_at.2</th>\n",
       "      <th>created_at.3</th>\n",
       "      <th>hashtags</th>\n",
       "      <th>symbols</th>\n",
       "      <th>urls</th>\n",
       "      <th>user_mentions</th>\n",
       "    </tr>\n",
       "  </thead>\n",
       "  <tbody>\n",
       "    <tr>\n",
       "      <th>count</th>\n",
       "      <td>738</td>\n",
       "      <td>738</td>\n",
       "      <td>738</td>\n",
       "      <td>737</td>\n",
       "      <td>738</td>\n",
       "      <td>738</td>\n",
       "      <td>738</td>\n",
       "      <td>738</td>\n",
       "      <td>738</td>\n",
       "      <td>738</td>\n",
       "      <td>738</td>\n",
       "      <td>738</td>\n",
       "      <td>738</td>\n",
       "      <td>738</td>\n",
       "    </tr>\n",
       "    <tr>\n",
       "      <th>unique</th>\n",
       "      <td>691</td>\n",
       "      <td>728</td>\n",
       "      <td>10</td>\n",
       "      <td>377</td>\n",
       "      <td>3</td>\n",
       "      <td>3</td>\n",
       "      <td>3</td>\n",
       "      <td>667</td>\n",
       "      <td>541</td>\n",
       "      <td>407</td>\n",
       "      <td>7</td>\n",
       "      <td>1</td>\n",
       "      <td>1</td>\n",
       "      <td>250</td>\n",
       "    </tr>\n",
       "    <tr>\n",
       "      <th>top</th>\n",
       "      <td>2021-05-10 15:40:12</td>\n",
       "      <td>\"nike ou adidas?\"\\n\\nseios</td>\n",
       "      <td>['Nubank']</td>\n",
       "      <td>None</td>\n",
       "      <td>1</td>\n",
       "      <td>1</td>\n",
       "      <td>n/a</td>\n",
       "      <td>n/a</td>\n",
       "      <td>n/a</td>\n",
       "      <td>n/a</td>\n",
       "      <td>[]</td>\n",
       "      <td>[]</td>\n",
       "      <td>[]</td>\n",
       "      <td>[]</td>\n",
       "    </tr>\n",
       "    <tr>\n",
       "      <th>freq</th>\n",
       "      <td>3</td>\n",
       "      <td>2</td>\n",
       "      <td>236</td>\n",
       "      <td>212</td>\n",
       "      <td>359</td>\n",
       "      <td>278</td>\n",
       "      <td>332</td>\n",
       "      <td>72</td>\n",
       "      <td>198</td>\n",
       "      <td>332</td>\n",
       "      <td>732</td>\n",
       "      <td>738</td>\n",
       "      <td>738</td>\n",
       "      <td>415</td>\n",
       "    </tr>\n",
       "  </tbody>\n",
       "</table>\n",
       "</div>"
      ],
      "text/plain": [
       "                 created_at               tweet_content     keyword  \\\n",
       "count                   738                         738         738   \n",
       "unique                  691                         728          10   \n",
       "top     2021-05-10 15:40:12  \"nike ou adidas?\"\\n\\nseios  ['Nubank']   \n",
       "freq                      3                           2         236   \n",
       "\n",
       "       user_location  classification.1  classification.2 classification.3  \\\n",
       "count            737               738               738              738   \n",
       "unique           377                 3                 3                3   \n",
       "top             None                 1                 1              n/a   \n",
       "freq             212               359               278              332   \n",
       "\n",
       "       created_at.1 created_at.2 created_at.3 hashtags symbols urls  \\\n",
       "count           738          738          738      738     738  738   \n",
       "unique          667          541          407        7       1    1   \n",
       "top             n/a          n/a          n/a       []      []   []   \n",
       "freq             72          198          332      732     738  738   \n",
       "\n",
       "       user_mentions  \n",
       "count            738  \n",
       "unique           250  \n",
       "top               []  \n",
       "freq             415  "
      ]
     },
     "execution_count": 341,
     "metadata": {},
     "output_type": "execute_result"
    }
   ],
   "source": [
    "df_final.describe()"
   ]
  },
  {
   "cell_type": "code",
   "execution_count": 342,
   "metadata": {},
   "outputs": [
    {
     "data": {
      "image/png": "[encoded data removed]",
      "text/plain": [
       "<Figure size 432x288 with 1 Axes>"
      ]
     },
     "metadata": {
      "needs_background": "light"
     },
     "output_type": "display_data"
    },
    {
     "data": {
      "image/png": "[encoded data removed]",
      "text/plain": [
       "<Figure size 432x288 with 1 Axes>"
      ]
     },
     "metadata": {
      "needs_background": "light"
     },
     "output_type": "display_data"
    },
    {
     "data": {
      "image/png": "[encoded data removed]",
      "text/plain": [
       "<Figure size 432x288 with 1 Axes>"
      ]
     },
     "metadata": {
      "needs_background": "light"
     },
     "output_type": "display_data"
    }
   ],
   "source": [
    "import seaborn as sns\n",
    "import matplotlib.pyplot as plt\n",
    "sns.countplot(x=\"classification.1\", data=df_final)\n",
    "plt.show()\n",
    "sns.countplot(x=\"classification.2\", data=df_final)\n",
    "plt.show()\n",
    "sns.countplot(x=\"classification.3\", data=df_final)\n",
    "plt.show()"
   ]
  },
  {
   "cell_type": "code",
   "execution_count": 343,
   "metadata": {},
   "outputs": [
    {
     "data": {
      "text/plain": [
       "array([1, 0, 'n/a'], dtype=object)"
      ]
     },
     "execution_count": 343,
     "metadata": {},
     "output_type": "execute_result"
    }
   ],
   "source": [
    "df_final[\"classification.3\"].unique()"
   ]
  },
  {
   "cell_type": "code",
   "execution_count": 344,
   "metadata": {},
   "outputs": [],
   "source": [
    "def find_avg_sentiment(index):\n",
    "    class_1 = df_final['classification.1'][index]\n",
    "    class_2 = df_final['classification.2'][index]\n",
    "    class_3 = df_final['classification.3'][index]\n",
    "    \n",
    "    if class_1 and class_2 and class_3 == 'n/a':\n",
    "        avg_list = 'n/a'\n",
    "        return avg_list\n",
    "    elif class_2 and class_3 == 'n/a':\n",
    "        avg_list = [class_1]\n",
    "    elif class_3 == 'n/a':\n",
    "        avg_list = [class_1, class_2]\n",
    "    else:\n",
    "        avg_list = [class_1, class_2, class_3]\n",
    "    avg_classification = sum(avg_list)/len(avg_list)\n",
    "    if avg_classification < 0.5:\n",
    "        avg_sentiment = 0\n",
    "    else:\n",
    "        avg_sentiment = 1\n",
    "    return avg_sentiment"
   ]
  },
  {
   "cell_type": "code",
   "execution_count": 345,
   "metadata": {},
   "outputs": [],
   "source": [
    "avg_sentiment_list = []\n",
    "for index in range(0,len(df_final)):\n",
    "    avg_sentiment = find_avg_sentiment(index)\n",
    "    avg_sentiment_list.append(avg_sentiment)\n",
    "df_final['avg_sentiment'] = avg_sentiment_list"
   ]
  },
  {
   "cell_type": "code",
   "execution_count": 346,
   "metadata": {},
   "outputs": [
    {
     "data": {
      "text/html": [
       "<div>\n",
       "<style scoped>\n",
       "    .dataframe tbody tr th:only-of-type {\n",
       "        vertical-align: middle;\n",
       "    }\n",
       "\n",
       "    .dataframe tbody tr th {\n",
       "        vertical-align: top;\n",
       "    }\n",
       "\n",
       "    .dataframe thead th {\n",
       "        text-align: right;\n",
       "    }\n",
       "</style>\n",
       "<table border=\"1\" class=\"dataframe\">\n",
       "  <thead>\n",
       "    <tr style=\"text-align: right;\">\n",
       "      <th></th>\n",
       "      <th>created_at</th>\n",
       "      <th>tweet_content</th>\n",
       "      <th>keyword</th>\n",
       "      <th>user_location</th>\n",
       "      <th>classification.1</th>\n",
       "      <th>classification.2</th>\n",
       "      <th>classification.3</th>\n",
       "      <th>created_at.1</th>\n",
       "      <th>created_at.2</th>\n",
       "      <th>created_at.3</th>\n",
       "      <th>hashtags</th>\n",
       "      <th>symbols</th>\n",
       "      <th>urls</th>\n",
       "      <th>user_mentions</th>\n",
       "      <th>avg_sentiment</th>\n",
       "    </tr>\n",
       "  </thead>\n",
       "  <tbody>\n",
       "    <tr>\n",
       "      <th>0</th>\n",
       "      <td>2021-05-04 12:30:48</td>\n",
       "      <td>mds nubank nunca libera mais limite pra mim</td>\n",
       "      <td>['Nubank']</td>\n",
       "      <td>Goiânia</td>\n",
       "      <td>0</td>\n",
       "      <td>0</td>\n",
       "      <td>1</td>\n",
       "      <td>2021-05-10T12:49:58.805Z</td>\n",
       "      <td>2021-05-10T13:27:53.365Z</td>\n",
       "      <td>2021-05-10T13:35:27.396Z</td>\n",
       "      <td>[]</td>\n",
       "      <td>[]</td>\n",
       "      <td>[]</td>\n",
       "      <td>[]</td>\n",
       "      <td>0</td>\n",
       "    </tr>\n",
       "    <tr>\n",
       "      <th>1</th>\n",
       "      <td>2021-05-04 12:31:09</td>\n",
       "      <td>mais viciado que a bateria do meu celular só e...</td>\n",
       "      <td>['Coca-cola']</td>\n",
       "      <td>Balneário Camboriú</td>\n",
       "      <td>0</td>\n",
       "      <td>1</td>\n",
       "      <td>1</td>\n",
       "      <td>2021-05-10T12:43:36.439Z</td>\n",
       "      <td>2021-05-10T12:50:50.683Z</td>\n",
       "      <td>2021-05-10T13:03:11.475Z</td>\n",
       "      <td>[]</td>\n",
       "      <td>[]</td>\n",
       "      <td>[]</td>\n",
       "      <td>[]</td>\n",
       "      <td>1</td>\n",
       "    </tr>\n",
       "    <tr>\n",
       "      <th>2</th>\n",
       "      <td>2021-05-04 12:31:27</td>\n",
       "      <td>toda vez que vejo Nubank nos tt vou lá conferi...</td>\n",
       "      <td>['Nubank']</td>\n",
       "      <td>None</td>\n",
       "      <td>0</td>\n",
       "      <td>0</td>\n",
       "      <td>1</td>\n",
       "      <td>2021-05-10T12:38:50.850Z</td>\n",
       "      <td>2021-05-10T12:44:02.691Z</td>\n",
       "      <td>2021-05-10T12:50:28.829Z</td>\n",
       "      <td>[]</td>\n",
       "      <td>[]</td>\n",
       "      <td>[]</td>\n",
       "      <td>[]</td>\n",
       "      <td>0</td>\n",
       "    </tr>\n",
       "    <tr>\n",
       "      <th>3</th>\n",
       "      <td>2021-05-04 12:31:25</td>\n",
       "      <td>Pedi 10k de limite pra Nubank serasi?</td>\n",
       "      <td>['Nubank']</td>\n",
       "      <td>Rio de Janeiro, Brasil</td>\n",
       "      <td>1</td>\n",
       "      <td>1</td>\n",
       "      <td>1</td>\n",
       "      <td>2021-05-10T12:55:20.472Z</td>\n",
       "      <td>2021-05-10T13:04:07.714Z</td>\n",
       "      <td>2021-05-10T13:28:58.268Z</td>\n",
       "      <td>[]</td>\n",
       "      <td>[]</td>\n",
       "      <td>[]</td>\n",
       "      <td>[]</td>\n",
       "      <td>1</td>\n",
       "    </tr>\n",
       "    <tr>\n",
       "      <th>4</th>\n",
       "      <td>2021-05-04 12:31:20</td>\n",
       "      <td>@kayofeer @nubank Aconteceu isso c a minha mãe...</td>\n",
       "      <td>['Nubank']</td>\n",
       "      <td>Macaé, Brasil</td>\n",
       "      <td>0</td>\n",
       "      <td>1</td>\n",
       "      <td>1</td>\n",
       "      <td>2021-05-10T12:43:09.739Z</td>\n",
       "      <td>2021-05-10T13:01:14.481Z</td>\n",
       "      <td>2021-05-10T13:31:31.120Z</td>\n",
       "      <td>[]</td>\n",
       "      <td>[]</td>\n",
       "      <td>[]</td>\n",
       "      <td>[{'screen_name': 'kayofeer', 'name': 'Kayo', '...</td>\n",
       "      <td>1</td>\n",
       "    </tr>\n",
       "  </tbody>\n",
       "</table>\n",
       "</div>"
      ],
      "text/plain": [
       "            created_at                                      tweet_content  \\\n",
       "0  2021-05-04 12:30:48        mds nubank nunca libera mais limite pra mim   \n",
       "1  2021-05-04 12:31:09  mais viciado que a bateria do meu celular só e...   \n",
       "2  2021-05-04 12:31:27  toda vez que vejo Nubank nos tt vou lá conferi...   \n",
       "3  2021-05-04 12:31:25              Pedi 10k de limite pra Nubank serasi?   \n",
       "4  2021-05-04 12:31:20  @kayofeer @nubank Aconteceu isso c a minha mãe...   \n",
       "\n",
       "         keyword           user_location classification.1 classification.2  \\\n",
       "0     ['Nubank']                 Goiânia                0                0   \n",
       "1  ['Coca-cola']      Balneário Camboriú                0                1   \n",
       "2     ['Nubank']                    None                0                0   \n",
       "3     ['Nubank']  Rio de Janeiro, Brasil                1                1   \n",
       "4     ['Nubank']           Macaé, Brasil                0                1   \n",
       "\n",
       "  classification.3              created_at.1              created_at.2  \\\n",
       "0                1  2021-05-10T12:49:58.805Z  2021-05-10T13:27:53.365Z   \n",
       "1                1  2021-05-10T12:43:36.439Z  2021-05-10T12:50:50.683Z   \n",
       "2                1  2021-05-10T12:38:50.850Z  2021-05-10T12:44:02.691Z   \n",
       "3                1  2021-05-10T12:55:20.472Z  2021-05-10T13:04:07.714Z   \n",
       "4                1  2021-05-10T12:43:09.739Z  2021-05-10T13:01:14.481Z   \n",
       "\n",
       "               created_at.3 hashtags symbols urls  \\\n",
       "0  2021-05-10T13:35:27.396Z       []      []   []   \n",
       "1  2021-05-10T13:03:11.475Z       []      []   []   \n",
       "2  2021-05-10T12:50:28.829Z       []      []   []   \n",
       "3  2021-05-10T13:28:58.268Z       []      []   []   \n",
       "4  2021-05-10T13:31:31.120Z       []      []   []   \n",
       "\n",
       "                                       user_mentions avg_sentiment  \n",
       "0                                                 []             0  \n",
       "1                                                 []             1  \n",
       "2                                                 []             0  \n",
       "3                                                 []             1  \n",
       "4  [{'screen_name': 'kayofeer', 'name': 'Kayo', '...             1  "
      ]
     },
     "execution_count": 346,
     "metadata": {},
     "output_type": "execute_result"
    }
   ],
   "source": [
    "df_final.head()"
   ]
  },
  {
   "cell_type": "code",
   "execution_count": 347,
   "metadata": {},
   "outputs": [
    {
     "data": {
      "text/plain": [
       "(738, 15)"
      ]
     },
     "execution_count": 347,
     "metadata": {},
     "output_type": "execute_result"
    }
   ],
   "source": [
    "df_final.shape"
   ]
  },
  {
   "cell_type": "code",
   "execution_count": 361,
   "metadata": {},
   "outputs": [
    {
     "data": {
      "text/plain": [
       "2"
      ]
     },
     "execution_count": 361,
     "metadata": {},
     "output_type": "execute_result"
    }
   ],
   "source": [
    "df_final['avg_sentiment'].nunique()"
   ]
  },
  {
   "cell_type": "code",
   "execution_count": 350,
   "metadata": {},
   "outputs": [
    {
     "data": {
      "text/plain": [
       "array([0, 1, 'n/a'], dtype=object)"
      ]
     },
     "execution_count": 350,
     "metadata": {},
     "output_type": "execute_result"
    }
   ],
   "source": [
    "df_final['avg_sentiment'].unique()"
   ]
  },
  {
   "cell_type": "code",
   "execution_count": 351,
   "metadata": {},
   "outputs": [],
   "source": [
    "df_avg_sentiment = pd.DataFrame()"
   ]
  },
  {
   "cell_type": "code",
   "execution_count": 352,
   "metadata": {},
   "outputs": [],
   "source": [
    "df_avg_sentiment = df_final"
   ]
  },
  {
   "cell_type": "code",
   "execution_count": 354,
   "metadata": {},
   "outputs": [],
   "source": [
    "indexNames = df_avg_sentiment[(df_avg_sentiment['avg_sentiment'] == 'n/a')].index\n",
    "df_avg_sentiment.drop(indexNames , inplace=True)"
   ]
  },
  {
   "cell_type": "code",
   "execution_count": 355,
   "metadata": {},
   "outputs": [
    {
     "data": {
      "text/plain": [
       "(550, 15)"
      ]
     },
     "execution_count": 355,
     "metadata": {},
     "output_type": "execute_result"
    }
   ],
   "source": [
    "df_avg_sentiment.shape"
   ]
  },
  {
   "cell_type": "code",
   "execution_count": 356,
   "metadata": {},
   "outputs": [
    {
     "data": {
      "text/html": [
       "<div>\n",
       "<style scoped>\n",
       "    .dataframe tbody tr th:only-of-type {\n",
       "        vertical-align: middle;\n",
       "    }\n",
       "\n",
       "    .dataframe tbody tr th {\n",
       "        vertical-align: top;\n",
       "    }\n",
       "\n",
       "    .dataframe thead th {\n",
       "        text-align: right;\n",
       "    }\n",
       "</style>\n",
       "<table border=\"1\" class=\"dataframe\">\n",
       "  <thead>\n",
       "    <tr style=\"text-align: right;\">\n",
       "      <th></th>\n",
       "      <th>created_at</th>\n",
       "      <th>tweet_content</th>\n",
       "      <th>keyword</th>\n",
       "      <th>user_location</th>\n",
       "      <th>classification.1</th>\n",
       "      <th>classification.2</th>\n",
       "      <th>classification.3</th>\n",
       "      <th>created_at.1</th>\n",
       "      <th>created_at.2</th>\n",
       "      <th>created_at.3</th>\n",
       "      <th>hashtags</th>\n",
       "      <th>symbols</th>\n",
       "      <th>urls</th>\n",
       "      <th>user_mentions</th>\n",
       "      <th>avg_sentiment</th>\n",
       "    </tr>\n",
       "  </thead>\n",
       "  <tbody>\n",
       "    <tr>\n",
       "      <th>0</th>\n",
       "      <td>2021-05-04 12:30:48</td>\n",
       "      <td>mds nubank nunca libera mais limite pra mim</td>\n",
       "      <td>['Nubank']</td>\n",
       "      <td>Goiânia</td>\n",
       "      <td>0</td>\n",
       "      <td>0</td>\n",
       "      <td>1</td>\n",
       "      <td>2021-05-10T12:49:58.805Z</td>\n",
       "      <td>2021-05-10T13:27:53.365Z</td>\n",
       "      <td>2021-05-10T13:35:27.396Z</td>\n",
       "      <td>[]</td>\n",
       "      <td>[]</td>\n",
       "      <td>[]</td>\n",
       "      <td>[]</td>\n",
       "      <td>0</td>\n",
       "    </tr>\n",
       "    <tr>\n",
       "      <th>1</th>\n",
       "      <td>2021-05-04 12:31:09</td>\n",
       "      <td>mais viciado que a bateria do meu celular só e...</td>\n",
       "      <td>['Coca-cola']</td>\n",
       "      <td>Balneário Camboriú</td>\n",
       "      <td>0</td>\n",
       "      <td>1</td>\n",
       "      <td>1</td>\n",
       "      <td>2021-05-10T12:43:36.439Z</td>\n",
       "      <td>2021-05-10T12:50:50.683Z</td>\n",
       "      <td>2021-05-10T13:03:11.475Z</td>\n",
       "      <td>[]</td>\n",
       "      <td>[]</td>\n",
       "      <td>[]</td>\n",
       "      <td>[]</td>\n",
       "      <td>1</td>\n",
       "    </tr>\n",
       "    <tr>\n",
       "      <th>2</th>\n",
       "      <td>2021-05-04 12:31:27</td>\n",
       "      <td>toda vez que vejo Nubank nos tt vou lá conferi...</td>\n",
       "      <td>['Nubank']</td>\n",
       "      <td>None</td>\n",
       "      <td>0</td>\n",
       "      <td>0</td>\n",
       "      <td>1</td>\n",
       "      <td>2021-05-10T12:38:50.850Z</td>\n",
       "      <td>2021-05-10T12:44:02.691Z</td>\n",
       "      <td>2021-05-10T12:50:28.829Z</td>\n",
       "      <td>[]</td>\n",
       "      <td>[]</td>\n",
       "      <td>[]</td>\n",
       "      <td>[]</td>\n",
       "      <td>0</td>\n",
       "    </tr>\n",
       "    <tr>\n",
       "      <th>3</th>\n",
       "      <td>2021-05-04 12:31:25</td>\n",
       "      <td>Pedi 10k de limite pra Nubank serasi?</td>\n",
       "      <td>['Nubank']</td>\n",
       "      <td>Rio de Janeiro, Brasil</td>\n",
       "      <td>1</td>\n",
       "      <td>1</td>\n",
       "      <td>1</td>\n",
       "      <td>2021-05-10T12:55:20.472Z</td>\n",
       "      <td>2021-05-10T13:04:07.714Z</td>\n",
       "      <td>2021-05-10T13:28:58.268Z</td>\n",
       "      <td>[]</td>\n",
       "      <td>[]</td>\n",
       "      <td>[]</td>\n",
       "      <td>[]</td>\n",
       "      <td>1</td>\n",
       "    </tr>\n",
       "    <tr>\n",
       "      <th>4</th>\n",
       "      <td>2021-05-04 12:31:20</td>\n",
       "      <td>@kayofeer @nubank Aconteceu isso c a minha mãe...</td>\n",
       "      <td>['Nubank']</td>\n",
       "      <td>Macaé, Brasil</td>\n",
       "      <td>0</td>\n",
       "      <td>1</td>\n",
       "      <td>1</td>\n",
       "      <td>2021-05-10T12:43:09.739Z</td>\n",
       "      <td>2021-05-10T13:01:14.481Z</td>\n",
       "      <td>2021-05-10T13:31:31.120Z</td>\n",
       "      <td>[]</td>\n",
       "      <td>[]</td>\n",
       "      <td>[]</td>\n",
       "      <td>[{'screen_name': 'kayofeer', 'name': 'Kayo', '...</td>\n",
       "      <td>1</td>\n",
       "    </tr>\n",
       "  </tbody>\n",
       "</table>\n",
       "</div>"
      ],
      "text/plain": [
       "            created_at                                      tweet_content  \\\n",
       "0  2021-05-04 12:30:48        mds nubank nunca libera mais limite pra mim   \n",
       "1  2021-05-04 12:31:09  mais viciado que a bateria do meu celular só e...   \n",
       "2  2021-05-04 12:31:27  toda vez que vejo Nubank nos tt vou lá conferi...   \n",
       "3  2021-05-04 12:31:25              Pedi 10k de limite pra Nubank serasi?   \n",
       "4  2021-05-04 12:31:20  @kayofeer @nubank Aconteceu isso c a minha mãe...   \n",
       "\n",
       "         keyword           user_location classification.1 classification.2  \\\n",
       "0     ['Nubank']                 Goiânia                0                0   \n",
       "1  ['Coca-cola']      Balneário Camboriú                0                1   \n",
       "2     ['Nubank']                    None                0                0   \n",
       "3     ['Nubank']  Rio de Janeiro, Brasil                1                1   \n",
       "4     ['Nubank']           Macaé, Brasil                0                1   \n",
       "\n",
       "  classification.3              created_at.1              created_at.2  \\\n",
       "0                1  2021-05-10T12:49:58.805Z  2021-05-10T13:27:53.365Z   \n",
       "1                1  2021-05-10T12:43:36.439Z  2021-05-10T12:50:50.683Z   \n",
       "2                1  2021-05-10T12:38:50.850Z  2021-05-10T12:44:02.691Z   \n",
       "3                1  2021-05-10T12:55:20.472Z  2021-05-10T13:04:07.714Z   \n",
       "4                1  2021-05-10T12:43:09.739Z  2021-05-10T13:01:14.481Z   \n",
       "\n",
       "               created_at.3 hashtags symbols urls  \\\n",
       "0  2021-05-10T13:35:27.396Z       []      []   []   \n",
       "1  2021-05-10T13:03:11.475Z       []      []   []   \n",
       "2  2021-05-10T12:50:28.829Z       []      []   []   \n",
       "3  2021-05-10T13:28:58.268Z       []      []   []   \n",
       "4  2021-05-10T13:31:31.120Z       []      []   []   \n",
       "\n",
       "                                       user_mentions avg_sentiment  \n",
       "0                                                 []             0  \n",
       "1                                                 []             1  \n",
       "2                                                 []             0  \n",
       "3                                                 []             1  \n",
       "4  [{'screen_name': 'kayofeer', 'name': 'Kayo', '...             1  "
      ]
     },
     "execution_count": 356,
     "metadata": {},
     "output_type": "execute_result"
    }
   ],
   "source": [
    "df_avg_sentiment.head()"
   ]
  },
  {
   "cell_type": "code",
   "execution_count": 358,
   "metadata": {},
   "outputs": [
    {
     "data": {
      "text/plain": [
       "array([0, 1], dtype=object)"
      ]
     },
     "execution_count": 358,
     "metadata": {},
     "output_type": "execute_result"
    }
   ],
   "source": [
    "df_avg_sentiment['avg_sentiment'].unique()"
   ]
  },
  {
   "cell_type": "code",
   "execution_count": 363,
   "metadata": {},
   "outputs": [],
   "source": [
    "df_avg_sentiment['avg_sentiment'] = df_avg_sentiment['avg_sentiment'].astype(int)"
   ]
  },
  {
   "cell_type": "code",
   "execution_count": 364,
   "metadata": {},
   "outputs": [
    {
     "data": {
      "image/png": "[encoded data removed]",
      "text/plain": [
       "<Figure size 432x288 with 1 Axes>"
      ]
     },
     "metadata": {
      "needs_background": "light"
     },
     "output_type": "display_data"
    }
   ],
   "source": [
    "sns.countplot(x=\"avg_sentiment\", data=df_avg_sentiment)\n",
    "plt.show()"
   ]
  },
  {
   "cell_type": "code",
   "execution_count": 366,
   "metadata": {},
   "outputs": [
    {
     "data": {
      "text/plain": [
       "array([\"['Nubank']\", \"['Coca-cola']\", \"['Nike']\", \"['Xiaomi']\",\n",
       "       \"['Coca cola']\", \"['SHEIN']\", '[]', \"['Boticário']\",\n",
       "       \"['Nike', 'SHEIN']\"], dtype=object)"
      ]
     },
     "execution_count": 366,
     "metadata": {},
     "output_type": "execute_result"
    }
   ],
   "source": [
    "df_avg_sentiment['keyword'].unique()"
   ]
  },
  {
   "cell_type": "code",
   "execution_count": 373,
   "metadata": {},
   "outputs": [
    {
     "data": {
      "text/plain": [
       "Index(['created_at', 'tweet_content', 'keyword', 'user_location',\n",
       "       'classification.1', 'classification.2', 'classification.3',\n",
       "       'created_at.1', 'created_at.2', 'created_at.3', 'hashtags', 'symbols',\n",
       "       'urls', 'user_mentions', 'avg_sentiment'],\n",
       "      dtype='object')"
      ]
     },
     "execution_count": 373,
     "metadata": {},
     "output_type": "execute_result"
    }
   ],
   "source": [
    "df_avg_sentiment.columns"
   ]
  },
  {
   "cell_type": "code",
   "execution_count": 375,
   "metadata": {},
   "outputs": [],
   "source": [
    "df_avg_sentiment = df_avg_sentiment[['created_at', 'tweet_content', 'keyword', 'user_location', 'hashtags', 'symbols', 'urls', 'user_mentions', 'avg_sentiment']]"
   ]
  },
  {
   "cell_type": "code",
   "execution_count": 376,
   "metadata": {},
   "outputs": [
    {
     "data": {
      "text/html": [
       "<div>\n",
       "<style scoped>\n",
       "    .dataframe tbody tr th:only-of-type {\n",
       "        vertical-align: middle;\n",
       "    }\n",
       "\n",
       "    .dataframe tbody tr th {\n",
       "        vertical-align: top;\n",
       "    }\n",
       "\n",
       "    .dataframe thead th {\n",
       "        text-align: right;\n",
       "    }\n",
       "</style>\n",
       "<table border=\"1\" class=\"dataframe\">\n",
       "  <thead>\n",
       "    <tr style=\"text-align: right;\">\n",
       "      <th></th>\n",
       "      <th>created_at</th>\n",
       "      <th>tweet_content</th>\n",
       "      <th>keyword</th>\n",
       "      <th>user_location</th>\n",
       "      <th>hashtags</th>\n",
       "      <th>symbols</th>\n",
       "      <th>urls</th>\n",
       "      <th>user_mentions</th>\n",
       "      <th>avg_sentiment</th>\n",
       "    </tr>\n",
       "  </thead>\n",
       "  <tbody>\n",
       "    <tr>\n",
       "      <th>0</th>\n",
       "      <td>2021-05-04 12:30:48</td>\n",
       "      <td>mds nubank nunca libera mais limite pra mim</td>\n",
       "      <td>['Nubank']</td>\n",
       "      <td>Goiânia</td>\n",
       "      <td>[]</td>\n",
       "      <td>[]</td>\n",
       "      <td>[]</td>\n",
       "      <td>[]</td>\n",
       "      <td>0</td>\n",
       "    </tr>\n",
       "    <tr>\n",
       "      <th>1</th>\n",
       "      <td>2021-05-04 12:31:09</td>\n",
       "      <td>mais viciado que a bateria do meu celular só e...</td>\n",
       "      <td>['Coca-cola']</td>\n",
       "      <td>Balneário Camboriú</td>\n",
       "      <td>[]</td>\n",
       "      <td>[]</td>\n",
       "      <td>[]</td>\n",
       "      <td>[]</td>\n",
       "      <td>1</td>\n",
       "    </tr>\n",
       "    <tr>\n",
       "      <th>2</th>\n",
       "      <td>2021-05-04 12:31:27</td>\n",
       "      <td>toda vez que vejo Nubank nos tt vou lá conferi...</td>\n",
       "      <td>['Nubank']</td>\n",
       "      <td>None</td>\n",
       "      <td>[]</td>\n",
       "      <td>[]</td>\n",
       "      <td>[]</td>\n",
       "      <td>[]</td>\n",
       "      <td>0</td>\n",
       "    </tr>\n",
       "    <tr>\n",
       "      <th>3</th>\n",
       "      <td>2021-05-04 12:31:25</td>\n",
       "      <td>Pedi 10k de limite pra Nubank serasi?</td>\n",
       "      <td>['Nubank']</td>\n",
       "      <td>Rio de Janeiro, Brasil</td>\n",
       "      <td>[]</td>\n",
       "      <td>[]</td>\n",
       "      <td>[]</td>\n",
       "      <td>[]</td>\n",
       "      <td>1</td>\n",
       "    </tr>\n",
       "    <tr>\n",
       "      <th>4</th>\n",
       "      <td>2021-05-04 12:31:20</td>\n",
       "      <td>@kayofeer @nubank Aconteceu isso c a minha mãe...</td>\n",
       "      <td>['Nubank']</td>\n",
       "      <td>Macaé, Brasil</td>\n",
       "      <td>[]</td>\n",
       "      <td>[]</td>\n",
       "      <td>[]</td>\n",
       "      <td>[{'screen_name': 'kayofeer', 'name': 'Kayo', '...</td>\n",
       "      <td>1</td>\n",
       "    </tr>\n",
       "  </tbody>\n",
       "</table>\n",
       "</div>"
      ],
      "text/plain": [
       "            created_at                                      tweet_content  \\\n",
       "0  2021-05-04 12:30:48        mds nubank nunca libera mais limite pra mim   \n",
       "1  2021-05-04 12:31:09  mais viciado que a bateria do meu celular só e...   \n",
       "2  2021-05-04 12:31:27  toda vez que vejo Nubank nos tt vou lá conferi...   \n",
       "3  2021-05-04 12:31:25              Pedi 10k de limite pra Nubank serasi?   \n",
       "4  2021-05-04 12:31:20  @kayofeer @nubank Aconteceu isso c a minha mãe...   \n",
       "\n",
       "         keyword           user_location hashtags symbols urls  \\\n",
       "0     ['Nubank']                 Goiânia       []      []   []   \n",
       "1  ['Coca-cola']      Balneário Camboriú       []      []   []   \n",
       "2     ['Nubank']                    None       []      []   []   \n",
       "3     ['Nubank']  Rio de Janeiro, Brasil       []      []   []   \n",
       "4     ['Nubank']           Macaé, Brasil       []      []   []   \n",
       "\n",
       "                                       user_mentions  avg_sentiment  \n",
       "0                                                 []              0  \n",
       "1                                                 []              1  \n",
       "2                                                 []              0  \n",
       "3                                                 []              1  \n",
       "4  [{'screen_name': 'kayofeer', 'name': 'Kayo', '...              1  "
      ]
     },
     "execution_count": 376,
     "metadata": {},
     "output_type": "execute_result"
    }
   ],
   "source": [
    "df_avg_sentiment.head()"
   ]
  },
  {
   "cell_type": "code",
   "execution_count": 378,
   "metadata": {},
   "outputs": [
    {
     "data": {
      "text/plain": [
       "(550, 9)"
      ]
     },
     "execution_count": 378,
     "metadata": {},
     "output_type": "execute_result"
    }
   ],
   "source": [
    "df_avg_sentiment.shape"
   ]
  },
  {
   "cell_type": "code",
   "execution_count": 381,
   "metadata": {},
   "outputs": [
    {
     "data": {
      "text/plain": [
       "<AxesSubplot:>"
      ]
     },
     "execution_count": 381,
     "metadata": {},
     "output_type": "execute_result"
    },
    {
     "data": {
      "image/png": "[encoded data removed]",
      "text/plain": [
       "<Figure size 432x288 with 1 Axes>"
      ]
     },
     "metadata": {
      "needs_background": "light"
     },
     "output_type": "display_data"
    }
   ],
   "source": [
    "# Quantidade de caracteres por tweet\n",
    "df_avg_sentiment['tweet_content'].str.len().hist()\n",
    "\n",
    "# A maioria está entre 15 e 150 caracteres"
   ]
  },
  {
   "cell_type": "code",
   "execution_count": 383,
   "metadata": {},
   "outputs": [],
   "source": [
    "def plot_word_number_histogram(text):\n",
    "    text.str.split().\\\n",
    "        map(lambda x: len(x)).\\\n",
    "        hist()"
   ]
  },
  {
   "cell_type": "code",
   "execution_count": 385,
   "metadata": {},
   "outputs": [
    {
     "data": {
      "image/png": "[encoded data removed]",
      "text/plain": [
       "<Figure size 432x288 with 1 Axes>"
      ]
     },
     "metadata": {
      "needs_background": "light"
     },
     "output_type": "display_data"
    }
   ],
   "source": [
    "# Quantidade de palavras por tweet\n",
    "plot_word_number_histogram(df_avg_sentiment['tweet_content'])\n",
    "\n",
    "# A maioria está entre 2 a 25 palavras"
   ]
  },
  {
   "cell_type": "code",
   "execution_count": 386,
   "metadata": {},
   "outputs": [],
   "source": [
    "def plot_average_word_lenght(text):\n",
    "    text.str.split().\\\n",
    "        apply(lambda x : [len(i) for i in x]). \\\n",
    "        map(lambda x: np.mean(x)).hist()"
   ]
  },
  {
   "cell_type": "code",
   "execution_count": 388,
   "metadata": {},
   "outputs": [
    {
     "data": {
      "image/png": "[encoded data removed]",
      "text/plain": [
       "<Figure size 432x288 with 1 Axes>"
      ]
     },
     "metadata": {
      "needs_background": "light"
     },
     "output_type": "display_data"
    }
   ],
   "source": [
    "# Tamanho médio das palavras nos tweets\n",
    "plot_average_word_lenght(df_avg_sentiment['tweet_content'])"
   ]
  },
  {
   "cell_type": "code",
   "execution_count": 389,
   "metadata": {},
   "outputs": [],
   "source": [
    "# Removendo stop words\n",
    "import nltk"
   ]
  },
  {
   "cell_type": "code",
   "execution_count": 391,
   "metadata": {},
   "outputs": [
    {
     "name": "stderr",
     "output_type": "stream",
     "text": [
      "[nltk_data] Downloading package stopwords to\n",
      "[nltk_data]     /home/fabianagarcia/nltk_data...\n",
      "[nltk_data]   Package stopwords is already up-to-date!\n"
     ]
    },
    {
     "data": {
      "text/plain": [
       "True"
      ]
     },
     "execution_count": 391,
     "metadata": {},
     "output_type": "execute_result"
    }
   ],
   "source": [
    "nltk.download('stopwords')"
   ]
  },
  {
   "cell_type": "code",
   "execution_count": 425,
   "metadata": {},
   "outputs": [],
   "source": [
    "from nltk.corpus import stopwords\n",
    "stop=set(stopwords.words('portuguese'))\n",
    "custom_stop=['pra', 'q', 'tá']"
   ]
  },
  {
   "cell_type": "code",
   "execution_count": 426,
   "metadata": {},
   "outputs": [],
   "source": [
    "# Top Stopwords\n",
    "\n",
    "import matplotlib.pyplot as plt\n",
    "import numpy as np\n",
    "\n",
    "def plot_top_stopwords_barchart(text):\n",
    "   \n",
    "    palavras = text.str.split()\n",
    "    palavras = palavras.values.tolist()\n",
    "    corpus = [palavra for i in palavras for palavra in i]\n",
    "    from collections import defaultdict\n",
    "    dic = defaultdict(int)\n",
    "    for palavra in corpus:\n",
    "        if palavra in stop:\n",
    "            dic[palavra] += 1\n",
    "        if palavra in custom_stop:\n",
    "            dic[palavra] += 1\n",
    "            \n",
    "    top = sorted(dic.items(), key=lambda x:x[1], reverse=True)[:10] \n",
    "    x,y = zip(*top)\n",
    "    plt.bar(x,y)"
   ]
  },
  {
   "cell_type": "code",
   "execution_count": 427,
   "metadata": {},
   "outputs": [
    {
     "data": {
      "image/png": "[encoded data removed]",
      "text/plain": [
       "<Figure size 432x288 with 1 Axes>"
      ]
     },
     "metadata": {
      "needs_background": "light"
     },
     "output_type": "display_data"
    }
   ],
   "source": [
    "plot_top_stopwords_barchart(df_avg_sentiment['tweet_content'])"
   ]
  },
  {
   "cell_type": "code",
   "execution_count": 442,
   "metadata": {},
   "outputs": [],
   "source": [
    "# Top Non Stopwords\n",
    "\n",
    "import seaborn as sns\n",
    "from collections import Counter\n",
    "\n",
    "def plot_top_non_stopwords_barchart(text):\n",
    "    \n",
    "    palavras = text.str.split()\n",
    "    palavras = palavras.values.tolist()\n",
    "    corpus = [palavra.lower() for i in palavras for palavra in i]\n",
    "\n",
    "    counter = Counter(corpus)\n",
    "    most = counter.most_common()\n",
    "    x,y = [],[]\n",
    "    for palavra, count in most[:40]:\n",
    "        if (palavra not in stop) and (palavra not in custom_stop):\n",
    "            x.append(palavra)\n",
    "            y.append(count)\n",
    "            \n",
    "    fig, ax = plt.subplots(figsize=(10,15))  \n",
    "    sns.barplot(x=y,y=x,ax=ax)"
   ]
  },
  {
   "cell_type": "code",
   "execution_count": 443,
   "metadata": {},
   "outputs": [
    {
     "data": {
      "image/png": "[encoded data removed]",
      "text/plain": [
       "<Figure size 720x1080 with 1 Axes>"
      ]
     },
     "metadata": {
      "needs_background": "light"
     },
     "output_type": "display_data"
    }
   ],
   "source": [
    "plot_top_non_stopwords_barchart(df_avg_sentiment['tweet_content'])"
   ]
  },
  {
   "cell_type": "code",
   "execution_count": 419,
   "metadata": {},
   "outputs": [],
   "source": []
  },
  {
   "cell_type": "code",
   "execution_count": null,
   "metadata": {},
   "outputs": [],
   "source": []
  },
  {
   "cell_type": "code",
   "execution_count": null,
   "metadata": {},
   "outputs": [],
   "source": []
  }
 ],
 "metadata": {
  "kernelspec": {
   "display_name": "Python 3",
   "language": "python",
   "name": "python3"
  },
  "language_info": {
   "codemirror_mode": {
    "name": "ipython",
    "version": 3
   },
   "file_extension": ".py",
   "mimetype": "text/x-python",
   "name": "python",
   "nbconvert_exporter": "python",
   "pygments_lexer": "ipython3",
   "version": "3.8.5"
  }
 },
 "nbformat": 4,
 "nbformat_minor": 4
}
